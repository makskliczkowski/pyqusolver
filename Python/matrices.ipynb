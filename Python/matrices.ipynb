{
 "cells": [
  {
   "cell_type": "code",
   "execution_count": 1,
   "metadata": {},
   "outputs": [
    {
     "name": "stderr",
     "output_type": "stream",
     "text": [
      "C:\\Users\\maxgr\\anaconda3\\lib\\site-packages\\tenpy\\tools\\optimization.py:307: UserWarning: Couldn't load compiled cython code. Code will run a bit slower.\n",
      "  warnings.warn(\"Couldn't load compiled cython code. Code will run a bit slower.\")\n"
     ]
    },
    {
     "data": {
      "text/plain": [
       "['.\\\\random_matrices\\\\entropies_134596.dat',\n",
       " '.\\\\random_matrices\\\\entropies_168056.dat',\n",
       " '.\\\\random_matrices\\\\entropies_304420.dat',\n",
       " '.\\\\random_matrices\\\\entropies_351553.dat',\n",
       " '.\\\\random_matrices\\\\entropies_505441.dat',\n",
       " '.\\\\random_matrices\\\\entropies_679152.dat',\n",
       " '.\\\\random_matrices\\\\entropies_679304.dat',\n",
       " '.\\\\random_matrices\\\\entropies_689349.dat',\n",
       " '.\\\\random_matrices\\\\entropies_717411.dat',\n",
       " '.\\\\random_matrices\\\\entropies_718793.dat',\n",
       " '.\\\\random_matrices\\\\entropies_746504.dat',\n",
       " '.\\\\random_matrices\\\\entropies_807654.dat',\n",
       " '.\\\\random_matrices\\\\entropies_807662.dat',\n",
       " '.\\\\random_matrices\\\\entropies_829709.dat',\n",
       " '.\\\\random_matrices\\\\entropies_907354.dat',\n",
       " '.\\\\random_matrices\\\\entropies_955370.dat',\n",
       " '.\\\\random_matrices\\\\entropies_976176.dat']"
      ]
     },
     "execution_count": 1,
     "metadata": {},
     "output_type": "execute_result"
    }
   ],
   "source": [
    "import numpy as np\n",
    "import os \n",
    "import pandas as pd\n",
    "from matrices import *\n",
    "\n",
    "kPS = os.sep\n",
    "folder = os.curdir + kPS + 'random_matrices' + kPS\n",
    "\n",
    "entropies = list([folder + i for i in os.listdir(folder) if i.startswith('entropies_') and not i.startswith('entropies_var')])\n",
    "gauss = list([folder + i for i in os.listdir(folder) if i.startswith('gauss')])\n",
    "entropies_mat = list([folder+ i for i in os.listdir(folder) if i.startswith('m_entropies_') and not i.startswith('m_entropies_var')])\n",
    "gauss_mat = list([folder + i for i in os.listdir(folder) if i.startswith('m_gauss')])\n",
    "entropies"
   ]
  },
  {
   "cell_type": "code",
   "execution_count": 2,
   "metadata": {},
   "outputs": [
    {
     "name": "stdout",
     "output_type": "stream",
     "text": [
      "8 50\n",
      "10 50\n",
      "12 50\n",
      "14 50\n",
      "15 255\n",
      "8 50\n",
      "10 50\n",
      "12 50\n",
      "14 50\n",
      "15 100\n"
     ]
    },
    {
     "data": {
      "text/plain": [
       "(1e-08, 0.1)"
      ]
     },
     "execution_count": 2,
     "metadata": {},
     "output_type": "execute_result"
    },
    {
     "data": {
      "image/png": "[encoded data removed]",
      "text/plain": [
       "<Figure size 432x288 with 1 Axes>"
      ]
     },
     "metadata": {
      "needs_background": "light"
     },
     "output_type": "display_data"
    },
    {
     "data": {
      "image/png": "[encoded data removed]",
      "text/plain": [
       "<Figure size 432x288 with 1 Axes>"
      ]
     },
     "metadata": {
      "needs_background": "light"
     },
     "output_type": "display_data"
    }
   ],
   "source": [
    "entro = {\n",
    "    8 : [],\n",
    "    10 : [],\n",
    "    12 : [],\n",
    "    14 : [],\n",
    "    15 : [],\n",
    "}\n",
    "gausses = entro.copy()\n",
    "\n",
    "for ent in entropies:\n",
    "    df = pd.read_csv(ent, index_col=0)\n",
    "    for i, row in df.iterrows():\n",
    "        entro[i] = entro[i] + list(row)\n",
    "        \n",
    "    # print(df)\n",
    "    # \n",
    "prs = {L:page_result(2**(L//2), 2**(L//2)) for L in entro.keys()}\n",
    "\n",
    "for g in gauss:\n",
    "    df = pd.read_csv(g, index_col=0)\n",
    "    for i, row in df.iterrows():\n",
    "        gausses[i] = gausses[i] + list(row)  \n",
    "        \n",
    "# print(gausses)\n",
    "# ------------------------------------- MATRICES \n",
    "\n",
    "entro_m = {\n",
    "    8 : [],\n",
    "    10 : [],\n",
    "    12 : [],\n",
    "    14 : [],\n",
    "    15 : []\n",
    "}\n",
    "gausses_m = entro_m.copy()\n",
    "\n",
    "for ent in entropies_mat:\n",
    "    df = pd.read_csv(ent, index_col=0)\n",
    "    for i, row in df.iterrows():\n",
    "        entro_m[i] = entro_m[i] + list(row)\n",
    "        \n",
    "for g in gauss_mat:\n",
    "    df = pd.read_csv(g, index_col=0)\n",
    "    for i, row in df.iterrows():\n",
    "        gausses_m[i] = gausses_m[i] + list(row)\n",
    "        \n",
    "    # print(df)\n",
    "    # \n",
    "prs = {L:page_result(2**(L//2), 2**(L//2)) for L in entro.keys()}\n",
    "size = 50\n",
    "for L in entro.keys():\n",
    "    point = prs[L] - np.mean(np.random.choice(np.array(entro[L]).flatten(), size=size, replace=False))\n",
    "    # print(point)\n",
    "    np.save(folder + \"s_L=\" + str(L), np.array(entro[L]).flatten())\n",
    "    plt.scatter(1/(2**L), point, color = 'blue')\n",
    "\n",
    "for L in entro_m.keys():\n",
    "    point = prs[L] - np.mean(np.random.choice(np.array(entro_m[L]), size=size, replace=False))\n",
    "    # print(point)\n",
    "    np.save(folder + \"s_mat_L=\" + str(L), np.array(entro_m[L]).flatten())\n",
    "    plt.scatter(1/(2**L), point, color = 'red')\n",
    "    \n",
    "# plt.xlim(0, 0.15)\n",
    "# plt.ylim(0, 5e-2)\n",
    "plt.yscale('log')\n",
    "plt.xscale('log')\n",
    "plt.figure(2)\n",
    "\n",
    "# print(gausses)\n",
    "for L in gausses.keys():\n",
    "    point = np.abs(np.pi/2 - np.mean(gausses[L]))#np.mean(np.random.choice(np.array(gausses[L]).flatten(), size=size, replace=False))\n",
    "    print(L, len(gausses[L]))\n",
    "    np.save(folder + \"g_L=\" + str(L), np.array(gausses[L]).flatten())\n",
    "    if L == list(gausses_m.keys())[-1]:\n",
    "        plt.scatter(1/2**L, point, color = 'blue', label = 'gaussian')\n",
    "    else:\n",
    "        plt.scatter(1/2**L, point, color = 'blue')\n",
    "# print(gausses_m)\n",
    "for L in gausses_m.keys():\n",
    "    print(L, len(gausses_m[L]))\n",
    "\n",
    "    point = np.abs(np.pi/2 - np.mean(gausses_m[L]))#np.mean(np.random.choice(np.array(gausses_m[L]).flatten(), size=size, replace=False))\n",
    "    np.save(folder + \"g_mat_L=\" + str(L), np.array(gausses_m[L]).flatten())\n",
    "    # print(point)\n",
    "    if L == list(gausses_m.keys())[-1]:\n",
    "        plt.scatter(1/2**L, point, color = 'red', label = 'GOE')   \n",
    "    else:\n",
    "        plt.scatter(1/2**L, point, color = 'red')\n",
    "\n",
    "plt.plot(1.0/np.array([2**i for i in range(6, 20)]), 1.0/np.array([2**i for i in range(6, 20)]))\n",
    "plt.xscale('log')\n",
    "plt.yscale('log')\n",
    "plt.ylabel(r\"$\\Gamma _\\psi$\")\n",
    "plt.legend()\n",
    "# plt.xlim(0, 0.15)\n",
    "plt.ylim(1e-8, 1e-1)"
   ]
  },
  {
   "cell_type": "code",
   "execution_count": null,
   "metadata": {},
   "outputs": [],
   "source": []
  }
 ],
 "metadata": {
  "kernelspec": {
   "display_name": "base",
   "language": "python",
   "name": "python3"
  },
  "language_info": {
   "codemirror_mode": {
    "name": "ipython",
    "version": 3
   },
   "file_extension": ".py",
   "mimetype": "text/x-python",
   "name": "python",
   "nbconvert_exporter": "python",
   "pygments_lexer": "ipython3",
   "version": "3.9.7"
  },
  "orig_nbformat": 4,
  "vscode": {
   "interpreter": {
    "hash": "4fc8eee665007a42edd269303f37995bd64ca5eac7b16be98d3be7ead3c26aac"
   }
  }
 },
 "nbformat": 4,
 "nbformat_minor": 2
}
