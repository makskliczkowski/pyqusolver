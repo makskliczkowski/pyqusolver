{
 "cells": [
  {
   "cell_type": "code",
   "execution_count": 2,
   "metadata": {},
   "outputs": [
    {
     "name": "stdout",
     "output_type": "stream",
     "text": [
      "['Solarize_Light2', '_classic_test_patch', '_mpl-gallery', '_mpl-gallery-nogrid', 'bmh', 'classic', 'dark_background', 'fast', 'fivethirtyeight', 'ggplot', 'grayscale', 'seaborn', 'seaborn-bright', 'seaborn-colorblind', 'seaborn-dark', 'seaborn-dark-palette', 'seaborn-darkgrid', 'seaborn-deep', 'seaborn-muted', 'seaborn-notebook', 'seaborn-paper', 'seaborn-pastel', 'seaborn-poster', 'seaborn-talk', 'seaborn-ticks', 'seaborn-white', 'seaborn-whitegrid', 'tableau-colorblind10']\n"
     ]
    }
   ],
   "source": [
    "from src.__entro_plot__ import *\n",
    "from src.__models__ import *\n",
    "from common.__common__ import *\n",
    "import scienceplots\n",
    "\n",
    "\n",
    "%matplotlib inline\n",
    "print(plt.style.available)\n",
    "plt.style.use(['science', 'no-latex'])\n",
    "current_dir = os.getcwd() \n",
    "save_dir = f\"D:{kPSep}Maks{kPSep}EntropyMarcosLev{kPSep}Python{kPSep}\"\n",
    "\n",
    "# read the log file for given set of parameters\n",
    "N = 20\n",
    "su=True\n",
    "directory = current_dir + f\"{kPSep}xyz_su_bc=0{kPSep}resultsXYZ{N}{kPSep}\"\n"
   ]
  },
  {
   "cell_type": "markdown",
   "metadata": {},
   "source": [
    "# PARAMETERS SWEEP FOR MOST CHAOTIC POINT"
   ]
  },
  {
   "cell_type": "code",
   "execution_count": 5,
   "metadata": {},
   "outputs": [
    {
     "name": "stderr",
     "output_type": "stream",
     "text": [
      "C:\\Users\\maxgr\\AppData\\Local\\Temp\\ipykernel_9492\\1028091133.py:10: UserWarning: Boolean Series key will be reindexed to match DataFrame index.\n",
      "  df_sweep = df_sweep[df_sweep[param_b] <= 2.0][df_sweep[param_a] <= 2.0]\n"
     ]
    },
    {
     "data": {
      "text/html": [
       "<div>\n",
       "<style scoped>\n",
       "    .dataframe tbody tr th:only-of-type {\n",
       "        vertical-align: middle;\n",
       "    }\n",
       "\n",
       "    .dataframe tbody tr th {\n",
       "        vertical-align: top;\n",
       "    }\n",
       "\n",
       "    .dataframe thead th {\n",
       "        text-align: right;\n",
       "    }\n",
       "</style>\n",
       "<table border=\"1\" class=\"dataframe\">\n",
       "  <thead>\n",
       "    <tr style=\"text-align: right;\">\n",
       "      <th></th>\n",
       "      <th>model</th>\n",
       "      <th>model_short</th>\n",
       "      <th>Ns</th>\n",
       "      <th>Ja</th>\n",
       "      <th>Jb</th>\n",
       "      <th>hx</th>\n",
       "      <th>hz</th>\n",
       "      <th>da</th>\n",
       "      <th>db</th>\n",
       "      <th>ea</th>\n",
       "      <th>eb</th>\n",
       "      <th>k</th>\n",
       "      <th>p</th>\n",
       "      <th>x</th>\n",
       "      <th>su</th>\n",
       "      <th>bc</th>\n",
       "      <th>spectrum_num</th>\n",
       "      <th>sec</th>\n",
       "      <th>Nh</th>\n",
       "    </tr>\n",
       "  </thead>\n",
       "  <tbody>\n",
       "    <tr>\n",
       "      <th>0</th>\n",
       "      <td>_xyz_sym,Ns=20,Ja=1.00,Jb=0.10,hx=0.00,hz=0.00...</td>\n",
       "      <td>_xyz_sym,Ns=20,Ja=1.00,Jb=0.10,hx=0.00,hz=0.00...</td>\n",
       "      <td>20.0</td>\n",
       "      <td>1.0</td>\n",
       "      <td>0.1</td>\n",
       "      <td>0.0</td>\n",
       "      <td>0.0</td>\n",
       "      <td>0.1</td>\n",
       "      <td>0.3</td>\n",
       "      <td>0.0</td>\n",
       "      <td>0.0</td>\n",
       "      <td>0.0</td>\n",
       "      <td>-1.0</td>\n",
       "      <td>-1.0</td>\n",
       "      <td>10.0</td>\n",
       "      <td>0.0</td>\n",
       "      <td>2364.0</td>\n",
       "      <td>real</td>\n",
       "      <td>2364</td>\n",
       "    </tr>\n",
       "    <tr>\n",
       "      <th>1</th>\n",
       "      <td>_xyz_sym,Ns=20,Ja=1.00,Jb=0.10,hx=0.00,hz=0.00...</td>\n",
       "      <td>_xyz_sym,Ns=20,Ja=1.00,Jb=0.10,hx=0.00,hz=0.00...</td>\n",
       "      <td>20.0</td>\n",
       "      <td>1.0</td>\n",
       "      <td>0.1</td>\n",
       "      <td>0.0</td>\n",
       "      <td>0.0</td>\n",
       "      <td>0.2</td>\n",
       "      <td>0.3</td>\n",
       "      <td>0.0</td>\n",
       "      <td>0.0</td>\n",
       "      <td>0.0</td>\n",
       "      <td>-1.0</td>\n",
       "      <td>-1.0</td>\n",
       "      <td>10.0</td>\n",
       "      <td>0.0</td>\n",
       "      <td>2364.0</td>\n",
       "      <td>real</td>\n",
       "      <td>2364</td>\n",
       "    </tr>\n",
       "    <tr>\n",
       "      <th>2</th>\n",
       "      <td>_xyz_sym,Ns=20,Ja=1.00,Jb=0.10,hx=0.00,hz=0.00...</td>\n",
       "      <td>_xyz_sym,Ns=20,Ja=1.00,Jb=0.10,hx=0.00,hz=0.00...</td>\n",
       "      <td>20.0</td>\n",
       "      <td>1.0</td>\n",
       "      <td>0.1</td>\n",
       "      <td>0.0</td>\n",
       "      <td>0.0</td>\n",
       "      <td>0.3</td>\n",
       "      <td>0.3</td>\n",
       "      <td>0.0</td>\n",
       "      <td>0.0</td>\n",
       "      <td>0.0</td>\n",
       "      <td>-1.0</td>\n",
       "      <td>-1.0</td>\n",
       "      <td>10.0</td>\n",
       "      <td>0.0</td>\n",
       "      <td>2364.0</td>\n",
       "      <td>real</td>\n",
       "      <td>2364</td>\n",
       "    </tr>\n",
       "    <tr>\n",
       "      <th>3</th>\n",
       "      <td>_xyz_sym,Ns=20,Ja=1.00,Jb=0.10,hx=0.00,hz=0.00...</td>\n",
       "      <td>_xyz_sym,Ns=20,Ja=1.00,Jb=0.10,hx=0.00,hz=0.00...</td>\n",
       "      <td>20.0</td>\n",
       "      <td>1.0</td>\n",
       "      <td>0.1</td>\n",
       "      <td>0.0</td>\n",
       "      <td>0.0</td>\n",
       "      <td>0.4</td>\n",
       "      <td>0.3</td>\n",
       "      <td>0.0</td>\n",
       "      <td>0.0</td>\n",
       "      <td>0.0</td>\n",
       "      <td>-1.0</td>\n",
       "      <td>-1.0</td>\n",
       "      <td>10.0</td>\n",
       "      <td>0.0</td>\n",
       "      <td>2364.0</td>\n",
       "      <td>real</td>\n",
       "      <td>2364</td>\n",
       "    </tr>\n",
       "    <tr>\n",
       "      <th>4</th>\n",
       "      <td>_xyz_sym,Ns=20,Ja=1.00,Jb=0.10,hx=0.00,hz=0.00...</td>\n",
       "      <td>_xyz_sym,Ns=20,Ja=1.00,Jb=0.10,hx=0.00,hz=0.00...</td>\n",
       "      <td>20.0</td>\n",
       "      <td>1.0</td>\n",
       "      <td>0.1</td>\n",
       "      <td>0.0</td>\n",
       "      <td>0.0</td>\n",
       "      <td>0.5</td>\n",
       "      <td>0.3</td>\n",
       "      <td>0.0</td>\n",
       "      <td>0.0</td>\n",
       "      <td>0.0</td>\n",
       "      <td>-1.0</td>\n",
       "      <td>-1.0</td>\n",
       "      <td>10.0</td>\n",
       "      <td>0.0</td>\n",
       "      <td>2364.0</td>\n",
       "      <td>real</td>\n",
       "      <td>2364</td>\n",
       "    </tr>\n",
       "    <tr>\n",
       "      <th>...</th>\n",
       "      <td>...</td>\n",
       "      <td>...</td>\n",
       "      <td>...</td>\n",
       "      <td>...</td>\n",
       "      <td>...</td>\n",
       "      <td>...</td>\n",
       "      <td>...</td>\n",
       "      <td>...</td>\n",
       "      <td>...</td>\n",
       "      <td>...</td>\n",
       "      <td>...</td>\n",
       "      <td>...</td>\n",
       "      <td>...</td>\n",
       "      <td>...</td>\n",
       "      <td>...</td>\n",
       "      <td>...</td>\n",
       "      <td>...</td>\n",
       "      <td>...</td>\n",
       "      <td>...</td>\n",
       "    </tr>\n",
       "    <tr>\n",
       "      <th>10531</th>\n",
       "      <td>_xyz_sym,Ns=20,Ja=1.00,Jb=2.00,hx=0.00,hz=0.00...</td>\n",
       "      <td>_xyz_sym,Ns=20,Ja=1.00,Jb=2.00,hx=0.00,hz=0.00...</td>\n",
       "      <td>20.0</td>\n",
       "      <td>1.0</td>\n",
       "      <td>2.0</td>\n",
       "      <td>0.0</td>\n",
       "      <td>0.0</td>\n",
       "      <td>1.6</td>\n",
       "      <td>0.3</td>\n",
       "      <td>0.0</td>\n",
       "      <td>0.0</td>\n",
       "      <td>10.0</td>\n",
       "      <td>1.0</td>\n",
       "      <td>1.0</td>\n",
       "      <td>10.0</td>\n",
       "      <td>0.0</td>\n",
       "      <td>2453.0</td>\n",
       "      <td>real</td>\n",
       "      <td>2453</td>\n",
       "    </tr>\n",
       "    <tr>\n",
       "      <th>10532</th>\n",
       "      <td>_xyz_sym,Ns=20,Ja=1.00,Jb=2.00,hx=0.00,hz=0.00...</td>\n",
       "      <td>_xyz_sym,Ns=20,Ja=1.00,Jb=2.00,hx=0.00,hz=0.00...</td>\n",
       "      <td>20.0</td>\n",
       "      <td>1.0</td>\n",
       "      <td>2.0</td>\n",
       "      <td>0.0</td>\n",
       "      <td>0.0</td>\n",
       "      <td>1.7</td>\n",
       "      <td>0.3</td>\n",
       "      <td>0.0</td>\n",
       "      <td>0.0</td>\n",
       "      <td>10.0</td>\n",
       "      <td>1.0</td>\n",
       "      <td>1.0</td>\n",
       "      <td>10.0</td>\n",
       "      <td>0.0</td>\n",
       "      <td>2453.0</td>\n",
       "      <td>real</td>\n",
       "      <td>2453</td>\n",
       "    </tr>\n",
       "    <tr>\n",
       "      <th>10533</th>\n",
       "      <td>_xyz_sym,Ns=20,Ja=1.00,Jb=2.00,hx=0.00,hz=0.00...</td>\n",
       "      <td>_xyz_sym,Ns=20,Ja=1.00,Jb=2.00,hx=0.00,hz=0.00...</td>\n",
       "      <td>20.0</td>\n",
       "      <td>1.0</td>\n",
       "      <td>2.0</td>\n",
       "      <td>0.0</td>\n",
       "      <td>0.0</td>\n",
       "      <td>1.8</td>\n",
       "      <td>0.3</td>\n",
       "      <td>0.0</td>\n",
       "      <td>0.0</td>\n",
       "      <td>10.0</td>\n",
       "      <td>1.0</td>\n",
       "      <td>1.0</td>\n",
       "      <td>10.0</td>\n",
       "      <td>0.0</td>\n",
       "      <td>2453.0</td>\n",
       "      <td>real</td>\n",
       "      <td>2453</td>\n",
       "    </tr>\n",
       "    <tr>\n",
       "      <th>10534</th>\n",
       "      <td>_xyz_sym,Ns=20,Ja=1.00,Jb=2.00,hx=0.00,hz=0.00...</td>\n",
       "      <td>_xyz_sym,Ns=20,Ja=1.00,Jb=2.00,hx=0.00,hz=0.00...</td>\n",
       "      <td>20.0</td>\n",
       "      <td>1.0</td>\n",
       "      <td>2.0</td>\n",
       "      <td>0.0</td>\n",
       "      <td>0.0</td>\n",
       "      <td>1.9</td>\n",
       "      <td>0.3</td>\n",
       "      <td>0.0</td>\n",
       "      <td>0.0</td>\n",
       "      <td>10.0</td>\n",
       "      <td>1.0</td>\n",
       "      <td>1.0</td>\n",
       "      <td>10.0</td>\n",
       "      <td>0.0</td>\n",
       "      <td>2453.0</td>\n",
       "      <td>real</td>\n",
       "      <td>2453</td>\n",
       "    </tr>\n",
       "    <tr>\n",
       "      <th>10535</th>\n",
       "      <td>_xyz_sym,Ns=20,Ja=1.00,Jb=2.00,hx=0.00,hz=0.00...</td>\n",
       "      <td>_xyz_sym,Ns=20,Ja=1.00,Jb=2.00,hx=0.00,hz=0.00...</td>\n",
       "      <td>20.0</td>\n",
       "      <td>1.0</td>\n",
       "      <td>2.0</td>\n",
       "      <td>0.0</td>\n",
       "      <td>0.0</td>\n",
       "      <td>2.0</td>\n",
       "      <td>0.3</td>\n",
       "      <td>0.0</td>\n",
       "      <td>0.0</td>\n",
       "      <td>10.0</td>\n",
       "      <td>1.0</td>\n",
       "      <td>1.0</td>\n",
       "      <td>10.0</td>\n",
       "      <td>0.0</td>\n",
       "      <td>2453.0</td>\n",
       "      <td>real</td>\n",
       "      <td>2453</td>\n",
       "    </tr>\n",
       "  </tbody>\n",
       "</table>\n",
       "<p>10400 rows × 19 columns</p>\n",
       "</div>"
      ],
      "text/plain": [
       "                                                   model  \\\n",
       "0      _xyz_sym,Ns=20,Ja=1.00,Jb=0.10,hx=0.00,hz=0.00...   \n",
       "1      _xyz_sym,Ns=20,Ja=1.00,Jb=0.10,hx=0.00,hz=0.00...   \n",
       "2      _xyz_sym,Ns=20,Ja=1.00,Jb=0.10,hx=0.00,hz=0.00...   \n",
       "3      _xyz_sym,Ns=20,Ja=1.00,Jb=0.10,hx=0.00,hz=0.00...   \n",
       "4      _xyz_sym,Ns=20,Ja=1.00,Jb=0.10,hx=0.00,hz=0.00...   \n",
       "...                                                  ...   \n",
       "10531  _xyz_sym,Ns=20,Ja=1.00,Jb=2.00,hx=0.00,hz=0.00...   \n",
       "10532  _xyz_sym,Ns=20,Ja=1.00,Jb=2.00,hx=0.00,hz=0.00...   \n",
       "10533  _xyz_sym,Ns=20,Ja=1.00,Jb=2.00,hx=0.00,hz=0.00...   \n",
       "10534  _xyz_sym,Ns=20,Ja=1.00,Jb=2.00,hx=0.00,hz=0.00...   \n",
       "10535  _xyz_sym,Ns=20,Ja=1.00,Jb=2.00,hx=0.00,hz=0.00...   \n",
       "\n",
       "                                             model_short    Ns   Ja   Jb   hx  \\\n",
       "0      _xyz_sym,Ns=20,Ja=1.00,Jb=0.10,hx=0.00,hz=0.00...  20.0  1.0  0.1  0.0   \n",
       "1      _xyz_sym,Ns=20,Ja=1.00,Jb=0.10,hx=0.00,hz=0.00...  20.0  1.0  0.1  0.0   \n",
       "2      _xyz_sym,Ns=20,Ja=1.00,Jb=0.10,hx=0.00,hz=0.00...  20.0  1.0  0.1  0.0   \n",
       "3      _xyz_sym,Ns=20,Ja=1.00,Jb=0.10,hx=0.00,hz=0.00...  20.0  1.0  0.1  0.0   \n",
       "4      _xyz_sym,Ns=20,Ja=1.00,Jb=0.10,hx=0.00,hz=0.00...  20.0  1.0  0.1  0.0   \n",
       "...                                                  ...   ...  ...  ...  ...   \n",
       "10531  _xyz_sym,Ns=20,Ja=1.00,Jb=2.00,hx=0.00,hz=0.00...  20.0  1.0  2.0  0.0   \n",
       "10532  _xyz_sym,Ns=20,Ja=1.00,Jb=2.00,hx=0.00,hz=0.00...  20.0  1.0  2.0  0.0   \n",
       "10533  _xyz_sym,Ns=20,Ja=1.00,Jb=2.00,hx=0.00,hz=0.00...  20.0  1.0  2.0  0.0   \n",
       "10534  _xyz_sym,Ns=20,Ja=1.00,Jb=2.00,hx=0.00,hz=0.00...  20.0  1.0  2.0  0.0   \n",
       "10535  _xyz_sym,Ns=20,Ja=1.00,Jb=2.00,hx=0.00,hz=0.00...  20.0  1.0  2.0  0.0   \n",
       "\n",
       "        hz   da   db   ea   eb     k    p    x    su   bc spectrum_num   sec  \\\n",
       "0      0.0  0.1  0.3  0.0  0.0   0.0 -1.0 -1.0  10.0  0.0       2364.0  real   \n",
       "1      0.0  0.2  0.3  0.0  0.0   0.0 -1.0 -1.0  10.0  0.0       2364.0  real   \n",
       "2      0.0  0.3  0.3  0.0  0.0   0.0 -1.0 -1.0  10.0  0.0       2364.0  real   \n",
       "3      0.0  0.4  0.3  0.0  0.0   0.0 -1.0 -1.0  10.0  0.0       2364.0  real   \n",
       "4      0.0  0.5  0.3  0.0  0.0   0.0 -1.0 -1.0  10.0  0.0       2364.0  real   \n",
       "...    ...  ...  ...  ...  ...   ...  ...  ...   ...  ...          ...   ...   \n",
       "10531  0.0  1.6  0.3  0.0  0.0  10.0  1.0  1.0  10.0  0.0       2453.0  real   \n",
       "10532  0.0  1.7  0.3  0.0  0.0  10.0  1.0  1.0  10.0  0.0       2453.0  real   \n",
       "10533  0.0  1.8  0.3  0.0  0.0  10.0  1.0  1.0  10.0  0.0       2453.0  real   \n",
       "10534  0.0  1.9  0.3  0.0  0.0  10.0  1.0  1.0  10.0  0.0       2453.0  real   \n",
       "10535  0.0  2.0  0.3  0.0  0.0  10.0  1.0  1.0  10.0  0.0       2453.0  real   \n",
       "\n",
       "         Nh  \n",
       "0      2364  \n",
       "1      2364  \n",
       "2      2364  \n",
       "3      2364  \n",
       "4      2364  \n",
       "...     ...  \n",
       "10531  2453  \n",
       "10532  2453  \n",
       "10533  2453  \n",
       "10534  2453  \n",
       "10535  2453  \n",
       "\n",
       "[10400 rows x 19 columns]"
      ]
     },
     "execution_count": 5,
     "metadata": {},
     "output_type": "execute_result"
    }
   ],
   "source": [
    "N = 20\n",
    "su=True\n",
    "\n",
    "directory = save_dir + f\"{kPSep}xyz_su_bc=0{kPSep}resultsXYZ{N}{kPSep}\"\n",
    "param_a = 'da'\n",
    "param_b = 'Jb'\n",
    "fractions = [100]\n",
    "\n",
    "df_sweep = get_log_file(directory, read_log=False,su=su)\n",
    "df_sweep = df_sweep[df_sweep[param_b] <= 2.0][df_sweep[param_a] <= 2.0]\n",
    "df_sweep"
   ]
  },
  {
   "cell_type": "markdown",
   "metadata": {},
   "source": [
    "### Save the concatenated vectors of entropies"
   ]
  },
  {
   "cell_type": "code",
   "execution_count": null,
   "metadata": {},
   "outputs": [],
   "source": [
    "jbs = [0.1, 0.2, 1.0, 2.0]\n",
    "das = [0.1, 0.2, 1.0, 2.0]\n",
    "df_entro = parse_dataframe(df_sweep, {'da' : das, 'Jb' : jbs})\n",
    "directory_save = current_dir + f'{kPSep}plot_data{kPSep}new{kPSep}entro_dist{kPSep}'\n",
    "\n",
    "\n",
    "fig, ax = plt.subplots(figsize=(10,10))\n",
    "frac = 100\n",
    "# get the entropies\n",
    "for (j2, d1) in [(0.2, 0.2), (0.1, 2.0), (1.0, 1.0), (2.0, 0.1)]:\n",
    "    df_tmp = parse_dataframe(df_entro, {'da' : [d1], 'Jb' : [j2]})\n",
    "    # takes the names of the models\n",
    "    model_shorts = df_tmp.loc[:,'model_short'].to_list()\n",
    "    hilbert_sizes = df_tmp.loc[:,'Nh'].to_list()\n",
    "    s = df_tmp.loc[:, 'sec'].to_list()#df_tmp.loc[:, 'k']\n",
    "    entropies = []\n",
    "    for i, short in tqdm.tqdm(enumerate(model_shorts)):\n",
    "        filename = short + '.h5'\n",
    "        if not 'spectrum' in short:\n",
    "            filename = short + ',spectrum_num=' + str(int(hilbert_sizes[i])) + '.h5'\n",
    "        \n",
    "        # read all entropies\n",
    "        ent, av_idx, Nh, _, dictionary = read_entropies(directory, filename, frac, verbose=False)\n",
    "        entropies.append(ent.iloc[-1].to_numpy())\n",
    "        \n",
    "        # include imaginary sectors twice\n",
    "        if s[i] != 'real':\n",
    "            entropies.append(ent.iloc[-1].to_numpy())\n",
    "            \n",
    "    entropies = np.array(entropies).flatten()\n",
    "    print(j2, d1, len(entropies))\n",
    "    bins, hist = np.histogram(entropies, 100, density=True, normed = True)\n",
    "    plt.stairs(bins, hist, label = f'$J2={j2},\\Delta _1={d1}$')\n",
    "    np.save(directory_save + f'entro_dist_XXZ_L=20,J2={j2},d1={d1}', entropies)\n",
    "    np.savetxt(directory_save + f'entro_dist_XXZ_L=20,J2={j2},d1={d1}.dat', entropies)\n",
    "    \n",
    "plt.xlim(4, None)\n",
    "plt.legend()"
   ]
  },
  {
   "cell_type": "markdown",
   "metadata": {},
   "source": [
    "### ENTROPIES ALL "
   ]
  },
  {
   "cell_type": "code",
   "execution_count": 14,
   "metadata": {},
   "outputs": [
    {
     "name": "stdout",
     "output_type": "stream",
     "text": [
      "N= 184756 (L,L//2)= 184756.0\n",
      "N= 2704156 (L,L//2)= 2704156.0\n"
     ]
    },
    {
     "data": {
      "image/png": "[encoded data removed]",
      "text/plain": [
       "<Figure size 360x576 with 2 Axes>"
      ]
     },
     "metadata": {
      "needs_background": "light"
     },
     "output_type": "display_data"
    }
   ],
   "source": [
    "################################### SAVE THE ENTROPIES AND ENERGIES CONCATENATED ######################################\n",
    "\n",
    "fig, ax = plt.subplots(2, figsize = (5, 8), sharex=True)\n",
    "\n",
    "directory_save = current_dir + f'{kPSep}plot_data{kPSep}new{kPSep}all_entro{kPSep}'\n",
    "createFolder([directory_save])\n",
    "\n",
    "def get_dir(L : int, sym : str):\n",
    "    directory = save_dir + f\"{kPSep}Data{kPSep}\"\n",
    "    if sym == \"obc\":\n",
    "        directory += f\"OBC{kPSep}resultsXYZ{L:.1f}{kPSep}\"\n",
    "    else:\n",
    "        directory += f\"resultsXYZ{L:.1f}{kPSep}\"\n",
    "    return directory\n",
    "\n",
    "j2 = 2.0\n",
    "d1 = 0.2\n",
    "L_obc = 20\n",
    "L_pbc = 24\n",
    "for i, sym in enumerate(['obc', 'pbc']):\n",
    "    L = L_obc if i == 0 else L_pbc\n",
    "    directory = get_dir(L, sym)\n",
    "    df = get_log_file(directory, read_log=False, su=su)\n",
    "    df = parse_dataframe(df, {param_b : [j2], param_a : [d1]})\n",
    "    df = df.reset_index()\n",
    "    #print(df)\n",
    "    # takes the names of the models\n",
    "    model_shorts = df.loc[:,'model_short'].to_list()\n",
    "    hilbert_sizes = df.loc[:,'Nh'].to_list()\n",
    "    ks = df.loc[:,'k'].to_list()\n",
    "    ps = df.loc[:,'p'].to_list()\n",
    "    xs = df.loc[:,'x'].to_list()\n",
    "    secs = df.loc[:,'sec'].to_list()\n",
    "    #print(hilbert_sizes)\n",
    "    # s = df.loc[:, 'sec'].to_list()\n",
    "    entropies = np.zeros((np.sum(hilbert_sizes)))\n",
    "    energies = np.zeros((np.sum(hilbert_sizes)))\n",
    "    last_idx = 0\n",
    "    N = 0\n",
    "    for j, short in enumerate(model_shorts):\n",
    "        k = ks[j]\n",
    "        p = ps[j]\n",
    "        x = xs[j]\n",
    "        filename = short + '.h5'\n",
    "        if not 'spectrum' in short:\n",
    "            filename = short + ',spectrum_num=' + str(int(hilbert_sizes[j])) + '.h5'\n",
    "            \n",
    "        # read all entropies\n",
    "        ent, av_idx, Nh, _, dictionary = read_entropies(directory, filename, 1.0, verbose=False)\n",
    "        #print(Nh)\n",
    "        e = ent.iloc[-1].to_numpy().flatten()\n",
    "        entropies[last_idx : last_idx + len(e)] = e\n",
    "        np.save(directory_save + f'entro_k={k},p={p},x={x}_XXZ_{sym}_L={L},J2={j2},d1={d1}', e)\n",
    "\n",
    "        # energies addition\n",
    "        en = read_h5_file(directory, filename, 'energy').to_numpy().flatten()\n",
    "        \n",
    "        energies[last_idx : last_idx + len(en)] = en\n",
    "        np.save(directory_save + f'energy_,k={k},p={p},x={x}_XXZ_{sym}_L={L},J2={j2},d1={d1}', en)\n",
    "        \n",
    "        last_idx += len(e)\n",
    "        N += len(e)\n",
    "        if secs[j] == 'imag':\n",
    "            N += len(e)\n",
    "        \n",
    "    print(\"N=\", N, \"(L,L//2)=\", binom(L, L//2))\n",
    "    entropies = np.array(np.array(entropies).flatten(), dtype=np.float32).flatten()\n",
    "    energies = np.array(np.array(energies).flatten(), dtype=np.float32).flatten()\n",
    "    #print(energies)\n",
    "    \n",
    "    ax[i].scatter(energies, entropies, label = f'$J2={j2},\\Delta _1={d1}$---' + ('obc' if i == 0 else 'pbc'))\n",
    "    np.save(directory_save + f'entro_all_XXZ_{sym}_L={L},J2={j2},d1={d1}', entropies)\n",
    "    # np.savetxt(directory_save + f'entro_all_XXZ_L={L},J2={j2},d1={d1}.dat', entropies)\n",
    "    np.save(directory_save + f'energy_all_XXZ_{sym}_L={L},J2={j2},d1={d1}', energies)\n",
    "    # np.savetxt(directory_save + f'entro_all_XXZ_L={L},J2={j2},d1={d1}.dat', entropies)\n",
    "    #ax[i].legend()\n",
    "    ax[i].set_xlabel(\"$E$\")\n",
    "    ax[i].set_ylabel(\"$S_n$\")"
   ]
  },
  {
   "cell_type": "code",
   "execution_count": null,
   "metadata": {},
   "outputs": [],
   "source": [
    "#entropies[np.sum(hilbert_sizes):]"
   ]
  },
  {
   "cell_type": "markdown",
   "metadata": {},
   "source": [
    "### Save the averages"
   ]
  },
  {
   "cell_type": "code",
   "execution_count": 4,
   "metadata": {},
   "outputs": [
    {
     "name": "stderr",
     "output_type": "stream",
     "text": [
      "100%|██████████| 4/4 [00:00<00:00, 137.30it/s]\n"
     ]
    },
    {
     "name": "stdout",
     "output_type": "stream",
     "text": [
      "range(0, 6)\n"
     ]
    },
    {
     "name": "stderr",
     "output_type": "stream",
     "text": [
      "100%|██████████| 4/4 [00:00<00:00, 88.30it/s]\n"
     ]
    },
    {
     "name": "stdout",
     "output_type": "stream",
     "text": [
      "range(0, 7)\n"
     ]
    },
    {
     "name": "stderr",
     "output_type": "stream",
     "text": [
      "100%|██████████| 4/4 [00:00<00:00, 54.65it/s]\n"
     ]
    },
    {
     "name": "stdout",
     "output_type": "stream",
     "text": [
      "range(0, 8)\n"
     ]
    },
    {
     "name": "stderr",
     "output_type": "stream",
     "text": [
      "100%|██████████| 4/4 [00:00<00:00, 24.22it/s]\n"
     ]
    },
    {
     "name": "stdout",
     "output_type": "stream",
     "text": [
      "range(0, 9)\n"
     ]
    },
    {
     "name": "stderr",
     "output_type": "stream",
     "text": [
      "100%|██████████| 4/4 [00:00<00:00,  7.62it/s]\n"
     ]
    },
    {
     "name": "stdout",
     "output_type": "stream",
     "text": [
      "range(0, 10)\n"
     ]
    },
    {
     "name": "stderr",
     "output_type": "stream",
     "text": [
      "100%|██████████| 22/22 [00:00<00:00, 125.16it/s]\n"
     ]
    },
    {
     "name": "stdout",
     "output_type": "stream",
     "text": [
      "range(0, 8)\n"
     ]
    },
    {
     "name": "stderr",
     "output_type": "stream",
     "text": [
      "100%|██████████| 24/24 [00:00<00:00, 91.17it/s]\n"
     ]
    },
    {
     "name": "stdout",
     "output_type": "stream",
     "text": [
      "range(0, 9)\n"
     ]
    },
    {
     "name": "stderr",
     "output_type": "stream",
     "text": [
      "100%|██████████| 26/26 [00:00<00:00, 52.84it/s]\n"
     ]
    },
    {
     "name": "stdout",
     "output_type": "stream",
     "text": [
      "range(0, 10)\n"
     ]
    },
    {
     "name": "stderr",
     "output_type": "stream",
     "text": [
      "100%|██████████| 28/28 [00:01<00:00, 21.51it/s]\n"
     ]
    },
    {
     "name": "stdout",
     "output_type": "stream",
     "text": [
      "range(0, 11)\n"
     ]
    },
    {
     "name": "stderr",
     "output_type": "stream",
     "text": [
      "100%|██████████| 30/30 [00:04<00:00,  7.05it/s]\n"
     ]
    },
    {
     "name": "stdout",
     "output_type": "stream",
     "text": [
      "range(0, 12)\n"
     ]
    },
    {
     "name": "stderr",
     "output_type": "stream",
     "text": [
      "100%|██████████| 1/1 [00:00<00:00,  3.34it/s]\n",
      "C:\\Users\\maxgr\\AppData\\Local\\Temp\\ipykernel_1300\\743958891.py:70: RuntimeWarning: invalid value encountered in double_scalars\n",
      "  S_i /= n\n"
     ]
    },
    {
     "name": "stdout",
     "output_type": "stream",
     "text": [
      "range(0, 13)\n"
     ]
    },
    {
     "name": "stderr",
     "output_type": "stream",
     "text": [
      "100%|██████████| 4/4 [00:00<00:00, 132.08it/s]\n"
     ]
    },
    {
     "name": "stdout",
     "output_type": "stream",
     "text": [
      "range(0, 6)\n"
     ]
    },
    {
     "name": "stderr",
     "output_type": "stream",
     "text": [
      "100%|██████████| 4/4 [00:00<00:00, 99.16it/s]\n"
     ]
    },
    {
     "name": "stdout",
     "output_type": "stream",
     "text": [
      "range(0, 7)\n"
     ]
    },
    {
     "name": "stderr",
     "output_type": "stream",
     "text": [
      "100%|██████████| 4/4 [00:00<00:00, 58.10it/s]\n"
     ]
    },
    {
     "name": "stdout",
     "output_type": "stream",
     "text": [
      "range(0, 8)\n"
     ]
    },
    {
     "name": "stderr",
     "output_type": "stream",
     "text": [
      "100%|██████████| 4/4 [00:00<00:00, 23.98it/s]\n"
     ]
    },
    {
     "name": "stdout",
     "output_type": "stream",
     "text": [
      "range(0, 9)\n"
     ]
    },
    {
     "name": "stderr",
     "output_type": "stream",
     "text": [
      "100%|██████████| 4/4 [00:00<00:00,  7.32it/s]\n"
     ]
    },
    {
     "name": "stdout",
     "output_type": "stream",
     "text": [
      "range(0, 10)\n"
     ]
    },
    {
     "name": "stderr",
     "output_type": "stream",
     "text": [
      "100%|██████████| 22/22 [00:00<00:00, 115.65it/s]\n"
     ]
    },
    {
     "name": "stdout",
     "output_type": "stream",
     "text": [
      "range(0, 8)\n"
     ]
    },
    {
     "name": "stderr",
     "output_type": "stream",
     "text": [
      "100%|██████████| 24/24 [00:00<00:00, 91.88it/s]\n"
     ]
    },
    {
     "name": "stdout",
     "output_type": "stream",
     "text": [
      "range(0, 9)\n"
     ]
    },
    {
     "name": "stderr",
     "output_type": "stream",
     "text": [
      "100%|██████████| 26/26 [00:00<00:00, 51.10it/s]\n"
     ]
    },
    {
     "name": "stdout",
     "output_type": "stream",
     "text": [
      "range(0, 10)\n"
     ]
    },
    {
     "name": "stderr",
     "output_type": "stream",
     "text": [
      "100%|██████████| 28/28 [00:01<00:00, 21.22it/s]\n"
     ]
    },
    {
     "name": "stdout",
     "output_type": "stream",
     "text": [
      "range(0, 11)\n"
     ]
    },
    {
     "name": "stderr",
     "output_type": "stream",
     "text": [
      "100%|██████████| 30/30 [00:04<00:00,  6.53it/s]\n"
     ]
    },
    {
     "name": "stdout",
     "output_type": "stream",
     "text": [
      "range(0, 12)\n"
     ]
    },
    {
     "name": "stderr",
     "output_type": "stream",
     "text": [
      "100%|██████████| 1/1 [00:00<00:00,  3.31it/s]\n"
     ]
    },
    {
     "name": "stdout",
     "output_type": "stream",
     "text": [
      "range(0, 13)\n"
     ]
    },
    {
     "name": "stderr",
     "output_type": "stream",
     "text": [
      "100%|██████████| 4/4 [00:00<00:00, 125.26it/s]\n"
     ]
    },
    {
     "name": "stdout",
     "output_type": "stream",
     "text": [
      "\t\t\ttaking the whole dataframe\n",
      "\t\t\ttaking the whole dataframe\n",
      "\t\t\ttaking the whole dataframe\n",
      "\t\t\ttaking the whole dataframe\n",
      "range(0, 6)\n"
     ]
    },
    {
     "name": "stderr",
     "output_type": "stream",
     "text": [
      "100%|██████████| 4/4 [00:00<00:00, 96.26it/s]\n"
     ]
    },
    {
     "name": "stdout",
     "output_type": "stream",
     "text": [
      "\t\t\ttaking the whole dataframe\n",
      "\t\t\ttaking the whole dataframe\n",
      "\t\t\ttaking the whole dataframe\n",
      "\t\t\ttaking the whole dataframe\n",
      "range(0, 7)\n"
     ]
    },
    {
     "name": "stderr",
     "output_type": "stream",
     "text": [
      "  0%|          | 0/4 [00:00<?, ?it/s]"
     ]
    },
    {
     "name": "stdout",
     "output_type": "stream",
     "text": [
      "\t\t\ttaking the whole dataframe\n",
      "\t\t\ttaking the whole dataframe\n",
      "\t\t\ttaking the whole dataframe\n",
      "\t\t\ttaking the whole dataframe\n"
     ]
    },
    {
     "name": "stderr",
     "output_type": "stream",
     "text": [
      "100%|██████████| 4/4 [00:00<00:00, 47.85it/s]\n"
     ]
    },
    {
     "name": "stdout",
     "output_type": "stream",
     "text": [
      "range(0, 8)\n"
     ]
    },
    {
     "name": "stderr",
     "output_type": "stream",
     "text": [
      "  0%|          | 0/4 [00:00<?, ?it/s]"
     ]
    },
    {
     "name": "stdout",
     "output_type": "stream",
     "text": [
      "\t\t\ttaking the whole dataframe\n",
      "\t\t\ttaking the whole dataframe\n",
      "\t\t\ttaking the whole dataframe\n"
     ]
    },
    {
     "name": "stderr",
     "output_type": "stream",
     "text": [
      " 75%|███████▌  | 3/4 [00:00<00:00, 23.09it/s]"
     ]
    },
    {
     "name": "stdout",
     "output_type": "stream",
     "text": [
      "\t\t\ttaking the whole dataframe\n"
     ]
    },
    {
     "name": "stderr",
     "output_type": "stream",
     "text": [
      "100%|██████████| 4/4 [00:00<00:00, 23.26it/s]\n"
     ]
    },
    {
     "name": "stdout",
     "output_type": "stream",
     "text": [
      "range(0, 9)\n"
     ]
    },
    {
     "name": "stderr",
     "output_type": "stream",
     "text": [
      " 25%|██▌       | 1/4 [00:00<00:00,  7.38it/s]"
     ]
    },
    {
     "name": "stdout",
     "output_type": "stream",
     "text": [
      "\t\t\ttaking the whole dataframe\n"
     ]
    },
    {
     "name": "stderr",
     "output_type": "stream",
     "text": [
      " 50%|█████     | 2/4 [00:00<00:00,  7.61it/s]"
     ]
    },
    {
     "name": "stdout",
     "output_type": "stream",
     "text": [
      "\t\t\ttaking the whole dataframe\n"
     ]
    },
    {
     "name": "stderr",
     "output_type": "stream",
     "text": [
      " 75%|███████▌  | 3/4 [00:00<00:00,  7.44it/s]"
     ]
    },
    {
     "name": "stdout",
     "output_type": "stream",
     "text": [
      "\t\t\ttaking the whole dataframe\n"
     ]
    },
    {
     "name": "stderr",
     "output_type": "stream",
     "text": [
      "100%|██████████| 4/4 [00:00<00:00,  7.41it/s]\n"
     ]
    },
    {
     "name": "stdout",
     "output_type": "stream",
     "text": [
      "\t\t\ttaking the whole dataframe\n",
      "range(0, 10)\n"
     ]
    },
    {
     "name": "stderr",
     "output_type": "stream",
     "text": [
      "  0%|          | 0/22 [00:00<?, ?it/s]"
     ]
    },
    {
     "name": "stdout",
     "output_type": "stream",
     "text": [
      "\t\t\ttaking the whole dataframe\n",
      "\t\t\ttaking the whole dataframe\n",
      "\t\t\ttaking the whole dataframe\n"
     ]
    },
    {
     "name": "stderr",
     "output_type": "stream",
     "text": [
      " 50%|█████     | 11/22 [00:00<00:00, 105.59it/s]"
     ]
    },
    {
     "name": "stdout",
     "output_type": "stream",
     "text": [
      "\t\t\ttaking the whole dataframe\n",
      "\t\t\ttaking the whole dataframe\n",
      "\t\t\ttaking the whole dataframe\n",
      "\t\t\ttaking the whole dataframe\n",
      "\t\t\ttaking the whole dataframe\n",
      "\t\t\ttaking the whole dataframe\n",
      "\t\t\ttaking the whole dataframe\n",
      "\t\t\ttaking the whole dataframe\n",
      "\t\t\ttaking the whole dataframe\n",
      "\t\t\ttaking the whole dataframe\n",
      "\t\t\ttaking the whole dataframe\n",
      "\t\t\ttaking the whole dataframe\n",
      "\t\t\ttaking the whole dataframe\n",
      "\t\t\ttaking the whole dataframe\n",
      "\t\t\ttaking the whole dataframe\n",
      "\t\t\ttaking the whole dataframe\n",
      "\t\t\ttaking the whole dataframe\n",
      "\t\t\ttaking the whole dataframe\n"
     ]
    },
    {
     "name": "stderr",
     "output_type": "stream",
     "text": [
      "100%|██████████| 22/22 [00:00<00:00, 107.72it/s]\n"
     ]
    },
    {
     "name": "stdout",
     "output_type": "stream",
     "text": [
      "\t\t\ttaking the whole dataframe\n",
      "range(0, 8)\n"
     ]
    },
    {
     "name": "stderr",
     "output_type": "stream",
     "text": [
      " 38%|███▊      | 9/24 [00:00<00:00, 86.84it/s]"
     ]
    },
    {
     "name": "stdout",
     "output_type": "stream",
     "text": [
      "\t\t\ttaking the whole dataframe\n",
      "\t\t\ttaking the whole dataframe\n",
      "\t\t\ttaking the whole dataframe\n",
      "\t\t\ttaking the whole dataframe\n",
      "\t\t\ttaking the whole dataframe\n",
      "\t\t\ttaking the whole dataframe\n",
      "\t\t\ttaking the whole dataframe\n",
      "\t\t\ttaking the whole dataframe\n",
      "\t\t\ttaking the whole dataframe\n",
      "\t\t\ttaking the whole dataframe\n",
      "\t\t\ttaking the whole dataframe\n",
      "\t\t\ttaking the whole dataframe\n",
      "\t\t\ttaking the whole dataframe\n",
      "\t\t\ttaking the whole dataframe\n",
      "\t\t\ttaking the whole dataframe\n",
      "\t\t\ttaking the whole dataframe\n",
      "\t\t\ttaking the whole dataframe\n"
     ]
    },
    {
     "name": "stderr",
     "output_type": "stream",
     "text": [
      "100%|██████████| 24/24 [00:00<00:00, 83.96it/s]\n"
     ]
    },
    {
     "name": "stdout",
     "output_type": "stream",
     "text": [
      "\t\t\ttaking the whole dataframe\n",
      "\t\t\ttaking the whole dataframe\n",
      "\t\t\ttaking the whole dataframe\n",
      "\t\t\ttaking the whole dataframe\n",
      "\t\t\ttaking the whole dataframe\n",
      "\t\t\ttaking the whole dataframe\n",
      "\t\t\ttaking the whole dataframe\n",
      "range(0, 9)\n"
     ]
    },
    {
     "name": "stderr",
     "output_type": "stream",
     "text": [
      "  0%|          | 0/26 [00:00<?, ?it/s]"
     ]
    },
    {
     "name": "stdout",
     "output_type": "stream",
     "text": [
      "\t\t\ttaking the whole dataframe\n",
      "\t\t\ttaking the whole dataframe\n",
      "\t\t\ttaking the whole dataframe\n",
      "\t\t\ttaking the whole dataframe\n",
      "\t\t\ttaking the whole dataframe\n",
      "\t\t\ttaking the whole dataframe\n"
     ]
    },
    {
     "name": "stderr",
     "output_type": "stream",
     "text": [
      " 23%|██▎       | 6/26 [00:00<00:00, 54.60it/s]"
     ]
    },
    {
     "name": "stdout",
     "output_type": "stream",
     "text": [
      "\t\t\ttaking the whole dataframe\n",
      "\t\t\ttaking the whole dataframe\n",
      "\t\t\ttaking the whole dataframe\n",
      "\t\t\ttaking the whole dataframe\n",
      "\t\t\ttaking the whole dataframe\n"
     ]
    },
    {
     "name": "stderr",
     "output_type": "stream",
     "text": [
      " 46%|████▌     | 12/26 [00:00<00:00, 48.73it/s]"
     ]
    },
    {
     "name": "stdout",
     "output_type": "stream",
     "text": [
      "\t\t\ttaking the whole dataframe\n",
      "\t\t\ttaking the whole dataframe\n",
      "\t\t\ttaking the whole dataframe\n",
      "\t\t\ttaking the whole dataframe\n"
     ]
    },
    {
     "name": "stderr",
     "output_type": "stream",
     "text": [
      " 65%|██████▌   | 17/26 [00:00<00:00, 44.48it/s]"
     ]
    },
    {
     "name": "stdout",
     "output_type": "stream",
     "text": [
      "\t\t\ttaking the whole dataframe\n",
      "\t\t\ttaking the whole dataframe\n",
      "\t\t\ttaking the whole dataframe\n",
      "\t\t\ttaking the whole dataframe\n",
      "\t\t\ttaking the whole dataframe\n",
      "\t\t\ttaking the whole dataframe\n",
      "\t\t\ttaking the whole dataframe\n"
     ]
    },
    {
     "name": "stderr",
     "output_type": "stream",
     "text": [
      " 85%|████████▍ | 22/26 [00:00<00:00, 43.80it/s]"
     ]
    },
    {
     "name": "stdout",
     "output_type": "stream",
     "text": [
      "\t\t\ttaking the whole dataframe\n"
     ]
    },
    {
     "name": "stderr",
     "output_type": "stream",
     "text": [
      "100%|██████████| 26/26 [00:00<00:00, 47.07it/s]\n"
     ]
    },
    {
     "name": "stdout",
     "output_type": "stream",
     "text": [
      "\t\t\ttaking the whole dataframe\n",
      "\t\t\ttaking the whole dataframe\n",
      "\t\t\ttaking the whole dataframe\n",
      "range(0, 10)\n"
     ]
    },
    {
     "name": "stderr",
     "output_type": "stream",
     "text": [
      "  0%|          | 0/28 [00:00<?, ?it/s]"
     ]
    },
    {
     "name": "stdout",
     "output_type": "stream",
     "text": [
      "\t\t\ttaking the whole dataframe\n",
      "\t\t\ttaking the whole dataframe\n",
      "\t\t\ttaking the whole dataframe\n"
     ]
    },
    {
     "name": "stderr",
     "output_type": "stream",
     "text": [
      " 14%|█▍        | 4/28 [00:00<00:00, 30.39it/s]"
     ]
    },
    {
     "name": "stdout",
     "output_type": "stream",
     "text": [
      "\t\t\ttaking the whole dataframe\n",
      "\t\t\ttaking the whole dataframe\n",
      "\t\t\ttaking the whole dataframe\n",
      "\t\t\ttaking the whole dataframe\n"
     ]
    },
    {
     "name": "stderr",
     "output_type": "stream",
     "text": [
      " 29%|██▊       | 8/28 [00:00<00:00, 21.67it/s]"
     ]
    },
    {
     "name": "stdout",
     "output_type": "stream",
     "text": [
      "\t\t\ttaking the whole dataframe\n",
      "\t\t\ttaking the whole dataframe\n",
      "\t\t\ttaking the whole dataframe\n"
     ]
    },
    {
     "name": "stderr",
     "output_type": "stream",
     "text": [
      " 39%|███▉      | 11/28 [00:00<00:00, 20.05it/s]"
     ]
    },
    {
     "name": "stdout",
     "output_type": "stream",
     "text": [
      "\t\t\ttaking the whole dataframe\n",
      "\t\t\ttaking the whole dataframe\n",
      "\t\t\ttaking the whole dataframe\n"
     ]
    },
    {
     "name": "stderr",
     "output_type": "stream",
     "text": [
      " 50%|█████     | 14/28 [00:00<00:00, 19.55it/s]"
     ]
    },
    {
     "name": "stdout",
     "output_type": "stream",
     "text": [
      "\t\t\ttaking the whole dataframe\n",
      "\t\t\ttaking the whole dataframe\n"
     ]
    },
    {
     "name": "stderr",
     "output_type": "stream",
     "text": [
      " 57%|█████▋    | 16/28 [00:00<00:00, 19.23it/s]"
     ]
    },
    {
     "name": "stdout",
     "output_type": "stream",
     "text": [
      "\t\t\ttaking the whole dataframe\n",
      "\t\t\ttaking the whole dataframe\n"
     ]
    },
    {
     "name": "stderr",
     "output_type": "stream",
     "text": [
      " 64%|██████▍   | 18/28 [00:00<00:00, 18.97it/s]"
     ]
    },
    {
     "name": "stdout",
     "output_type": "stream",
     "text": [
      "\t\t\ttaking the whole dataframe\n",
      "\t\t\ttaking the whole dataframe\n"
     ]
    },
    {
     "name": "stderr",
     "output_type": "stream",
     "text": [
      " 71%|███████▏  | 20/28 [00:01<00:00, 18.56it/s]"
     ]
    },
    {
     "name": "stdout",
     "output_type": "stream",
     "text": [
      "\t\t\ttaking the whole dataframe\n",
      "\t\t\ttaking the whole dataframe\n"
     ]
    },
    {
     "name": "stderr",
     "output_type": "stream",
     "text": [
      " 79%|███████▊  | 22/28 [00:01<00:00, 18.38it/s]"
     ]
    },
    {
     "name": "stdout",
     "output_type": "stream",
     "text": [
      "\t\t\ttaking the whole dataframe\n",
      "\t\t\ttaking the whole dataframe\n",
      "\t\t\ttaking the whole dataframe\n"
     ]
    },
    {
     "name": "stderr",
     "output_type": "stream",
     "text": [
      " 86%|████████▌ | 24/28 [00:01<00:00, 18.24it/s]"
     ]
    },
    {
     "name": "stdout",
     "output_type": "stream",
     "text": [
      "\t\t\ttaking the whole dataframe\n",
      "\t\t\ttaking the whole dataframe\n",
      "\t\t\ttaking the whole dataframe\n",
      "\t\t\ttaking the whole dataframe\n"
     ]
    },
    {
     "name": "stderr",
     "output_type": "stream",
     "text": [
      "100%|██████████| 28/28 [00:01<00:00, 20.49it/s]\n"
     ]
    },
    {
     "name": "stdout",
     "output_type": "stream",
     "text": [
      "range(0, 11)\n"
     ]
    },
    {
     "name": "stderr",
     "output_type": "stream",
     "text": [
      "  0%|          | 0/30 [00:00<?, ?it/s]"
     ]
    },
    {
     "name": "stdout",
     "output_type": "stream",
     "text": [
      "\t\t\ttaking the whole dataframe\n",
      "\t\t\ttaking the whole dataframe\n"
     ]
    },
    {
     "name": "stderr",
     "output_type": "stream",
     "text": [
      "  7%|▋         | 2/30 [00:00<00:02, 10.67it/s]"
     ]
    },
    {
     "name": "stdout",
     "output_type": "stream",
     "text": [
      "\t\t\ttaking the whole dataframe\n"
     ]
    },
    {
     "name": "stderr",
     "output_type": "stream",
     "text": [
      " 13%|█▎        | 4/30 [00:00<00:02, 10.95it/s]"
     ]
    },
    {
     "name": "stdout",
     "output_type": "stream",
     "text": [
      "\t\t\ttaking the whole dataframe\n",
      "\t\t\ttaking the whole dataframe\n"
     ]
    },
    {
     "name": "stderr",
     "output_type": "stream",
     "text": [
      " 20%|██        | 6/30 [00:00<00:02,  8.08it/s]"
     ]
    },
    {
     "name": "stdout",
     "output_type": "stream",
     "text": [
      "\t\t\ttaking the whole dataframe\n"
     ]
    },
    {
     "name": "stderr",
     "output_type": "stream",
     "text": [
      " 23%|██▎       | 7/30 [00:00<00:03,  7.48it/s]"
     ]
    },
    {
     "name": "stdout",
     "output_type": "stream",
     "text": [
      "\t\t\ttaking the whole dataframe\n"
     ]
    },
    {
     "name": "stderr",
     "output_type": "stream",
     "text": [
      " 27%|██▋       | 8/30 [00:01<00:03,  7.06it/s]"
     ]
    },
    {
     "name": "stdout",
     "output_type": "stream",
     "text": [
      "\t\t\ttaking the whole dataframe\n"
     ]
    },
    {
     "name": "stderr",
     "output_type": "stream",
     "text": [
      " 30%|███       | 9/30 [00:01<00:03,  6.76it/s]"
     ]
    },
    {
     "name": "stdout",
     "output_type": "stream",
     "text": [
      "\t\t\ttaking the whole dataframe\n"
     ]
    },
    {
     "name": "stderr",
     "output_type": "stream",
     "text": [
      " 33%|███▎      | 10/30 [00:01<00:03,  6.57it/s]"
     ]
    },
    {
     "name": "stdout",
     "output_type": "stream",
     "text": [
      "\t\t\ttaking the whole dataframe\n"
     ]
    },
    {
     "name": "stderr",
     "output_type": "stream",
     "text": [
      " 37%|███▋      | 11/30 [00:01<00:02,  6.34it/s]"
     ]
    },
    {
     "name": "stdout",
     "output_type": "stream",
     "text": [
      "\t\t\ttaking the whole dataframe\n"
     ]
    },
    {
     "name": "stderr",
     "output_type": "stream",
     "text": [
      " 40%|████      | 12/30 [00:01<00:02,  6.29it/s]"
     ]
    },
    {
     "name": "stdout",
     "output_type": "stream",
     "text": [
      "\t\t\ttaking the whole dataframe\n",
      "\t\t\ttaking the whole dataframe\n"
     ]
    },
    {
     "name": "stderr",
     "output_type": "stream",
     "text": [
      " 47%|████▋     | 14/30 [00:02<00:02,  6.02it/s]"
     ]
    },
    {
     "name": "stdout",
     "output_type": "stream",
     "text": [
      "\t\t\ttaking the whole dataframe\n"
     ]
    },
    {
     "name": "stderr",
     "output_type": "stream",
     "text": [
      " 50%|█████     | 15/30 [00:02<00:02,  6.04it/s]"
     ]
    },
    {
     "name": "stdout",
     "output_type": "stream",
     "text": [
      "\t\t\ttaking the whole dataframe\n"
     ]
    },
    {
     "name": "stderr",
     "output_type": "stream",
     "text": [
      " 53%|█████▎    | 16/30 [00:02<00:02,  6.01it/s]"
     ]
    },
    {
     "name": "stdout",
     "output_type": "stream",
     "text": [
      "\t\t\ttaking the whole dataframe\n"
     ]
    },
    {
     "name": "stderr",
     "output_type": "stream",
     "text": [
      " 57%|█████▋    | 17/30 [00:02<00:02,  5.91it/s]"
     ]
    },
    {
     "name": "stdout",
     "output_type": "stream",
     "text": [
      "\t\t\ttaking the whole dataframe\n"
     ]
    },
    {
     "name": "stderr",
     "output_type": "stream",
     "text": [
      " 60%|██████    | 18/30 [00:02<00:02,  5.94it/s]"
     ]
    },
    {
     "name": "stdout",
     "output_type": "stream",
     "text": [
      "\t\t\ttaking the whole dataframe\n"
     ]
    },
    {
     "name": "stderr",
     "output_type": "stream",
     "text": [
      " 63%|██████▎   | 19/30 [00:02<00:01,  5.94it/s]"
     ]
    },
    {
     "name": "stdout",
     "output_type": "stream",
     "text": [
      "\t\t\ttaking the whole dataframe\n"
     ]
    },
    {
     "name": "stderr",
     "output_type": "stream",
     "text": [
      " 67%|██████▋   | 20/30 [00:03<00:01,  5.97it/s]"
     ]
    },
    {
     "name": "stdout",
     "output_type": "stream",
     "text": [
      "\t\t\ttaking the whole dataframe\n"
     ]
    },
    {
     "name": "stderr",
     "output_type": "stream",
     "text": [
      " 70%|███████   | 21/30 [00:03<00:01,  5.93it/s]"
     ]
    },
    {
     "name": "stdout",
     "output_type": "stream",
     "text": [
      "\t\t\ttaking the whole dataframe\n",
      "\t\t\ttaking the whole dataframe\n"
     ]
    },
    {
     "name": "stderr",
     "output_type": "stream",
     "text": [
      " 77%|███████▋  | 23/30 [00:03<00:01,  5.78it/s]"
     ]
    },
    {
     "name": "stdout",
     "output_type": "stream",
     "text": [
      "\t\t\ttaking the whole dataframe\n"
     ]
    },
    {
     "name": "stderr",
     "output_type": "stream",
     "text": [
      " 83%|████████▎ | 25/30 [00:03<00:00,  5.95it/s]"
     ]
    },
    {
     "name": "stdout",
     "output_type": "stream",
     "text": [
      "\t\t\ttaking the whole dataframe\n",
      "\t\t\ttaking the whole dataframe\n"
     ]
    },
    {
     "name": "stderr",
     "output_type": "stream",
     "text": [
      " 90%|█████████ | 27/30 [00:04<00:00,  6.74it/s]"
     ]
    },
    {
     "name": "stdout",
     "output_type": "stream",
     "text": [
      "\t\t\ttaking the whole dataframe\n",
      "\t\t\ttaking the whole dataframe\n",
      "\t\t\ttaking the whole dataframe\n"
     ]
    },
    {
     "name": "stderr",
     "output_type": "stream",
     "text": [
      "100%|██████████| 30/30 [00:04<00:00,  6.76it/s]\n"
     ]
    },
    {
     "name": "stdout",
     "output_type": "stream",
     "text": [
      "\t\t\ttaking the whole dataframe\n",
      "\t\t\ttaking the whole dataframe\n",
      "range(0, 12)\n"
     ]
    },
    {
     "name": "stderr",
     "output_type": "stream",
     "text": [
      "100%|██████████| 1/1 [00:00<00:00,  3.29it/s]\n"
     ]
    },
    {
     "name": "stdout",
     "output_type": "stream",
     "text": [
      "\t\t\ttaking the whole dataframe\n",
      "range(0, 13)\n"
     ]
    },
    {
     "name": "stderr",
     "output_type": "stream",
     "text": [
      "100%|██████████| 4/4 [00:00<00:00, 127.69it/s]\n"
     ]
    },
    {
     "name": "stdout",
     "output_type": "stream",
     "text": [
      "range(0, 6)\n"
     ]
    },
    {
     "name": "stderr",
     "output_type": "stream",
     "text": [
      "100%|██████████| 4/4 [00:00<00:00, 91.43it/s]\n"
     ]
    },
    {
     "name": "stdout",
     "output_type": "stream",
     "text": [
      "range(0, 7)\n"
     ]
    },
    {
     "name": "stderr",
     "output_type": "stream",
     "text": [
      "100%|██████████| 4/4 [00:00<00:00, 59.21it/s]\n"
     ]
    },
    {
     "name": "stdout",
     "output_type": "stream",
     "text": [
      "range(0, 8)\n"
     ]
    },
    {
     "name": "stderr",
     "output_type": "stream",
     "text": [
      "100%|██████████| 4/4 [00:00<00:00, 23.70it/s]\n"
     ]
    },
    {
     "name": "stdout",
     "output_type": "stream",
     "text": [
      "range(0, 9)\n"
     ]
    },
    {
     "name": "stderr",
     "output_type": "stream",
     "text": [
      "100%|██████████| 4/4 [00:00<00:00,  7.53it/s]\n"
     ]
    },
    {
     "name": "stdout",
     "output_type": "stream",
     "text": [
      "range(0, 10)\n"
     ]
    },
    {
     "name": "stderr",
     "output_type": "stream",
     "text": [
      "100%|██████████| 22/22 [00:00<00:00, 113.45it/s]\n"
     ]
    },
    {
     "name": "stdout",
     "output_type": "stream",
     "text": [
      "range(0, 8)\n"
     ]
    },
    {
     "name": "stderr",
     "output_type": "stream",
     "text": [
      "100%|██████████| 24/24 [00:00<00:00, 90.27it/s]\n"
     ]
    },
    {
     "name": "stdout",
     "output_type": "stream",
     "text": [
      "range(0, 9)\n"
     ]
    },
    {
     "name": "stderr",
     "output_type": "stream",
     "text": [
      "100%|██████████| 26/26 [00:00<00:00, 52.69it/s]\n"
     ]
    },
    {
     "name": "stdout",
     "output_type": "stream",
     "text": [
      "range(0, 10)\n"
     ]
    },
    {
     "name": "stderr",
     "output_type": "stream",
     "text": [
      "100%|██████████| 28/28 [00:01<00:00, 20.75it/s]\n"
     ]
    },
    {
     "name": "stdout",
     "output_type": "stream",
     "text": [
      "range(0, 11)\n"
     ]
    },
    {
     "name": "stderr",
     "output_type": "stream",
     "text": [
      "100%|██████████| 30/30 [00:04<00:00,  7.17it/s]\n"
     ]
    },
    {
     "name": "stdout",
     "output_type": "stream",
     "text": [
      "range(0, 12)\n"
     ]
    },
    {
     "name": "stderr",
     "output_type": "stream",
     "text": [
      "100%|██████████| 2/2 [00:00<00:00,  3.34it/s]\n"
     ]
    },
    {
     "name": "stdout",
     "output_type": "stream",
     "text": [
      "range(0, 13)\n"
     ]
    },
    {
     "name": "stderr",
     "output_type": "stream",
     "text": [
      "100%|██████████| 4/4 [00:00<00:00, 136.86it/s]\n"
     ]
    },
    {
     "name": "stdout",
     "output_type": "stream",
     "text": [
      "range(0, 6)\n"
     ]
    },
    {
     "name": "stderr",
     "output_type": "stream",
     "text": [
      "100%|██████████| 4/4 [00:00<00:00, 105.26it/s]\n"
     ]
    },
    {
     "name": "stdout",
     "output_type": "stream",
     "text": [
      "range(0, 7)\n"
     ]
    },
    {
     "name": "stderr",
     "output_type": "stream",
     "text": [
      "100%|██████████| 4/4 [00:00<00:00, 61.55it/s]\n"
     ]
    },
    {
     "name": "stdout",
     "output_type": "stream",
     "text": [
      "range(0, 8)\n"
     ]
    },
    {
     "name": "stderr",
     "output_type": "stream",
     "text": [
      "100%|██████████| 4/4 [00:00<00:00, 24.65it/s]\n"
     ]
    },
    {
     "name": "stdout",
     "output_type": "stream",
     "text": [
      "range(0, 9)\n"
     ]
    },
    {
     "name": "stderr",
     "output_type": "stream",
     "text": [
      "100%|██████████| 4/4 [00:00<00:00,  7.38it/s]\n"
     ]
    },
    {
     "name": "stdout",
     "output_type": "stream",
     "text": [
      "range(0, 10)\n"
     ]
    },
    {
     "name": "stderr",
     "output_type": "stream",
     "text": [
      "100%|██████████| 22/22 [00:00<00:00, 128.23it/s]\n"
     ]
    },
    {
     "name": "stdout",
     "output_type": "stream",
     "text": [
      "range(0, 8)\n"
     ]
    },
    {
     "name": "stderr",
     "output_type": "stream",
     "text": [
      "100%|██████████| 24/24 [00:00<00:00, 87.94it/s]\n"
     ]
    },
    {
     "name": "stdout",
     "output_type": "stream",
     "text": [
      "range(0, 9)\n"
     ]
    },
    {
     "name": "stderr",
     "output_type": "stream",
     "text": [
      "100%|██████████| 26/26 [00:00<00:00, 51.35it/s]\n"
     ]
    },
    {
     "name": "stdout",
     "output_type": "stream",
     "text": [
      "range(0, 10)\n"
     ]
    },
    {
     "name": "stderr",
     "output_type": "stream",
     "text": [
      "100%|██████████| 28/28 [00:01<00:00, 19.63it/s]\n"
     ]
    },
    {
     "name": "stdout",
     "output_type": "stream",
     "text": [
      "range(0, 11)\n"
     ]
    },
    {
     "name": "stderr",
     "output_type": "stream",
     "text": [
      "100%|██████████| 30/30 [00:04<00:00,  6.33it/s]\n"
     ]
    },
    {
     "name": "stdout",
     "output_type": "stream",
     "text": [
      "range(0, 12)\n"
     ]
    },
    {
     "name": "stderr",
     "output_type": "stream",
     "text": [
      "100%|██████████| 2/2 [00:00<00:00,  2.93it/s]\n"
     ]
    },
    {
     "name": "stdout",
     "output_type": "stream",
     "text": [
      "range(0, 13)\n"
     ]
    },
    {
     "name": "stderr",
     "output_type": "stream",
     "text": [
      "100%|██████████| 4/4 [00:00<00:00, 96.78it/s]\n"
     ]
    },
    {
     "name": "stdout",
     "output_type": "stream",
     "text": [
      "\t\t\ttaking the whole dataframe\n",
      "\t\t\ttaking the whole dataframe\n",
      "\t\t\ttaking the whole dataframe\n",
      "\t\t\ttaking the whole dataframe\n",
      "range(0, 6)\n"
     ]
    },
    {
     "name": "stderr",
     "output_type": "stream",
     "text": [
      "100%|██████████| 4/4 [00:00<00:00, 57.84it/s]\n"
     ]
    },
    {
     "name": "stdout",
     "output_type": "stream",
     "text": [
      "\t\t\ttaking the whole dataframe\n",
      "\t\t\ttaking the whole dataframe\n",
      "\t\t\ttaking the whole dataframe\n",
      "\t\t\ttaking the whole dataframe\n",
      "range(0, 7)\n"
     ]
    },
    {
     "name": "stderr",
     "output_type": "stream",
     "text": [
      "  0%|          | 0/4 [00:00<?, ?it/s]"
     ]
    },
    {
     "name": "stdout",
     "output_type": "stream",
     "text": [
      "\t\t\ttaking the whole dataframe\n"
     ]
    },
    {
     "name": "stderr",
     "output_type": "stream",
     "text": [
      "100%|██████████| 4/4 [00:00<00:00, 41.61it/s]\n"
     ]
    },
    {
     "name": "stdout",
     "output_type": "stream",
     "text": [
      "\t\t\ttaking the whole dataframe\n",
      "\t\t\ttaking the whole dataframe\n",
      "\t\t\ttaking the whole dataframe\n",
      "range(0, 8)\n"
     ]
    },
    {
     "name": "stderr",
     "output_type": "stream",
     "text": [
      "  0%|          | 0/4 [00:00<?, ?it/s]"
     ]
    },
    {
     "name": "stdout",
     "output_type": "stream",
     "text": [
      "\t\t\ttaking the whole dataframe\n",
      "\t\t\ttaking the whole dataframe\n",
      "\t\t\ttaking the whole dataframe\n"
     ]
    },
    {
     "name": "stderr",
     "output_type": "stream",
     "text": [
      "100%|██████████| 4/4 [00:00<00:00, 24.37it/s]\n"
     ]
    },
    {
     "name": "stdout",
     "output_type": "stream",
     "text": [
      "\t\t\ttaking the whole dataframe\n",
      "range(0, 9)\n"
     ]
    },
    {
     "name": "stderr",
     "output_type": "stream",
     "text": [
      " 25%|██▌       | 1/4 [00:00<00:00,  6.98it/s]"
     ]
    },
    {
     "name": "stdout",
     "output_type": "stream",
     "text": [
      "\t\t\ttaking the whole dataframe\n"
     ]
    },
    {
     "name": "stderr",
     "output_type": "stream",
     "text": [
      " 50%|█████     | 2/4 [00:00<00:00,  7.41it/s]"
     ]
    },
    {
     "name": "stdout",
     "output_type": "stream",
     "text": [
      "\t\t\ttaking the whole dataframe\n"
     ]
    },
    {
     "name": "stderr",
     "output_type": "stream",
     "text": [
      " 75%|███████▌  | 3/4 [00:00<00:00,  7.53it/s]"
     ]
    },
    {
     "name": "stdout",
     "output_type": "stream",
     "text": [
      "\t\t\ttaking the whole dataframe\n"
     ]
    },
    {
     "name": "stderr",
     "output_type": "stream",
     "text": [
      "100%|██████████| 4/4 [00:00<00:00,  7.54it/s]\n"
     ]
    },
    {
     "name": "stdout",
     "output_type": "stream",
     "text": [
      "\t\t\ttaking the whole dataframe\n",
      "range(0, 10)\n"
     ]
    },
    {
     "name": "stderr",
     "output_type": "stream",
     "text": [
      "  0%|          | 0/22 [00:00<?, ?it/s]"
     ]
    },
    {
     "name": "stdout",
     "output_type": "stream",
     "text": [
      "\t\t\ttaking the whole dataframe\n",
      "\t\t\ttaking the whole dataframe\n",
      "\t\t\ttaking the whole dataframe\n",
      "\t\t\ttaking the whole dataframe\n"
     ]
    },
    {
     "name": "stderr",
     "output_type": "stream",
     "text": [
      " 59%|█████▉    | 13/22 [00:00<00:00, 126.47it/s]"
     ]
    },
    {
     "name": "stdout",
     "output_type": "stream",
     "text": [
      "\t\t\ttaking the whole dataframe\n",
      "\t\t\ttaking the whole dataframe\n",
      "\t\t\ttaking the whole dataframe\n",
      "\t\t\ttaking the whole dataframe\n",
      "\t\t\ttaking the whole dataframe\n",
      "\t\t\ttaking the whole dataframe\n",
      "\t\t\ttaking the whole dataframe\n",
      "\t\t\ttaking the whole dataframe\n",
      "\t\t\ttaking the whole dataframe\n",
      "\t\t\ttaking the whole dataframe\n",
      "\t\t\ttaking the whole dataframe\n",
      "\t\t\ttaking the whole dataframe\n",
      "\t\t\ttaking the whole dataframe\n",
      "\t\t\ttaking the whole dataframe\n",
      "\t\t\ttaking the whole dataframe\n"
     ]
    },
    {
     "name": "stderr",
     "output_type": "stream",
     "text": [
      "100%|██████████| 22/22 [00:00<00:00, 128.28it/s]\n"
     ]
    },
    {
     "name": "stdout",
     "output_type": "stream",
     "text": [
      "\t\t\ttaking the whole dataframe\n",
      "\t\t\ttaking the whole dataframe\n",
      "\t\t\ttaking the whole dataframe\n",
      "range(0, 8)\n"
     ]
    },
    {
     "name": "stderr",
     "output_type": "stream",
     "text": [
      "  0%|          | 0/24 [00:00<?, ?it/s]"
     ]
    },
    {
     "name": "stdout",
     "output_type": "stream",
     "text": [
      "\t\t\ttaking the whole dataframe\n"
     ]
    },
    {
     "name": "stderr",
     "output_type": "stream",
     "text": [
      " 42%|████▏     | 10/24 [00:00<00:00, 93.29it/s]"
     ]
    },
    {
     "name": "stdout",
     "output_type": "stream",
     "text": [
      "\t\t\ttaking the whole dataframe\n",
      "\t\t\ttaking the whole dataframe\n",
      "\t\t\ttaking the whole dataframe\n",
      "\t\t\ttaking the whole dataframe\n",
      "\t\t\ttaking the whole dataframe\n",
      "\t\t\ttaking the whole dataframe\n",
      "\t\t\ttaking the whole dataframe\n",
      "\t\t\ttaking the whole dataframe\n",
      "\t\t\ttaking the whole dataframe\n",
      "\t\t\ttaking the whole dataframe\n",
      "\t\t\ttaking the whole dataframe\n",
      "\t\t\ttaking the whole dataframe\n",
      "\t\t\ttaking the whole dataframe\n",
      "\t\t\ttaking the whole dataframe\n",
      "\t\t\ttaking the whole dataframe\n",
      "\t\t\ttaking the whole dataframe\n",
      "\t\t\ttaking the whole dataframe\n",
      "\t\t\ttaking the whole dataframe"
     ]
    },
    {
     "name": "stderr",
     "output_type": "stream",
     "text": [
      "100%|██████████| 24/24 [00:00<00:00, 93.37it/s]\n"
     ]
    },
    {
     "name": "stdout",
     "output_type": "stream",
     "text": [
      "\n",
      "\t\t\ttaking the whole dataframe\n",
      "\t\t\ttaking the whole dataframe\n",
      "\t\t\ttaking the whole dataframe\n",
      "\t\t\ttaking the whole dataframe\n",
      "\t\t\ttaking the whole dataframe\n",
      "range(0, 9)\n"
     ]
    },
    {
     "name": "stderr",
     "output_type": "stream",
     "text": [
      "  0%|          | 0/26 [00:00<?, ?it/s]"
     ]
    },
    {
     "name": "stdout",
     "output_type": "stream",
     "text": [
      "\t\t\ttaking the whole dataframe\n",
      "\t\t\ttaking the whole dataframe\n",
      "\t\t\ttaking the whole dataframe\n",
      "\t\t\ttaking the whole dataframe\n",
      "\t\t\ttaking the whole dataframe\n",
      "\t\t\ttaking the whole dataframe\n",
      "\t\t\ttaking the whole dataframe\n"
     ]
    },
    {
     "name": "stderr",
     "output_type": "stream",
     "text": [
      " 27%|██▋       | 7/26 [00:00<00:00, 58.93it/s]"
     ]
    },
    {
     "name": "stdout",
     "output_type": "stream",
     "text": [
      "\t\t\ttaking the whole dataframe\n",
      "\t\t\ttaking the whole dataframe\n",
      "\t\t\ttaking the whole dataframe\n",
      "\t\t\ttaking the whole dataframe\n",
      "\t\t\ttaking the whole dataframe\n",
      "\t\t\ttaking the whole dataframe\n"
     ]
    },
    {
     "name": "stderr",
     "output_type": "stream",
     "text": [
      " 50%|█████     | 13/26 [00:00<00:00, 52.10it/s]"
     ]
    },
    {
     "name": "stdout",
     "output_type": "stream",
     "text": [
      "\t\t\ttaking the whole dataframe\n",
      "\t\t\ttaking the whole dataframe\n",
      "\t\t\ttaking the whole dataframe\n",
      "\t\t\ttaking the whole dataframe\n"
     ]
    },
    {
     "name": "stderr",
     "output_type": "stream",
     "text": [
      " 73%|███████▎  | 19/26 [00:00<00:00, 48.98it/s]"
     ]
    },
    {
     "name": "stdout",
     "output_type": "stream",
     "text": [
      "\t\t\ttaking the whole dataframe\n",
      "\t\t\ttaking the whole dataframe\n",
      "\t\t\ttaking the whole dataframe\n",
      "\t\t\ttaking the whole dataframe\n",
      "\t\t\ttaking the whole dataframe\n",
      "\t\t\ttaking the whole dataframe\n"
     ]
    },
    {
     "name": "stderr",
     "output_type": "stream",
     "text": [
      "100%|██████████| 26/26 [00:00<00:00, 51.71it/s]\n"
     ]
    },
    {
     "name": "stdout",
     "output_type": "stream",
     "text": [
      "\t\t\ttaking the whole dataframe\n",
      "\t\t\ttaking the whole dataframe\n",
      "\t\t\ttaking the whole dataframe\n",
      "range(0, 10)\n"
     ]
    },
    {
     "name": "stderr",
     "output_type": "stream",
     "text": [
      "  0%|          | 0/28 [00:00<?, ?it/s]"
     ]
    },
    {
     "name": "stdout",
     "output_type": "stream",
     "text": [
      "\t\t\ttaking the whole dataframe\n",
      "\t\t\ttaking the whole dataframe\n",
      "\t\t\ttaking the whole dataframe\n"
     ]
    },
    {
     "name": "stderr",
     "output_type": "stream",
     "text": [
      " 14%|█▍        | 4/28 [00:00<00:00, 32.97it/s]"
     ]
    },
    {
     "name": "stdout",
     "output_type": "stream",
     "text": [
      "\t\t\ttaking the whole dataframe\n",
      "\t\t\ttaking the whole dataframe\n"
     ]
    },
    {
     "name": "stderr",
     "output_type": "stream",
     "text": [
      " 29%|██▊       | 8/28 [00:00<00:00, 23.44it/s]"
     ]
    },
    {
     "name": "stdout",
     "output_type": "stream",
     "text": [
      "\t\t\ttaking the whole dataframe\n",
      "\t\t\ttaking the whole dataframe\n",
      "\t\t\ttaking the whole dataframe\n",
      "\t\t\ttaking the whole dataframe\n",
      "\t\t\ttaking the whole dataframe\n"
     ]
    },
    {
     "name": "stderr",
     "output_type": "stream",
     "text": [
      " 39%|███▉      | 11/28 [00:00<00:00, 21.64it/s]"
     ]
    },
    {
     "name": "stdout",
     "output_type": "stream",
     "text": [
      "\t\t\ttaking the whole dataframe\n",
      "\t\t\ttaking the whole dataframe\n",
      "\t\t\ttaking the whole dataframe\n"
     ]
    },
    {
     "name": "stderr",
     "output_type": "stream",
     "text": [
      " 50%|█████     | 14/28 [00:00<00:00, 20.44it/s]"
     ]
    },
    {
     "name": "stdout",
     "output_type": "stream",
     "text": [
      "\t\t\ttaking the whole dataframe\n"
     ]
    },
    {
     "name": "stderr",
     "output_type": "stream",
     "text": [
      " 61%|██████    | 17/28 [00:00<00:00, 19.88it/s]"
     ]
    },
    {
     "name": "stdout",
     "output_type": "stream",
     "text": [
      "\t\t\ttaking the whole dataframe\n",
      "\t\t\ttaking the whole dataframe\n",
      "\t\t\ttaking the whole dataframe\n",
      "\t\t\ttaking the whole dataframe\n"
     ]
    },
    {
     "name": "stderr",
     "output_type": "stream",
     "text": [
      " 71%|███████▏  | 20/28 [00:00<00:00, 19.67it/s]"
     ]
    },
    {
     "name": "stdout",
     "output_type": "stream",
     "text": [
      "\t\t\ttaking the whole dataframe\n",
      "\t\t\ttaking the whole dataframe\n",
      "\t\t\ttaking the whole dataframe\n"
     ]
    },
    {
     "name": "stderr",
     "output_type": "stream",
     "text": [
      " 79%|███████▊  | 22/28 [00:01<00:00, 19.61it/s]"
     ]
    },
    {
     "name": "stdout",
     "output_type": "stream",
     "text": [
      "\t\t\ttaking the whole dataframe\n",
      "\t\t\ttaking the whole dataframe\n"
     ]
    },
    {
     "name": "stderr",
     "output_type": "stream",
     "text": [
      " 86%|████████▌ | 24/28 [00:01<00:00, 19.57it/s]"
     ]
    },
    {
     "name": "stdout",
     "output_type": "stream",
     "text": [
      "\t\t\ttaking the whole dataframe\n",
      "\t\t\ttaking the whole dataframe\n",
      "\t\t\ttaking the whole dataframe\n"
     ]
    },
    {
     "name": "stderr",
     "output_type": "stream",
     "text": [
      "100%|██████████| 28/28 [00:01<00:00, 21.59it/s]\n"
     ]
    },
    {
     "name": "stdout",
     "output_type": "stream",
     "text": [
      "\t\t\ttaking the whole dataframe\n",
      "\t\t\ttaking the whole dataframe\n",
      "range(0, 11)\n"
     ]
    },
    {
     "name": "stderr",
     "output_type": "stream",
     "text": [
      "  0%|          | 0/30 [00:00<?, ?it/s]"
     ]
    },
    {
     "name": "stdout",
     "output_type": "stream",
     "text": [
      "\t\t\ttaking the whole dataframe\n"
     ]
    },
    {
     "name": "stderr",
     "output_type": "stream",
     "text": [
      "  7%|▋         | 2/30 [00:00<00:02, 12.09it/s]"
     ]
    },
    {
     "name": "stdout",
     "output_type": "stream",
     "text": [
      "\t\t\ttaking the whole dataframe\n",
      "\t\t\ttaking the whole dataframe\n"
     ]
    },
    {
     "name": "stderr",
     "output_type": "stream",
     "text": [
      " 13%|█▎        | 4/30 [00:00<00:02, 11.96it/s]"
     ]
    },
    {
     "name": "stdout",
     "output_type": "stream",
     "text": [
      "\t\t\ttaking the whole dataframe\n",
      "\t\t\ttaking the whole dataframe\n"
     ]
    },
    {
     "name": "stderr",
     "output_type": "stream",
     "text": [
      " 20%|██        | 6/30 [00:00<00:02,  8.46it/s]"
     ]
    },
    {
     "name": "stdout",
     "output_type": "stream",
     "text": [
      "\t\t\ttaking the whole dataframe\n"
     ]
    },
    {
     "name": "stderr",
     "output_type": "stream",
     "text": [
      " 23%|██▎       | 7/30 [00:00<00:02,  7.81it/s]"
     ]
    },
    {
     "name": "stdout",
     "output_type": "stream",
     "text": [
      "\t\t\ttaking the whole dataframe\n"
     ]
    },
    {
     "name": "stderr",
     "output_type": "stream",
     "text": [
      " 27%|██▋       | 8/30 [00:00<00:02,  7.36it/s]"
     ]
    },
    {
     "name": "stdout",
     "output_type": "stream",
     "text": [
      "\t\t\ttaking the whole dataframe\n"
     ]
    },
    {
     "name": "stderr",
     "output_type": "stream",
     "text": [
      " 30%|███       | 9/30 [00:01<00:02,  7.01it/s]"
     ]
    },
    {
     "name": "stdout",
     "output_type": "stream",
     "text": [
      "\t\t\ttaking the whole dataframe\n"
     ]
    },
    {
     "name": "stderr",
     "output_type": "stream",
     "text": [
      " 33%|███▎      | 10/30 [00:01<00:02,  6.82it/s]"
     ]
    },
    {
     "name": "stdout",
     "output_type": "stream",
     "text": [
      "\t\t\ttaking the whole dataframe\n"
     ]
    },
    {
     "name": "stderr",
     "output_type": "stream",
     "text": [
      " 37%|███▋      | 11/30 [00:01<00:02,  6.67it/s]"
     ]
    },
    {
     "name": "stdout",
     "output_type": "stream",
     "text": [
      "\t\t\ttaking the whole dataframe\n"
     ]
    },
    {
     "name": "stderr",
     "output_type": "stream",
     "text": [
      " 40%|████      | 12/30 [00:01<00:02,  6.37it/s]"
     ]
    },
    {
     "name": "stdout",
     "output_type": "stream",
     "text": [
      "\t\t\ttaking the whole dataframe\n"
     ]
    },
    {
     "name": "stderr",
     "output_type": "stream",
     "text": [
      " 43%|████▎     | 13/30 [00:01<00:02,  6.28it/s]"
     ]
    },
    {
     "name": "stdout",
     "output_type": "stream",
     "text": [
      "\t\t\ttaking the whole dataframe\n"
     ]
    },
    {
     "name": "stderr",
     "output_type": "stream",
     "text": [
      " 47%|████▋     | 14/30 [00:01<00:02,  6.25it/s]"
     ]
    },
    {
     "name": "stdout",
     "output_type": "stream",
     "text": [
      "\t\t\ttaking the whole dataframe\n"
     ]
    },
    {
     "name": "stderr",
     "output_type": "stream",
     "text": [
      " 50%|█████     | 15/30 [00:02<00:02,  6.16it/s]"
     ]
    },
    {
     "name": "stdout",
     "output_type": "stream",
     "text": [
      "\t\t\ttaking the whole dataframe\n"
     ]
    },
    {
     "name": "stderr",
     "output_type": "stream",
     "text": [
      " 53%|█████▎    | 16/30 [00:02<00:02,  6.20it/s]"
     ]
    },
    {
     "name": "stdout",
     "output_type": "stream",
     "text": [
      "\t\t\ttaking the whole dataframe\n"
     ]
    },
    {
     "name": "stderr",
     "output_type": "stream",
     "text": [
      " 57%|█████▋    | 17/30 [00:02<00:02,  6.16it/s]"
     ]
    },
    {
     "name": "stdout",
     "output_type": "stream",
     "text": [
      "\t\t\ttaking the whole dataframe\n"
     ]
    },
    {
     "name": "stderr",
     "output_type": "stream",
     "text": [
      " 60%|██████    | 18/30 [00:02<00:01,  6.18it/s]"
     ]
    },
    {
     "name": "stdout",
     "output_type": "stream",
     "text": [
      "\t\t\ttaking the whole dataframe\n"
     ]
    },
    {
     "name": "stderr",
     "output_type": "stream",
     "text": [
      " 63%|██████▎   | 19/30 [00:02<00:01,  6.19it/s]"
     ]
    },
    {
     "name": "stdout",
     "output_type": "stream",
     "text": [
      "\t\t\ttaking the whole dataframe\n"
     ]
    },
    {
     "name": "stderr",
     "output_type": "stream",
     "text": [
      " 67%|██████▋   | 20/30 [00:02<00:01,  6.19it/s]"
     ]
    },
    {
     "name": "stdout",
     "output_type": "stream",
     "text": [
      "\t\t\ttaking the whole dataframe\n"
     ]
    },
    {
     "name": "stderr",
     "output_type": "stream",
     "text": [
      " 70%|███████   | 21/30 [00:03<00:01,  5.96it/s]"
     ]
    },
    {
     "name": "stdout",
     "output_type": "stream",
     "text": [
      "\t\t\ttaking the whole dataframe\n"
     ]
    },
    {
     "name": "stderr",
     "output_type": "stream",
     "text": [
      " 73%|███████▎  | 22/30 [00:03<00:01,  5.63it/s]"
     ]
    },
    {
     "name": "stdout",
     "output_type": "stream",
     "text": [
      "\t\t\ttaking the whole dataframe\n"
     ]
    },
    {
     "name": "stderr",
     "output_type": "stream",
     "text": [
      " 77%|███████▋  | 23/30 [00:03<00:01,  5.24it/s]"
     ]
    },
    {
     "name": "stdout",
     "output_type": "stream",
     "text": [
      "\t\t\ttaking the whole dataframe\n"
     ]
    },
    {
     "name": "stderr",
     "output_type": "stream",
     "text": [
      " 80%|████████  | 24/30 [00:03<00:01,  4.81it/s]"
     ]
    },
    {
     "name": "stdout",
     "output_type": "stream",
     "text": [
      "\t\t\ttaking the whole dataframe\n",
      "\t\t\ttaking the whole dataframe\n"
     ]
    },
    {
     "name": "stderr",
     "output_type": "stream",
     "text": [
      " 87%|████████▋ | 26/30 [00:04<00:00,  5.07it/s]"
     ]
    },
    {
     "name": "stdout",
     "output_type": "stream",
     "text": [
      "\t\t\ttaking the whole dataframe\n",
      "\t\t\ttaking the whole dataframe\n",
      "\t\t\ttaking the whole dataframe\n"
     ]
    },
    {
     "name": "stderr",
     "output_type": "stream",
     "text": [
      "100%|██████████| 30/30 [00:04<00:00,  6.67it/s]\n"
     ]
    },
    {
     "name": "stdout",
     "output_type": "stream",
     "text": [
      "\t\t\ttaking the whole dataframe\n",
      "\t\t\ttaking the whole dataframe\n",
      "range(0, 12)\n"
     ]
    },
    {
     "name": "stderr",
     "output_type": "stream",
     "text": [
      " 50%|█████     | 1/2 [00:00<00:00,  3.45it/s]"
     ]
    },
    {
     "name": "stdout",
     "output_type": "stream",
     "text": [
      "\t\t\ttaking the whole dataframe\n"
     ]
    },
    {
     "name": "stderr",
     "output_type": "stream",
     "text": [
      "100%|██████████| 2/2 [00:00<00:00,  3.40it/s]\n"
     ]
    },
    {
     "name": "stdout",
     "output_type": "stream",
     "text": [
      "\t\t\ttaking the whole dataframe\n",
      "range(0, 13)\n"
     ]
    },
    {
     "name": "stderr",
     "output_type": "stream",
     "text": [
      "100%|██████████| 4/4 [00:00<00:00, 119.86it/s]\n"
     ]
    },
    {
     "name": "stdout",
     "output_type": "stream",
     "text": [
      "range(0, 6)\n"
     ]
    },
    {
     "name": "stderr",
     "output_type": "stream",
     "text": [
      "100%|██████████| 4/4 [00:00<00:00, 96.84it/s]\n"
     ]
    },
    {
     "name": "stdout",
     "output_type": "stream",
     "text": [
      "range(0, 7)\n"
     ]
    },
    {
     "name": "stderr",
     "output_type": "stream",
     "text": [
      "100%|██████████| 4/4 [00:00<00:00, 57.94it/s]\n"
     ]
    },
    {
     "name": "stdout",
     "output_type": "stream",
     "text": [
      "range(0, 8)\n"
     ]
    },
    {
     "name": "stderr",
     "output_type": "stream",
     "text": [
      "100%|██████████| 4/4 [00:00<00:00, 21.46it/s]\n"
     ]
    },
    {
     "name": "stdout",
     "output_type": "stream",
     "text": [
      "range(0, 9)\n"
     ]
    },
    {
     "name": "stderr",
     "output_type": "stream",
     "text": [
      "100%|██████████| 4/4 [00:00<00:00,  6.96it/s]\n"
     ]
    },
    {
     "name": "stdout",
     "output_type": "stream",
     "text": [
      "range(0, 10)\n"
     ]
    },
    {
     "name": "stderr",
     "output_type": "stream",
     "text": [
      "100%|██████████| 22/22 [00:00<00:00, 108.47it/s]\n"
     ]
    },
    {
     "name": "stdout",
     "output_type": "stream",
     "text": [
      "range(0, 8)\n"
     ]
    },
    {
     "name": "stderr",
     "output_type": "stream",
     "text": [
      "100%|██████████| 24/24 [00:00<00:00, 58.78it/s]\n"
     ]
    },
    {
     "name": "stdout",
     "output_type": "stream",
     "text": [
      "range(0, 9)\n"
     ]
    },
    {
     "name": "stderr",
     "output_type": "stream",
     "text": [
      "100%|██████████| 26/26 [00:00<00:00, 41.43it/s]\n"
     ]
    },
    {
     "name": "stdout",
     "output_type": "stream",
     "text": [
      "range(0, 10)\n"
     ]
    },
    {
     "name": "stderr",
     "output_type": "stream",
     "text": [
      "100%|██████████| 28/28 [00:01<00:00, 20.20it/s]\n"
     ]
    },
    {
     "name": "stdout",
     "output_type": "stream",
     "text": [
      "range(0, 11)\n"
     ]
    },
    {
     "name": "stderr",
     "output_type": "stream",
     "text": [
      "100%|██████████| 30/30 [00:04<00:00,  6.59it/s]\n"
     ]
    },
    {
     "name": "stdout",
     "output_type": "stream",
     "text": [
      "range(0, 12)\n"
     ]
    },
    {
     "name": "stderr",
     "output_type": "stream",
     "text": [
      "100%|██████████| 2/2 [00:00<00:00,  3.14it/s]\n"
     ]
    },
    {
     "name": "stdout",
     "output_type": "stream",
     "text": [
      "range(0, 13)\n"
     ]
    },
    {
     "name": "stderr",
     "output_type": "stream",
     "text": [
      "100%|██████████| 4/4 [00:00<00:00, 137.04it/s]\n"
     ]
    },
    {
     "name": "stdout",
     "output_type": "stream",
     "text": [
      "range(0, 6)\n"
     ]
    },
    {
     "name": "stderr",
     "output_type": "stream",
     "text": [
      "100%|██████████| 4/4 [00:00<00:00, 99.11it/s]\n"
     ]
    },
    {
     "name": "stdout",
     "output_type": "stream",
     "text": [
      "range(0, 7)\n"
     ]
    },
    {
     "name": "stderr",
     "output_type": "stream",
     "text": [
      "100%|██████████| 4/4 [00:00<00:00, 55.64it/s]\n"
     ]
    },
    {
     "name": "stdout",
     "output_type": "stream",
     "text": [
      "range(0, 8)\n"
     ]
    },
    {
     "name": "stderr",
     "output_type": "stream",
     "text": [
      "100%|██████████| 4/4 [00:00<00:00, 23.83it/s]\n"
     ]
    },
    {
     "name": "stdout",
     "output_type": "stream",
     "text": [
      "range(0, 9)\n"
     ]
    },
    {
     "name": "stderr",
     "output_type": "stream",
     "text": [
      "100%|██████████| 4/4 [00:00<00:00,  7.67it/s]\n"
     ]
    },
    {
     "name": "stdout",
     "output_type": "stream",
     "text": [
      "range(0, 10)\n"
     ]
    },
    {
     "name": "stderr",
     "output_type": "stream",
     "text": [
      "100%|██████████| 22/22 [00:00<00:00, 116.39it/s]\n"
     ]
    },
    {
     "name": "stdout",
     "output_type": "stream",
     "text": [
      "range(0, 8)\n"
     ]
    },
    {
     "name": "stderr",
     "output_type": "stream",
     "text": [
      "100%|██████████| 24/24 [00:00<00:00, 96.39it/s]\n"
     ]
    },
    {
     "name": "stdout",
     "output_type": "stream",
     "text": [
      "range(0, 9)\n"
     ]
    },
    {
     "name": "stderr",
     "output_type": "stream",
     "text": [
      "100%|██████████| 26/26 [00:00<00:00, 53.60it/s]\n"
     ]
    },
    {
     "name": "stdout",
     "output_type": "stream",
     "text": [
      "range(0, 10)\n"
     ]
    },
    {
     "name": "stderr",
     "output_type": "stream",
     "text": [
      "100%|██████████| 28/28 [00:01<00:00, 21.76it/s]\n"
     ]
    },
    {
     "name": "stdout",
     "output_type": "stream",
     "text": [
      "range(0, 11)\n"
     ]
    },
    {
     "name": "stderr",
     "output_type": "stream",
     "text": [
      "100%|██████████| 30/30 [00:04<00:00,  7.04it/s]\n"
     ]
    },
    {
     "name": "stdout",
     "output_type": "stream",
     "text": [
      "range(0, 12)\n"
     ]
    },
    {
     "name": "stderr",
     "output_type": "stream",
     "text": [
      "100%|██████████| 2/2 [00:00<00:00,  2.88it/s]\n"
     ]
    },
    {
     "name": "stdout",
     "output_type": "stream",
     "text": [
      "range(0, 13)\n"
     ]
    },
    {
     "name": "stderr",
     "output_type": "stream",
     "text": [
      "100%|██████████| 4/4 [00:00<00:00, 142.12it/s]\n"
     ]
    },
    {
     "name": "stdout",
     "output_type": "stream",
     "text": [
      "\t\t\ttaking the whole dataframe\n",
      "\t\t\ttaking the whole dataframe\n",
      "\t\t\ttaking the whole dataframe\n",
      "\t\t\ttaking the whole dataframe\n",
      "range(0, 6)\n"
     ]
    },
    {
     "name": "stderr",
     "output_type": "stream",
     "text": [
      "100%|██████████| 4/4 [00:00<00:00, 110.99it/s]\n"
     ]
    },
    {
     "name": "stdout",
     "output_type": "stream",
     "text": [
      "\t\t\ttaking the whole dataframe\n",
      "\t\t\ttaking the whole dataframe\n",
      "\t\t\ttaking the whole dataframe\n",
      "\t\t\ttaking the whole dataframe\n",
      "range(0, 7)\n"
     ]
    },
    {
     "name": "stderr",
     "output_type": "stream",
     "text": [
      "  0%|          | 0/4 [00:00<?, ?it/s]"
     ]
    },
    {
     "name": "stdout",
     "output_type": "stream",
     "text": [
      "\t\t\ttaking the whole dataframe\n",
      "\t\t\ttaking the whole dataframe\n",
      "\t\t\ttaking the whole dataframe\n",
      "\t\t\ttaking the whole dataframe\n"
     ]
    },
    {
     "name": "stderr",
     "output_type": "stream",
     "text": [
      "100%|██████████| 4/4 [00:00<00:00, 56.61it/s]\n"
     ]
    },
    {
     "name": "stdout",
     "output_type": "stream",
     "text": [
      "range(0, 8)\n"
     ]
    },
    {
     "name": "stderr",
     "output_type": "stream",
     "text": [
      "  0%|          | 0/4 [00:00<?, ?it/s]"
     ]
    },
    {
     "name": "stdout",
     "output_type": "stream",
     "text": [
      "\t\t\ttaking the whole dataframe\n",
      "\t\t\ttaking the whole dataframe\n"
     ]
    },
    {
     "name": "stderr",
     "output_type": "stream",
     "text": [
      "100%|██████████| 4/4 [00:00<00:00, 23.99it/s]\n"
     ]
    },
    {
     "name": "stdout",
     "output_type": "stream",
     "text": [
      "\t\t\ttaking the whole dataframe\n",
      "\t\t\ttaking the whole dataframe\n",
      "range(0, 9)\n"
     ]
    },
    {
     "name": "stderr",
     "output_type": "stream",
     "text": [
      "  0%|          | 0/4 [00:00<?, ?it/s]"
     ]
    },
    {
     "name": "stdout",
     "output_type": "stream",
     "text": [
      "\t\t\ttaking the whole dataframe\n"
     ]
    },
    {
     "name": "stderr",
     "output_type": "stream",
     "text": [
      " 50%|█████     | 2/4 [00:00<00:00,  7.61it/s]"
     ]
    },
    {
     "name": "stdout",
     "output_type": "stream",
     "text": [
      "\t\t\ttaking the whole dataframe\n"
     ]
    },
    {
     "name": "stderr",
     "output_type": "stream",
     "text": [
      " 75%|███████▌  | 3/4 [00:00<00:00,  7.73it/s]"
     ]
    },
    {
     "name": "stdout",
     "output_type": "stream",
     "text": [
      "\t\t\ttaking the whole dataframe\n"
     ]
    },
    {
     "name": "stderr",
     "output_type": "stream",
     "text": [
      "100%|██████████| 4/4 [00:00<00:00,  7.66it/s]\n"
     ]
    },
    {
     "name": "stdout",
     "output_type": "stream",
     "text": [
      "\t\t\ttaking the whole dataframe\n",
      "range(0, 10)\n"
     ]
    },
    {
     "name": "stderr",
     "output_type": "stream",
     "text": [
      "  0%|          | 0/22 [00:00<?, ?it/s]"
     ]
    },
    {
     "name": "stdout",
     "output_type": "stream",
     "text": [
      "\t\t\ttaking the whole dataframe\n",
      "\t\t\ttaking the whole dataframe\n",
      "\t\t\ttaking the whole dataframe\n",
      "\t\t\ttaking the whole dataframe\n"
     ]
    },
    {
     "name": "stderr",
     "output_type": "stream",
     "text": [
      " 59%|█████▉    | 13/22 [00:00<00:00, 122.05it/s]"
     ]
    },
    {
     "name": "stdout",
     "output_type": "stream",
     "text": [
      "\t\t\ttaking the whole dataframe\n",
      "\t\t\ttaking the whole dataframe\n",
      "\t\t\ttaking the whole dataframe\n",
      "\t\t\ttaking the whole dataframe\n",
      "\t\t\ttaking the whole dataframe\n",
      "\t\t\ttaking the whole dataframe\n",
      "\t\t\ttaking the whole dataframe\n",
      "\t\t\ttaking the whole dataframe\n",
      "\t\t\ttaking the whole dataframe\n",
      "\t\t\ttaking the whole dataframe\n",
      "\t\t\ttaking the whole dataframe\n",
      "\t\t\ttaking the whole dataframe\n",
      "\t\t\ttaking the whole dataframe\n",
      "\t\t\ttaking the whole dataframe\n",
      "\t\t\ttaking the whole dataframe\n",
      "\t\t\ttaking the whole dataframe\n"
     ]
    },
    {
     "name": "stderr",
     "output_type": "stream",
     "text": [
      "100%|██████████| 22/22 [00:00<00:00, 125.80it/s]\n"
     ]
    },
    {
     "name": "stdout",
     "output_type": "stream",
     "text": [
      "\t\t\ttaking the whole dataframe\n",
      "\t\t\ttaking the whole dataframe\n",
      "range(0, 8)\n"
     ]
    },
    {
     "name": "stderr",
     "output_type": "stream",
     "text": [
      "  0%|          | 0/24 [00:00<?, ?it/s]"
     ]
    },
    {
     "name": "stdout",
     "output_type": "stream",
     "text": [
      "\t\t\ttaking the whole dataframe\n",
      "\t\t\ttaking the whole dataframe\n",
      "\t\t\ttaking the whole dataframe\n"
     ]
    },
    {
     "name": "stderr",
     "output_type": "stream",
     "text": [
      " 42%|████▏     | 10/24 [00:00<00:00, 93.75it/s]"
     ]
    },
    {
     "name": "stdout",
     "output_type": "stream",
     "text": [
      "\t\t\ttaking the whole dataframe\n",
      "\t\t\ttaking the whole dataframe\n",
      "\t\t\ttaking the whole dataframe\n",
      "\t\t\ttaking the whole dataframe\n",
      "\t\t\ttaking the whole dataframe\n",
      "\t\t\ttaking the whole dataframe\n",
      "\t\t\ttaking the whole dataframe\n",
      "\t\t\ttaking the whole dataframe\n",
      "\t\t\ttaking the whole dataframe\n",
      "\t\t\ttaking the whole dataframe\n",
      "\t\t\ttaking the whole dataframe\n",
      "\t\t\ttaking the whole dataframe\n",
      "\t\t\ttaking the whole dataframe\n",
      "\t\t\ttaking the whole dataframe\n",
      "\t\t\ttaking the whole dataframe\n"
     ]
    },
    {
     "name": "stderr",
     "output_type": "stream",
     "text": [
      " 83%|████████▎ | 20/24 [00:00<00:00, 89.79it/s]"
     ]
    },
    {
     "name": "stdout",
     "output_type": "stream",
     "text": [
      "\t\t\ttaking the whole dataframe\n",
      "\t\t\ttaking the whole dataframe\n"
     ]
    },
    {
     "name": "stderr",
     "output_type": "stream",
     "text": [
      "100%|██████████| 24/24 [00:00<00:00, 91.10it/s]\n"
     ]
    },
    {
     "name": "stdout",
     "output_type": "stream",
     "text": [
      "\t\t\ttaking the whole dataframe\n",
      "\t\t\ttaking the whole dataframe\n",
      "\t\t\ttaking the whole dataframe\n",
      "\t\t\ttaking the whole dataframe\n",
      "range(0, 9)\n"
     ]
    },
    {
     "name": "stderr",
     "output_type": "stream",
     "text": [
      "  0%|          | 0/26 [00:00<?, ?it/s]"
     ]
    },
    {
     "name": "stdout",
     "output_type": "stream",
     "text": [
      "\t\t\ttaking the whole dataframe\n",
      "\t\t\ttaking the whole dataframe\n",
      "\t\t\ttaking the whole dataframe\n",
      "\t\t\ttaking the whole dataframe\n",
      "\t\t\ttaking the whole dataframe\n",
      "\t\t\ttaking the whole dataframe\n"
     ]
    },
    {
     "name": "stderr",
     "output_type": "stream",
     "text": [
      " 23%|██▎       | 6/26 [00:00<00:00, 59.34it/s]"
     ]
    },
    {
     "name": "stdout",
     "output_type": "stream",
     "text": [
      "\t\t\ttaking the whole dataframe\n",
      "\t\t\ttaking the whole dataframe\n",
      "\t\t\ttaking the whole dataframe\n",
      "\t\t\ttaking the whole dataframe\n",
      "\t\t\ttaking the whole dataframe\n"
     ]
    },
    {
     "name": "stderr",
     "output_type": "stream",
     "text": [
      " 46%|████▌     | 12/26 [00:00<00:00, 52.72it/s]"
     ]
    },
    {
     "name": "stdout",
     "output_type": "stream",
     "text": [
      "\t\t\ttaking the whole dataframe\n",
      "\t\t\ttaking the whole dataframe\n",
      "\t\t\ttaking the whole dataframe\n",
      "\t\t\ttaking the whole dataframe\n",
      "\t\t\ttaking the whole dataframe\n"
     ]
    },
    {
     "name": "stderr",
     "output_type": "stream",
     "text": [
      " 69%|██████▉   | 18/26 [00:00<00:00, 42.33it/s]"
     ]
    },
    {
     "name": "stdout",
     "output_type": "stream",
     "text": [
      "\t\t\ttaking the whole dataframe\n",
      "\t\t\ttaking the whole dataframe\n",
      "\t\t\ttaking the whole dataframe\n",
      "\t\t\ttaking the whole dataframe\n",
      "\t\t\ttaking the whole dataframe\n",
      "\t\t\ttaking the whole dataframe\n"
     ]
    },
    {
     "name": "stderr",
     "output_type": "stream",
     "text": [
      " 88%|████████▊ | 23/26 [00:00<00:00, 40.18it/s]"
     ]
    },
    {
     "name": "stdout",
     "output_type": "stream",
     "text": [
      "\t\t\ttaking the whole dataframe\n",
      "\t\t\ttaking the whole dataframe\n"
     ]
    },
    {
     "name": "stderr",
     "output_type": "stream",
     "text": [
      "100%|██████████| 26/26 [00:00<00:00, 44.15it/s]\n"
     ]
    },
    {
     "name": "stdout",
     "output_type": "stream",
     "text": [
      "\t\t\ttaking the whole dataframe\n",
      "\t\t\ttaking the whole dataframe\n",
      "range(0, 10)\n"
     ]
    },
    {
     "name": "stderr",
     "output_type": "stream",
     "text": [
      "  0%|          | 0/28 [00:00<?, ?it/s]"
     ]
    },
    {
     "name": "stdout",
     "output_type": "stream",
     "text": [
      "\t\t\ttaking the whole dataframe\n",
      "\t\t\ttaking the whole dataframe\n",
      "\t\t\ttaking the whole dataframe\n"
     ]
    },
    {
     "name": "stderr",
     "output_type": "stream",
     "text": [
      " 11%|█         | 3/28 [00:00<00:00, 27.87it/s]"
     ]
    },
    {
     "name": "stdout",
     "output_type": "stream",
     "text": [
      "\t\t\ttaking the whole dataframe\n",
      "\t\t\ttaking the whole dataframe\n",
      "\t\t\ttaking the whole dataframe\n"
     ]
    },
    {
     "name": "stderr",
     "output_type": "stream",
     "text": [
      " 21%|██▏       | 6/28 [00:00<00:01, 21.88it/s]"
     ]
    },
    {
     "name": "stdout",
     "output_type": "stream",
     "text": [
      "\t\t\ttaking the whole dataframe\n",
      "\t\t\ttaking the whole dataframe"
     ]
    },
    {
     "name": "stderr",
     "output_type": "stream",
     "text": [
      " 32%|███▏      | 9/28 [00:00<00:01, 18.21it/s]"
     ]
    },
    {
     "name": "stdout",
     "output_type": "stream",
     "text": [
      "\n",
      "\t\t\ttaking the whole dataframe\n",
      "\t\t\ttaking the whole dataframe\n"
     ]
    },
    {
     "name": "stderr",
     "output_type": "stream",
     "text": [
      " 39%|███▉      | 11/28 [00:00<00:00, 17.94it/s]"
     ]
    },
    {
     "name": "stdout",
     "output_type": "stream",
     "text": [
      "\t\t\ttaking the whole dataframe\n"
     ]
    },
    {
     "name": "stderr",
     "output_type": "stream",
     "text": [
      " 46%|████▋     | 13/28 [00:00<00:00, 18.01it/s]"
     ]
    },
    {
     "name": "stdout",
     "output_type": "stream",
     "text": [
      "\t\t\ttaking the whole dataframe\n",
      "\t\t\ttaking the whole dataframe\n",
      "\t\t\ttaking the whole dataframe\n",
      "\t\t\ttaking the whole dataframe\n"
     ]
    },
    {
     "name": "stderr",
     "output_type": "stream",
     "text": [
      " 61%|██████    | 17/28 [00:00<00:00, 16.31it/s]"
     ]
    },
    {
     "name": "stdout",
     "output_type": "stream",
     "text": [
      "\t\t\ttaking the whole dataframe\n",
      "\t\t\ttaking the whole dataframe\n",
      "\t\t\ttaking the whole dataframe\n"
     ]
    },
    {
     "name": "stderr",
     "output_type": "stream",
     "text": [
      " 75%|███████▌  | 21/28 [00:01<00:00, 17.25it/s]"
     ]
    },
    {
     "name": "stdout",
     "output_type": "stream",
     "text": [
      "\t\t\ttaking the whole dataframe\n",
      "\t\t\ttaking the whole dataframe\n",
      "\t\t\ttaking the whole dataframe\n",
      "\t\t\ttaking the whole dataframe\n"
     ]
    },
    {
     "name": "stderr",
     "output_type": "stream",
     "text": [
      " 93%|█████████▎| 26/28 [00:01<00:00, 20.18it/s]"
     ]
    },
    {
     "name": "stdout",
     "output_type": "stream",
     "text": [
      "\t\t\ttaking the whole dataframe\n",
      "\t\t\ttaking the whole dataframe\n",
      "\t\t\ttaking the whole dataframe\n",
      "\t\t\ttaking the whole dataframe\n",
      "\t\t\ttaking the whole dataframe\n",
      "\t\t\ttaking the whole dataframe\n"
     ]
    },
    {
     "name": "stderr",
     "output_type": "stream",
     "text": [
      "100%|██████████| 28/28 [00:01<00:00, 18.99it/s]\n"
     ]
    },
    {
     "name": "stdout",
     "output_type": "stream",
     "text": [
      "range(0, 11)\n"
     ]
    },
    {
     "name": "stderr",
     "output_type": "stream",
     "text": [
      "  3%|▎         | 1/30 [00:00<00:03,  8.13it/s]"
     ]
    },
    {
     "name": "stdout",
     "output_type": "stream",
     "text": [
      "\t\t\ttaking the whole dataframe\n",
      "\t\t\ttaking the whole dataframe\n",
      "\t\t\ttaking the whole dataframe\n"
     ]
    },
    {
     "name": "stderr",
     "output_type": "stream",
     "text": [
      " 10%|█         | 3/30 [00:00<00:02, 10.07it/s]"
     ]
    },
    {
     "name": "stdout",
     "output_type": "stream",
     "text": [
      "\t\t\ttaking the whole dataframe\n"
     ]
    },
    {
     "name": "stderr",
     "output_type": "stream",
     "text": [
      " 17%|█▋        | 5/30 [00:00<00:03,  8.04it/s]"
     ]
    },
    {
     "name": "stdout",
     "output_type": "stream",
     "text": [
      "\t\t\ttaking the whole dataframe\n"
     ]
    },
    {
     "name": "stderr",
     "output_type": "stream",
     "text": [
      " 20%|██        | 6/30 [00:00<00:03,  7.12it/s]"
     ]
    },
    {
     "name": "stdout",
     "output_type": "stream",
     "text": [
      "\t\t\ttaking the whole dataframe\n",
      "\t\t\ttaking the whole dataframe"
     ]
    },
    {
     "name": "stderr",
     "output_type": "stream",
     "text": [
      " 23%|██▎       | 7/30 [00:00<00:03,  6.16it/s]"
     ]
    },
    {
     "name": "stdout",
     "output_type": "stream",
     "text": [
      "\n",
      "\t\t\ttaking the whole dataframe\n"
     ]
    },
    {
     "name": "stderr",
     "output_type": "stream",
     "text": [
      " 30%|███       | 9/30 [00:01<00:03,  5.58it/s]"
     ]
    },
    {
     "name": "stdout",
     "output_type": "stream",
     "text": [
      "\t\t\ttaking the whole dataframe\n",
      "\t\t\ttaking the whole dataframe\n"
     ]
    },
    {
     "name": "stderr",
     "output_type": "stream",
     "text": [
      " 37%|███▋      | 11/30 [00:01<00:03,  5.44it/s]"
     ]
    },
    {
     "name": "stdout",
     "output_type": "stream",
     "text": [
      "\t\t\ttaking the whole dataframe\n",
      "\t\t\ttaking the whole dataframe\n"
     ]
    },
    {
     "name": "stderr",
     "output_type": "stream",
     "text": [
      " 43%|████▎     | 13/30 [00:02<00:03,  4.85it/s]"
     ]
    },
    {
     "name": "stdout",
     "output_type": "stream",
     "text": [
      "\t\t\ttaking the whole dataframe\n"
     ]
    },
    {
     "name": "stderr",
     "output_type": "stream",
     "text": [
      " 47%|████▋     | 14/30 [00:02<00:03,  4.64it/s]"
     ]
    },
    {
     "name": "stdout",
     "output_type": "stream",
     "text": [
      "\t\t\ttaking the whole dataframe\n"
     ]
    },
    {
     "name": "stderr",
     "output_type": "stream",
     "text": [
      " 50%|█████     | 15/30 [00:02<00:03,  4.27it/s]"
     ]
    },
    {
     "name": "stdout",
     "output_type": "stream",
     "text": [
      "\t\t\ttaking the whole dataframe\n",
      "\t\t\ttaking the whole dataframe\n"
     ]
    },
    {
     "name": "stderr",
     "output_type": "stream",
     "text": [
      " 60%|██████    | 18/30 [00:03<00:02,  5.13it/s]"
     ]
    },
    {
     "name": "stdout",
     "output_type": "stream",
     "text": [
      "\t\t\ttaking the whole dataframe\n",
      "\t\t\ttaking the whole dataframe\n"
     ]
    },
    {
     "name": "stderr",
     "output_type": "stream",
     "text": [
      " 67%|██████▋   | 20/30 [00:03<00:01,  5.63it/s]"
     ]
    },
    {
     "name": "stdout",
     "output_type": "stream",
     "text": [
      "\t\t\ttaking the whole dataframe\n",
      "\t\t\ttaking the whole dataframe\n"
     ]
    },
    {
     "name": "stderr",
     "output_type": "stream",
     "text": [
      " 73%|███████▎  | 22/30 [00:03<00:01,  5.94it/s]"
     ]
    },
    {
     "name": "stdout",
     "output_type": "stream",
     "text": [
      "\t\t\ttaking the whole dataframe\n",
      "\t\t\ttaking the whole dataframe\n"
     ]
    },
    {
     "name": "stderr",
     "output_type": "stream",
     "text": [
      " 80%|████████  | 24/30 [00:04<00:00,  6.08it/s]"
     ]
    },
    {
     "name": "stdout",
     "output_type": "stream",
     "text": [
      "\t\t\ttaking the whole dataframe\n",
      "\t\t\ttaking the whole dataframe\n"
     ]
    },
    {
     "name": "stderr",
     "output_type": "stream",
     "text": [
      " 87%|████████▋ | 26/30 [00:04<00:00,  6.13it/s]"
     ]
    },
    {
     "name": "stdout",
     "output_type": "stream",
     "text": [
      "\t\t\ttaking the whole dataframe\n",
      "\t\t\ttaking the whole dataframe\n"
     ]
    },
    {
     "name": "stderr",
     "output_type": "stream",
     "text": [
      " 93%|█████████▎| 28/30 [00:04<00:00,  7.84it/s]"
     ]
    },
    {
     "name": "stdout",
     "output_type": "stream",
     "text": [
      "\t\t\ttaking the whole dataframe\n",
      "\t\t\ttaking the whole dataframe\n",
      "\t\t\ttaking the whole dataframe\n"
     ]
    },
    {
     "name": "stderr",
     "output_type": "stream",
     "text": [
      "100%|██████████| 30/30 [00:04<00:00,  6.18it/s]\n"
     ]
    },
    {
     "name": "stdout",
     "output_type": "stream",
     "text": [
      "\t\t\ttaking the whole dataframe\n",
      "range(0, 12)\n"
     ]
    },
    {
     "name": "stderr",
     "output_type": "stream",
     "text": [
      " 50%|█████     | 1/2 [00:00<00:00,  3.21it/s]"
     ]
    },
    {
     "name": "stdout",
     "output_type": "stream",
     "text": [
      "\t\t\ttaking the whole dataframe\n"
     ]
    },
    {
     "name": "stderr",
     "output_type": "stream",
     "text": [
      "100%|██████████| 2/2 [00:00<00:00,  3.22it/s]\n"
     ]
    },
    {
     "name": "stdout",
     "output_type": "stream",
     "text": [
      "\t\t\ttaking the whole dataframe\n",
      "range(0, 13)\n"
     ]
    },
    {
     "name": "stderr",
     "output_type": "stream",
     "text": [
      "100%|██████████| 4/4 [00:00<00:00, 134.17it/s]\n"
     ]
    },
    {
     "name": "stdout",
     "output_type": "stream",
     "text": [
      "range(0, 6)\n"
     ]
    },
    {
     "name": "stderr",
     "output_type": "stream",
     "text": [
      "100%|██████████| 4/4 [00:00<00:00, 99.22it/s]\n"
     ]
    },
    {
     "name": "stdout",
     "output_type": "stream",
     "text": [
      "range(0, 7)\n"
     ]
    },
    {
     "name": "stderr",
     "output_type": "stream",
     "text": [
      "100%|██████████| 4/4 [00:00<00:00, 61.34it/s]\n"
     ]
    },
    {
     "name": "stdout",
     "output_type": "stream",
     "text": [
      "range(0, 8)\n"
     ]
    },
    {
     "name": "stderr",
     "output_type": "stream",
     "text": [
      "100%|██████████| 4/4 [00:00<00:00, 23.26it/s]\n"
     ]
    },
    {
     "name": "stdout",
     "output_type": "stream",
     "text": [
      "range(0, 9)\n"
     ]
    },
    {
     "name": "stderr",
     "output_type": "stream",
     "text": [
      "100%|██████████| 4/4 [00:00<00:00,  7.48it/s]\n"
     ]
    },
    {
     "name": "stdout",
     "output_type": "stream",
     "text": [
      "range(0, 10)\n"
     ]
    },
    {
     "name": "stderr",
     "output_type": "stream",
     "text": [
      "100%|██████████| 22/22 [00:00<00:00, 119.97it/s]\n"
     ]
    },
    {
     "name": "stdout",
     "output_type": "stream",
     "text": [
      "range(0, 8)\n"
     ]
    },
    {
     "name": "stderr",
     "output_type": "stream",
     "text": [
      "100%|██████████| 24/24 [00:00<00:00, 79.65it/s]\n"
     ]
    },
    {
     "name": "stdout",
     "output_type": "stream",
     "text": [
      "range(0, 9)\n"
     ]
    },
    {
     "name": "stderr",
     "output_type": "stream",
     "text": [
      " 58%|█████▊    | 15/26 [00:00<00:00, 48.24it/s]C:\\Users\\maxgr\\anaconda3\\lib\\site-packages\\scipy\\optimize\\_minpack_py.py:881: OptimizeWarning: Covariance of the parameters could not be estimated\n",
      "  warnings.warn('Covariance of the parameters could not be estimated',\n",
      "100%|██████████| 26/26 [00:00<00:00, 50.76it/s]\n"
     ]
    },
    {
     "name": "stdout",
     "output_type": "stream",
     "text": [
      "range(0, 10)\n"
     ]
    },
    {
     "name": "stderr",
     "output_type": "stream",
     "text": [
      "100%|██████████| 28/28 [00:01<00:00, 22.13it/s]\n"
     ]
    },
    {
     "name": "stdout",
     "output_type": "stream",
     "text": [
      "range(0, 11)\n"
     ]
    },
    {
     "name": "stderr",
     "output_type": "stream",
     "text": [
      "100%|██████████| 30/30 [00:04<00:00,  7.11it/s]\n"
     ]
    },
    {
     "name": "stdout",
     "output_type": "stream",
     "text": [
      "range(0, 12)\n"
     ]
    },
    {
     "name": "stderr",
     "output_type": "stream",
     "text": [
      "100%|██████████| 6/6 [00:01<00:00,  3.18it/s]\n"
     ]
    },
    {
     "name": "stdout",
     "output_type": "stream",
     "text": [
      "range(0, 13)\n"
     ]
    },
    {
     "name": "stderr",
     "output_type": "stream",
     "text": [
      "100%|██████████| 4/4 [00:00<00:00, 132.96it/s]\n"
     ]
    },
    {
     "name": "stdout",
     "output_type": "stream",
     "text": [
      "range(0, 6)\n"
     ]
    },
    {
     "name": "stderr",
     "output_type": "stream",
     "text": [
      "100%|██████████| 4/4 [00:00<00:00, 100.76it/s]\n"
     ]
    },
    {
     "name": "stdout",
     "output_type": "stream",
     "text": [
      "range(0, 7)\n"
     ]
    },
    {
     "name": "stderr",
     "output_type": "stream",
     "text": [
      "100%|██████████| 4/4 [00:00<00:00, 58.97it/s]\n"
     ]
    },
    {
     "name": "stdout",
     "output_type": "stream",
     "text": [
      "range(0, 8)\n"
     ]
    },
    {
     "name": "stderr",
     "output_type": "stream",
     "text": [
      "100%|██████████| 4/4 [00:00<00:00, 23.36it/s]\n"
     ]
    },
    {
     "name": "stdout",
     "output_type": "stream",
     "text": [
      "range(0, 9)\n"
     ]
    },
    {
     "name": "stderr",
     "output_type": "stream",
     "text": [
      "100%|██████████| 4/4 [00:00<00:00,  7.35it/s]\n"
     ]
    },
    {
     "name": "stdout",
     "output_type": "stream",
     "text": [
      "range(0, 10)\n"
     ]
    },
    {
     "name": "stderr",
     "output_type": "stream",
     "text": [
      "100%|██████████| 22/22 [00:00<00:00, 124.42it/s]\n"
     ]
    },
    {
     "name": "stdout",
     "output_type": "stream",
     "text": [
      "range(0, 8)\n"
     ]
    },
    {
     "name": "stderr",
     "output_type": "stream",
     "text": [
      "100%|██████████| 24/24 [00:00<00:00, 91.33it/s]\n"
     ]
    },
    {
     "name": "stdout",
     "output_type": "stream",
     "text": [
      "range(0, 9)\n"
     ]
    },
    {
     "name": "stderr",
     "output_type": "stream",
     "text": [
      "100%|██████████| 26/26 [00:00<00:00, 54.17it/s]\n"
     ]
    },
    {
     "name": "stdout",
     "output_type": "stream",
     "text": [
      "range(0, 10)\n"
     ]
    },
    {
     "name": "stderr",
     "output_type": "stream",
     "text": [
      "100%|██████████| 28/28 [00:01<00:00, 21.19it/s]\n"
     ]
    },
    {
     "name": "stdout",
     "output_type": "stream",
     "text": [
      "range(0, 11)\n"
     ]
    },
    {
     "name": "stderr",
     "output_type": "stream",
     "text": [
      "100%|██████████| 30/30 [00:04<00:00,  6.62it/s]\n"
     ]
    },
    {
     "name": "stdout",
     "output_type": "stream",
     "text": [
      "range(0, 12)\n"
     ]
    },
    {
     "name": "stderr",
     "output_type": "stream",
     "text": [
      "100%|██████████| 6/6 [00:01<00:00,  3.40it/s]\n"
     ]
    },
    {
     "name": "stdout",
     "output_type": "stream",
     "text": [
      "range(0, 13)\n"
     ]
    },
    {
     "name": "stderr",
     "output_type": "stream",
     "text": [
      "100%|██████████| 4/4 [00:00<00:00, 143.84it/s]\n"
     ]
    },
    {
     "name": "stdout",
     "output_type": "stream",
     "text": [
      "\t\t\ttaking the whole dataframe\n",
      "\t\t\ttaking the whole dataframe\n",
      "\t\t\ttaking the whole dataframe\n",
      "\t\t\ttaking the whole dataframe\n",
      "range(0, 6)\n"
     ]
    },
    {
     "name": "stderr",
     "output_type": "stream",
     "text": [
      "100%|██████████| 4/4 [00:00<00:00, 106.57it/s]\n"
     ]
    },
    {
     "name": "stdout",
     "output_type": "stream",
     "text": [
      "\t\t\ttaking the whole dataframe\n",
      "\t\t\ttaking the whole dataframe\n",
      "\t\t\ttaking the whole dataframe\n",
      "\t\t\ttaking the whole dataframe\n",
      "range(0, 7)\n"
     ]
    },
    {
     "name": "stderr",
     "output_type": "stream",
     "text": [
      "  0%|          | 0/4 [00:00<?, ?it/s]"
     ]
    },
    {
     "name": "stdout",
     "output_type": "stream",
     "text": [
      "\t\t\ttaking the whole dataframe\n",
      "\t\t\ttaking the whole dataframe\n",
      "\t\t\ttaking the whole dataframe\n",
      "\t\t\ttaking the whole dataframe\n"
     ]
    },
    {
     "name": "stderr",
     "output_type": "stream",
     "text": [
      "100%|██████████| 4/4 [00:00<00:00, 56.93it/s]\n"
     ]
    },
    {
     "name": "stdout",
     "output_type": "stream",
     "text": [
      "range(0, 8)\n"
     ]
    },
    {
     "name": "stderr",
     "output_type": "stream",
     "text": [
      "  0%|          | 0/4 [00:00<?, ?it/s]"
     ]
    },
    {
     "name": "stdout",
     "output_type": "stream",
     "text": [
      "\t\t\ttaking the whole dataframe\n",
      "\t\t\ttaking the whole dataframe\n"
     ]
    },
    {
     "name": "stderr",
     "output_type": "stream",
     "text": [
      "100%|██████████| 4/4 [00:00<00:00, 24.27it/s]\n"
     ]
    },
    {
     "name": "stdout",
     "output_type": "stream",
     "text": [
      "\t\t\ttaking the whole dataframe\n",
      "\t\t\ttaking the whole dataframe\n",
      "range(0, 9)\n"
     ]
    },
    {
     "name": "stderr",
     "output_type": "stream",
     "text": [
      "  0%|          | 0/4 [00:00<?, ?it/s]"
     ]
    },
    {
     "name": "stdout",
     "output_type": "stream",
     "text": [
      "\t\t\ttaking the whole dataframe\n"
     ]
    },
    {
     "name": "stderr",
     "output_type": "stream",
     "text": [
      " 50%|█████     | 2/4 [00:00<00:00,  7.74it/s]"
     ]
    },
    {
     "name": "stdout",
     "output_type": "stream",
     "text": [
      "\t\t\ttaking the whole dataframe\n"
     ]
    },
    {
     "name": "stderr",
     "output_type": "stream",
     "text": [
      " 75%|███████▌  | 3/4 [00:00<00:00,  7.83it/s]"
     ]
    },
    {
     "name": "stdout",
     "output_type": "stream",
     "text": [
      "\t\t\ttaking the whole dataframe\n"
     ]
    },
    {
     "name": "stderr",
     "output_type": "stream",
     "text": [
      "100%|██████████| 4/4 [00:00<00:00,  7.77it/s]\n"
     ]
    },
    {
     "name": "stdout",
     "output_type": "stream",
     "text": [
      "\t\t\ttaking the whole dataframe\n",
      "range(0, 10)\n"
     ]
    },
    {
     "name": "stderr",
     "output_type": "stream",
     "text": [
      "  0%|          | 0/22 [00:00<?, ?it/s]"
     ]
    },
    {
     "name": "stdout",
     "output_type": "stream",
     "text": [
      "\t\t\ttaking the whole dataframe\n",
      "\t\t\ttaking the whole dataframe\n",
      "\t\t\ttaking the whole dataframe\n",
      "\t\t\ttaking the whole dataframe\n"
     ]
    },
    {
     "name": "stderr",
     "output_type": "stream",
     "text": [
      " 59%|█████▉    | 13/22 [00:00<00:00, 124.62it/s]"
     ]
    },
    {
     "name": "stdout",
     "output_type": "stream",
     "text": [
      "\t\t\ttaking the whole dataframe\n",
      "\t\t\ttaking the whole dataframe\n",
      "\t\t\ttaking the whole dataframe\n",
      "\t\t\ttaking the whole dataframe\n",
      "\t\t\ttaking the whole dataframe\n",
      "\t\t\ttaking the whole dataframe\n",
      "\t\t\ttaking the whole dataframe\n",
      "\t\t\ttaking the whole dataframe\n",
      "\t\t\ttaking the whole dataframe\n",
      "\t\t\ttaking the whole dataframe\n",
      "\t\t\ttaking the whole dataframe\n",
      "\t\t\ttaking the whole dataframe\n",
      "\t\t\ttaking the whole dataframe\n",
      "\t\t\ttaking the whole dataframe\n",
      "\t\t\ttaking the whole dataframe\n",
      "\t\t\ttaking the whole dataframe\n"
     ]
    },
    {
     "name": "stderr",
     "output_type": "stream",
     "text": [
      "100%|██████████| 22/22 [00:00<00:00, 127.12it/s]\n"
     ]
    },
    {
     "name": "stdout",
     "output_type": "stream",
     "text": [
      "\t\t\ttaking the whole dataframe\n",
      "\t\t\ttaking the whole dataframe\n",
      "range(0, 8)\n"
     ]
    },
    {
     "name": "stderr",
     "output_type": "stream",
     "text": [
      "  0%|          | 0/24 [00:00<?, ?it/s]"
     ]
    },
    {
     "name": "stdout",
     "output_type": "stream",
     "text": [
      "\t\t\ttaking the whole dataframe\n",
      "\t\t\ttaking the whole dataframe\n"
     ]
    },
    {
     "name": "stderr",
     "output_type": "stream",
     "text": [
      " 42%|████▏     | 10/24 [00:00<00:00, 96.57it/s]"
     ]
    },
    {
     "name": "stdout",
     "output_type": "stream",
     "text": [
      "\t\t\ttaking the whole dataframe\n",
      "\t\t\ttaking the whole dataframe\n",
      "\t\t\ttaking the whole dataframe\n",
      "\t\t\ttaking the whole dataframe\n",
      "\t\t\ttaking the whole dataframe\n",
      "\t\t\ttaking the whole dataframe\n",
      "\t\t\ttaking the whole dataframe\n",
      "\t\t\ttaking the whole dataframe\n",
      "\t\t\ttaking the whole dataframe\n",
      "\t\t\ttaking the whole dataframe\n",
      "\t\t\ttaking the whole dataframe\n",
      "\t\t\ttaking the whole dataframe\n",
      "\t\t\ttaking the whole dataframe\n",
      "\t\t\ttaking the whole dataframe\n",
      "\t\t\ttaking the whole dataframe\n",
      "\t\t\ttaking the whole dataframe\n",
      "\t\t\ttaking the whole dataframe\n"
     ]
    },
    {
     "name": "stderr",
     "output_type": "stream",
     "text": [
      "100%|██████████| 24/24 [00:00<00:00, 90.70it/s]\n"
     ]
    },
    {
     "name": "stdout",
     "output_type": "stream",
     "text": [
      "\t\t\ttaking the whole dataframe\n",
      "\t\t\ttaking the whole dataframe\n",
      "\t\t\ttaking the whole dataframe\n",
      "\t\t\ttaking the whole dataframe\n",
      "\t\t\ttaking the whole dataframe\n",
      "range(0, 9)\n"
     ]
    },
    {
     "name": "stderr",
     "output_type": "stream",
     "text": [
      "  0%|          | 0/26 [00:00<?, ?it/s]"
     ]
    },
    {
     "name": "stdout",
     "output_type": "stream",
     "text": [
      "\t\t\ttaking the whole dataframe\n",
      "\t\t\ttaking the whole dataframe\n",
      "\t\t\ttaking the whole dataframe\n",
      "\t\t\ttaking the whole dataframe\n",
      "\t\t\ttaking the whole dataframe\n",
      "\t\t\ttaking the whole dataframe\n",
      "\t\t\ttaking the whole dataframe\n"
     ]
    },
    {
     "name": "stderr",
     "output_type": "stream",
     "text": [
      " 27%|██▋       | 7/26 [00:00<00:00, 59.00it/s]"
     ]
    },
    {
     "name": "stdout",
     "output_type": "stream",
     "text": [
      "\t\t\ttaking the whole dataframe\n",
      "\t\t\ttaking the whole dataframe\n",
      "\t\t\ttaking the whole dataframe\n",
      "\t\t\ttaking the whole dataframe\n"
     ]
    },
    {
     "name": "stderr",
     "output_type": "stream",
     "text": [
      " 50%|█████     | 13/26 [00:00<00:00, 52.05it/s]"
     ]
    },
    {
     "name": "stdout",
     "output_type": "stream",
     "text": [
      "\t\t\ttaking the whole dataframe\n",
      "\t\t\ttaking the whole dataframe\n",
      "\t\t\ttaking the whole dataframe\n",
      "\t\t\ttaking the whole dataframe\n",
      "\t\t\ttaking the whole dataframe\n",
      "\t\t\ttaking the whole dataframe\n",
      "\t\t\ttaking the whole dataframe\n"
     ]
    },
    {
     "name": "stderr",
     "output_type": "stream",
     "text": [
      " 73%|███████▎  | 19/26 [00:00<00:00, 50.20it/s]"
     ]
    },
    {
     "name": "stdout",
     "output_type": "stream",
     "text": [
      "\t\t\ttaking the whole dataframe\n",
      "\t\t\ttaking the whole dataframe\n",
      "\t\t\ttaking the whole dataframe\n"
     ]
    },
    {
     "name": "stderr",
     "output_type": "stream",
     "text": [
      " 96%|█████████▌| 25/26 [00:00<00:00, 52.62it/s]"
     ]
    },
    {
     "name": "stdout",
     "output_type": "stream",
     "text": [
      "\t\t\ttaking the whole dataframe\n",
      "\t\t\ttaking the whole dataframe\n",
      "\t\t\ttaking the whole dataframe\n",
      "\t\t\ttaking the whole dataframe\n",
      "\t\t\ttaking the whole dataframe\n"
     ]
    },
    {
     "name": "stderr",
     "output_type": "stream",
     "text": [
      "100%|██████████| 26/26 [00:00<00:00, 53.09it/s]\n"
     ]
    },
    {
     "name": "stdout",
     "output_type": "stream",
     "text": [
      "range(0, 10)\n"
     ]
    },
    {
     "name": "stderr",
     "output_type": "stream",
     "text": [
      "  0%|          | 0/28 [00:00<?, ?it/s]"
     ]
    },
    {
     "name": "stdout",
     "output_type": "stream",
     "text": [
      "\t\t\ttaking the whole dataframe\n",
      "\t\t\ttaking the whole dataframe\n",
      "\t\t\ttaking the whole dataframe\n"
     ]
    },
    {
     "name": "stderr",
     "output_type": "stream",
     "text": [
      " 14%|█▍        | 4/28 [00:00<00:00, 32.56it/s]"
     ]
    },
    {
     "name": "stdout",
     "output_type": "stream",
     "text": [
      "\t\t\ttaking the whole dataframe\n",
      "\t\t\ttaking the whole dataframe\n",
      "\t\t\ttaking the whole dataframe\n",
      "\t\t\ttaking the whole dataframe\n"
     ]
    },
    {
     "name": "stderr",
     "output_type": "stream",
     "text": [
      " 29%|██▊       | 8/28 [00:00<00:00, 21.99it/s]"
     ]
    },
    {
     "name": "stdout",
     "output_type": "stream",
     "text": [
      "\t\t\ttaking the whole dataframe\n",
      "\t\t\ttaking the whole dataframe\n",
      "\t\t\ttaking the whole dataframe\n",
      "\t\t\ttaking the whole dataframe\n"
     ]
    },
    {
     "name": "stderr",
     "output_type": "stream",
     "text": [
      " 39%|███▉      | 11/28 [00:00<00:00, 20.82it/s]"
     ]
    },
    {
     "name": "stdout",
     "output_type": "stream",
     "text": [
      "\t\t\ttaking the whole dataframe\n",
      "\t\t\ttaking the whole dataframe\n",
      "\t\t\ttaking the whole dataframe\n"
     ]
    },
    {
     "name": "stderr",
     "output_type": "stream",
     "text": [
      " 50%|█████     | 14/28 [00:00<00:00, 20.28it/s]"
     ]
    },
    {
     "name": "stdout",
     "output_type": "stream",
     "text": [
      "\t\t\ttaking the whole dataframe\n",
      "\t\t\ttaking the whole dataframe\n",
      "\t\t\ttaking the whole dataframe\n"
     ]
    },
    {
     "name": "stderr",
     "output_type": "stream",
     "text": [
      " 61%|██████    | 17/28 [00:00<00:00, 20.00it/s]"
     ]
    },
    {
     "name": "stdout",
     "output_type": "stream",
     "text": [
      "\t\t\ttaking the whole dataframe\n",
      "\t\t\ttaking the whole dataframe\n"
     ]
    },
    {
     "name": "stderr",
     "output_type": "stream",
     "text": [
      " 71%|███████▏  | 20/28 [00:00<00:00, 19.75it/s]"
     ]
    },
    {
     "name": "stdout",
     "output_type": "stream",
     "text": [
      "\t\t\ttaking the whole dataframe\n",
      "\t\t\ttaking the whole dataframe\n"
     ]
    },
    {
     "name": "stderr",
     "output_type": "stream",
     "text": [
      " 79%|███████▊  | 22/28 [00:01<00:00, 19.51it/s]"
     ]
    },
    {
     "name": "stdout",
     "output_type": "stream",
     "text": [
      "\t\t\ttaking the whole dataframe\n",
      "\t\t\ttaking the whole dataframe\n"
     ]
    },
    {
     "name": "stderr",
     "output_type": "stream",
     "text": [
      " 86%|████████▌ | 24/28 [00:01<00:00, 19.23it/s]"
     ]
    },
    {
     "name": "stdout",
     "output_type": "stream",
     "text": [
      "\t\t\ttaking the whole dataframe\n",
      "\t\t\ttaking the whole dataframe\n"
     ]
    },
    {
     "name": "stderr",
     "output_type": "stream",
     "text": [
      "100%|██████████| 28/28 [00:01<00:00, 21.47it/s]\n"
     ]
    },
    {
     "name": "stdout",
     "output_type": "stream",
     "text": [
      "\t\t\ttaking the whole dataframe\n",
      "\t\t\ttaking the whole dataframe\n",
      "\t\t\ttaking the whole dataframe\n",
      "range(0, 11)\n"
     ]
    },
    {
     "name": "stderr",
     "output_type": "stream",
     "text": [
      "  0%|          | 0/30 [00:00<?, ?it/s]"
     ]
    },
    {
     "name": "stdout",
     "output_type": "stream",
     "text": [
      "\t\t\ttaking the whole dataframe\n"
     ]
    },
    {
     "name": "stderr",
     "output_type": "stream",
     "text": [
      " 10%|█         | 3/30 [00:00<00:02, 10.90it/s]"
     ]
    },
    {
     "name": "stdout",
     "output_type": "stream",
     "text": [
      "\t\t\ttaking the whole dataframe\n",
      "\t\t\ttaking the whole dataframe\n",
      "\t\t\ttaking the whole dataframe\n"
     ]
    },
    {
     "name": "stderr",
     "output_type": "stream",
     "text": [
      " 17%|█▋        | 5/30 [00:00<00:02,  9.31it/s]"
     ]
    },
    {
     "name": "stdout",
     "output_type": "stream",
     "text": [
      "\t\t\ttaking the whole dataframe\n"
     ]
    },
    {
     "name": "stderr",
     "output_type": "stream",
     "text": [
      " 20%|██        | 6/30 [00:00<00:02,  8.25it/s]"
     ]
    },
    {
     "name": "stdout",
     "output_type": "stream",
     "text": [
      "\t\t\ttaking the whole dataframe\n"
     ]
    },
    {
     "name": "stderr",
     "output_type": "stream",
     "text": [
      " 23%|██▎       | 7/30 [00:00<00:03,  7.62it/s]"
     ]
    },
    {
     "name": "stdout",
     "output_type": "stream",
     "text": [
      "\t\t\ttaking the whole dataframe\n"
     ]
    },
    {
     "name": "stderr",
     "output_type": "stream",
     "text": [
      " 27%|██▋       | 8/30 [00:00<00:03,  7.20it/s]"
     ]
    },
    {
     "name": "stdout",
     "output_type": "stream",
     "text": [
      "\t\t\ttaking the whole dataframe\n"
     ]
    },
    {
     "name": "stderr",
     "output_type": "stream",
     "text": [
      " 30%|███       | 9/30 [00:01<00:03,  6.90it/s]"
     ]
    },
    {
     "name": "stdout",
     "output_type": "stream",
     "text": [
      "\t\t\ttaking the whole dataframe\n"
     ]
    },
    {
     "name": "stderr",
     "output_type": "stream",
     "text": [
      " 33%|███▎      | 10/30 [00:01<00:03,  6.65it/s]"
     ]
    },
    {
     "name": "stdout",
     "output_type": "stream",
     "text": [
      "\t\t\ttaking the whole dataframe\n"
     ]
    },
    {
     "name": "stderr",
     "output_type": "stream",
     "text": [
      " 37%|███▋      | 11/30 [00:01<00:02,  6.52it/s]"
     ]
    },
    {
     "name": "stdout",
     "output_type": "stream",
     "text": [
      "\t\t\ttaking the whole dataframe\n"
     ]
    },
    {
     "name": "stderr",
     "output_type": "stream",
     "text": [
      " 40%|████      | 12/30 [00:01<00:02,  6.45it/s]"
     ]
    },
    {
     "name": "stdout",
     "output_type": "stream",
     "text": [
      "\t\t\ttaking the whole dataframe\n"
     ]
    },
    {
     "name": "stderr",
     "output_type": "stream",
     "text": [
      " 43%|████▎     | 13/30 [00:01<00:02,  6.38it/s]"
     ]
    },
    {
     "name": "stdout",
     "output_type": "stream",
     "text": [
      "\t\t\ttaking the whole dataframe\n"
     ]
    },
    {
     "name": "stderr",
     "output_type": "stream",
     "text": [
      " 47%|████▋     | 14/30 [00:01<00:02,  6.32it/s]"
     ]
    },
    {
     "name": "stdout",
     "output_type": "stream",
     "text": [
      "\t\t\ttaking the whole dataframe\n"
     ]
    },
    {
     "name": "stderr",
     "output_type": "stream",
     "text": [
      " 50%|█████     | 15/30 [00:02<00:02,  6.29it/s]"
     ]
    },
    {
     "name": "stdout",
     "output_type": "stream",
     "text": [
      "\t\t\ttaking the whole dataframe\n"
     ]
    },
    {
     "name": "stderr",
     "output_type": "stream",
     "text": [
      " 53%|█████▎    | 16/30 [00:02<00:02,  6.30it/s]"
     ]
    },
    {
     "name": "stdout",
     "output_type": "stream",
     "text": [
      "\t\t\ttaking the whole dataframe\n"
     ]
    },
    {
     "name": "stderr",
     "output_type": "stream",
     "text": [
      " 57%|█████▋    | 17/30 [00:02<00:02,  6.28it/s]"
     ]
    },
    {
     "name": "stdout",
     "output_type": "stream",
     "text": [
      "\t\t\ttaking the whole dataframe\n"
     ]
    },
    {
     "name": "stderr",
     "output_type": "stream",
     "text": [
      " 60%|██████    | 18/30 [00:02<00:01,  6.31it/s]"
     ]
    },
    {
     "name": "stdout",
     "output_type": "stream",
     "text": [
      "\t\t\ttaking the whole dataframe\n"
     ]
    },
    {
     "name": "stderr",
     "output_type": "stream",
     "text": [
      " 63%|██████▎   | 19/30 [00:02<00:01,  6.23it/s]"
     ]
    },
    {
     "name": "stdout",
     "output_type": "stream",
     "text": [
      "\t\t\ttaking the whole dataframe\n"
     ]
    },
    {
     "name": "stderr",
     "output_type": "stream",
     "text": [
      " 67%|██████▋   | 20/30 [00:02<00:01,  6.19it/s]"
     ]
    },
    {
     "name": "stdout",
     "output_type": "stream",
     "text": [
      "\t\t\ttaking the whole dataframe\n"
     ]
    },
    {
     "name": "stderr",
     "output_type": "stream",
     "text": [
      " 70%|███████   | 21/30 [00:03<00:01,  6.22it/s]"
     ]
    },
    {
     "name": "stdout",
     "output_type": "stream",
     "text": [
      "\t\t\ttaking the whole dataframe\n"
     ]
    },
    {
     "name": "stderr",
     "output_type": "stream",
     "text": [
      " 73%|███████▎  | 22/30 [00:03<00:01,  6.23it/s]"
     ]
    },
    {
     "name": "stdout",
     "output_type": "stream",
     "text": [
      "\t\t\ttaking the whole dataframe\n"
     ]
    },
    {
     "name": "stderr",
     "output_type": "stream",
     "text": [
      " 77%|███████▋  | 23/30 [00:03<00:01,  6.24it/s]"
     ]
    },
    {
     "name": "stdout",
     "output_type": "stream",
     "text": [
      "\t\t\ttaking the whole dataframe\n"
     ]
    },
    {
     "name": "stderr",
     "output_type": "stream",
     "text": [
      " 80%|████████  | 24/30 [00:03<00:00,  6.22it/s]"
     ]
    },
    {
     "name": "stdout",
     "output_type": "stream",
     "text": [
      "\t\t\ttaking the whole dataframe\n"
     ]
    },
    {
     "name": "stderr",
     "output_type": "stream",
     "text": [
      " 83%|████████▎ | 25/30 [00:03<00:00,  6.25it/s]"
     ]
    },
    {
     "name": "stdout",
     "output_type": "stream",
     "text": [
      "\t\t\ttaking the whole dataframe\n"
     ]
    },
    {
     "name": "stderr",
     "output_type": "stream",
     "text": [
      " 87%|████████▋ | 26/30 [00:03<00:00,  6.25it/s]"
     ]
    },
    {
     "name": "stdout",
     "output_type": "stream",
     "text": [
      "\t\t\ttaking the whole dataframe\n",
      "\t\t\ttaking the whole dataframe\n",
      "\t\t\ttaking the whole dataframe\n"
     ]
    },
    {
     "name": "stderr",
     "output_type": "stream",
     "text": [
      " 93%|█████████▎| 28/30 [00:04<00:00,  7.74it/s]"
     ]
    },
    {
     "name": "stdout",
     "output_type": "stream",
     "text": [
      "\t\t\ttaking the whole dataframe\n"
     ]
    },
    {
     "name": "stderr",
     "output_type": "stream",
     "text": [
      "100%|██████████| 30/30 [00:04<00:00,  7.02it/s]\n"
     ]
    },
    {
     "name": "stdout",
     "output_type": "stream",
     "text": [
      "\t\t\ttaking the whole dataframe\n",
      "range(0, 12)\n"
     ]
    },
    {
     "name": "stderr",
     "output_type": "stream",
     "text": [
      " 17%|█▋        | 1/6 [00:00<00:01,  3.48it/s]"
     ]
    },
    {
     "name": "stdout",
     "output_type": "stream",
     "text": [
      "\t\t\ttaking the whole dataframe\n"
     ]
    },
    {
     "name": "stderr",
     "output_type": "stream",
     "text": [
      " 33%|███▎      | 2/6 [00:00<00:01,  3.34it/s]"
     ]
    },
    {
     "name": "stdout",
     "output_type": "stream",
     "text": [
      "\t\t\ttaking the whole dataframe\n"
     ]
    },
    {
     "name": "stderr",
     "output_type": "stream",
     "text": [
      " 50%|█████     | 3/6 [00:00<00:00,  3.41it/s]"
     ]
    },
    {
     "name": "stdout",
     "output_type": "stream",
     "text": [
      "\t\t\ttaking the whole dataframe\n"
     ]
    },
    {
     "name": "stderr",
     "output_type": "stream",
     "text": [
      " 67%|██████▋   | 4/6 [00:01<00:00,  3.38it/s]"
     ]
    },
    {
     "name": "stdout",
     "output_type": "stream",
     "text": [
      "\t\t\ttaking the whole dataframe\n"
     ]
    },
    {
     "name": "stderr",
     "output_type": "stream",
     "text": [
      " 83%|████████▎ | 5/6 [00:01<00:00,  3.42it/s]"
     ]
    },
    {
     "name": "stdout",
     "output_type": "stream",
     "text": [
      "\t\t\ttaking the whole dataframe\n"
     ]
    },
    {
     "name": "stderr",
     "output_type": "stream",
     "text": [
      "100%|██████████| 6/6 [00:01<00:00,  3.37it/s]\n"
     ]
    },
    {
     "name": "stdout",
     "output_type": "stream",
     "text": [
      "\t\t\ttaking the whole dataframe\n",
      "range(0, 13)\n"
     ]
    },
    {
     "name": "stderr",
     "output_type": "stream",
     "text": [
      "100%|██████████| 4/4 [00:00<00:00, 137.51it/s]\n"
     ]
    },
    {
     "name": "stdout",
     "output_type": "stream",
     "text": [
      "range(0, 6)\n"
     ]
    },
    {
     "name": "stderr",
     "output_type": "stream",
     "text": [
      "100%|██████████| 4/4 [00:00<00:00, 105.96it/s]\n"
     ]
    },
    {
     "name": "stdout",
     "output_type": "stream",
     "text": [
      "range(0, 7)\n"
     ]
    },
    {
     "name": "stderr",
     "output_type": "stream",
     "text": [
      "100%|██████████| 4/4 [00:00<00:00, 62.26it/s]\n"
     ]
    },
    {
     "name": "stdout",
     "output_type": "stream",
     "text": [
      "range(0, 8)\n"
     ]
    },
    {
     "name": "stderr",
     "output_type": "stream",
     "text": [
      "100%|██████████| 4/4 [00:00<00:00, 22.79it/s]\n"
     ]
    },
    {
     "name": "stdout",
     "output_type": "stream",
     "text": [
      "range(0, 9)\n"
     ]
    },
    {
     "name": "stderr",
     "output_type": "stream",
     "text": [
      "100%|██████████| 4/4 [00:00<00:00,  7.74it/s]\n"
     ]
    },
    {
     "name": "stdout",
     "output_type": "stream",
     "text": [
      "range(0, 10)\n"
     ]
    },
    {
     "name": "stderr",
     "output_type": "stream",
     "text": [
      "100%|██████████| 22/22 [00:00<00:00, 133.48it/s]"
     ]
    },
    {
     "name": "stdout",
     "output_type": "stream",
     "text": [
      "range(0, 8)\n"
     ]
    },
    {
     "name": "stderr",
     "output_type": "stream",
     "text": [
      "\n",
      "100%|██████████| 24/24 [00:00<00:00, 99.49it/s] \n"
     ]
    },
    {
     "name": "stdout",
     "output_type": "stream",
     "text": [
      "range(0, 9)\n"
     ]
    },
    {
     "name": "stderr",
     "output_type": "stream",
     "text": [
      "100%|██████████| 26/26 [00:00<00:00, 54.68it/s]\n"
     ]
    },
    {
     "name": "stdout",
     "output_type": "stream",
     "text": [
      "range(0, 10)\n"
     ]
    },
    {
     "name": "stderr",
     "output_type": "stream",
     "text": [
      "100%|██████████| 28/28 [00:01<00:00, 21.22it/s]\n"
     ]
    },
    {
     "name": "stdout",
     "output_type": "stream",
     "text": [
      "range(0, 11)\n"
     ]
    },
    {
     "name": "stderr",
     "output_type": "stream",
     "text": [
      "100%|██████████| 30/30 [00:04<00:00,  7.12it/s]\n"
     ]
    },
    {
     "name": "stdout",
     "output_type": "stream",
     "text": [
      "range(0, 12)\n"
     ]
    },
    {
     "name": "stderr",
     "output_type": "stream",
     "text": [
      "100%|██████████| 4/4 [00:01<00:00,  3.45it/s]\n"
     ]
    },
    {
     "name": "stdout",
     "output_type": "stream",
     "text": [
      "range(0, 13)\n"
     ]
    },
    {
     "name": "stderr",
     "output_type": "stream",
     "text": [
      "100%|██████████| 4/4 [00:00<00:00, 146.73it/s]\n"
     ]
    },
    {
     "name": "stdout",
     "output_type": "stream",
     "text": [
      "range(0, 6)\n"
     ]
    },
    {
     "name": "stderr",
     "output_type": "stream",
     "text": [
      "100%|██████████| 4/4 [00:00<00:00, 100.88it/s]\n"
     ]
    },
    {
     "name": "stdout",
     "output_type": "stream",
     "text": [
      "range(0, 7)\n"
     ]
    },
    {
     "name": "stderr",
     "output_type": "stream",
     "text": [
      "100%|██████████| 4/4 [00:00<00:00, 59.02it/s]\n"
     ]
    },
    {
     "name": "stdout",
     "output_type": "stream",
     "text": [
      "range(0, 8)\n"
     ]
    },
    {
     "name": "stderr",
     "output_type": "stream",
     "text": [
      "100%|██████████| 4/4 [00:00<00:00, 25.26it/s]\n"
     ]
    },
    {
     "name": "stdout",
     "output_type": "stream",
     "text": [
      "range(0, 9)\n"
     ]
    },
    {
     "name": "stderr",
     "output_type": "stream",
     "text": [
      "100%|██████████| 4/4 [00:00<00:00,  7.75it/s]\n"
     ]
    },
    {
     "name": "stdout",
     "output_type": "stream",
     "text": [
      "range(0, 10)\n"
     ]
    },
    {
     "name": "stderr",
     "output_type": "stream",
     "text": [
      "100%|██████████| 22/22 [00:00<00:00, 133.35it/s]\n"
     ]
    },
    {
     "name": "stdout",
     "output_type": "stream",
     "text": [
      "range(0, 8)\n"
     ]
    },
    {
     "name": "stderr",
     "output_type": "stream",
     "text": [
      "100%|██████████| 24/24 [00:00<00:00, 92.35it/s]\n"
     ]
    },
    {
     "name": "stdout",
     "output_type": "stream",
     "text": [
      "range(0, 9)\n"
     ]
    },
    {
     "name": "stderr",
     "output_type": "stream",
     "text": [
      "100%|██████████| 26/26 [00:00<00:00, 54.30it/s]\n"
     ]
    },
    {
     "name": "stdout",
     "output_type": "stream",
     "text": [
      "range(0, 10)\n"
     ]
    },
    {
     "name": "stderr",
     "output_type": "stream",
     "text": [
      "100%|██████████| 28/28 [00:01<00:00, 21.99it/s]\n"
     ]
    },
    {
     "name": "stdout",
     "output_type": "stream",
     "text": [
      "range(0, 11)\n"
     ]
    },
    {
     "name": "stderr",
     "output_type": "stream",
     "text": [
      "100%|██████████| 30/30 [00:04<00:00,  7.08it/s]\n"
     ]
    },
    {
     "name": "stdout",
     "output_type": "stream",
     "text": [
      "range(0, 12)\n"
     ]
    },
    {
     "name": "stderr",
     "output_type": "stream",
     "text": [
      "100%|██████████| 4/4 [00:01<00:00,  3.41it/s]\n"
     ]
    },
    {
     "name": "stdout",
     "output_type": "stream",
     "text": [
      "range(0, 13)\n"
     ]
    },
    {
     "name": "stderr",
     "output_type": "stream",
     "text": [
      "100%|██████████| 4/4 [00:00<00:00, 139.38it/s]\n"
     ]
    },
    {
     "name": "stdout",
     "output_type": "stream",
     "text": [
      "\t\t\ttaking the whole dataframe\n",
      "\t\t\ttaking the whole dataframe\n",
      "\t\t\ttaking the whole dataframe\n",
      "\t\t\ttaking the whole dataframe\n",
      "range(0, 6)\n"
     ]
    },
    {
     "name": "stderr",
     "output_type": "stream",
     "text": [
      "100%|██████████| 4/4 [00:00<00:00, 91.80it/s]\n"
     ]
    },
    {
     "name": "stdout",
     "output_type": "stream",
     "text": [
      "\t\t\ttaking the whole dataframe\n",
      "\t\t\ttaking the whole dataframe\n",
      "\t\t\ttaking the whole dataframe\n",
      "\t\t\ttaking the whole dataframe\n",
      "range(0, 7)\n"
     ]
    },
    {
     "name": "stderr",
     "output_type": "stream",
     "text": [
      "  0%|          | 0/4 [00:00<?, ?it/s]"
     ]
    },
    {
     "name": "stdout",
     "output_type": "stream",
     "text": [
      "\t\t\ttaking the whole dataframe\n",
      "\t\t\ttaking the whole dataframe\n",
      "\t\t\ttaking the whole dataframe\n",
      "\t\t\ttaking the whole dataframe\n"
     ]
    },
    {
     "name": "stderr",
     "output_type": "stream",
     "text": [
      "100%|██████████| 4/4 [00:00<00:00, 55.18it/s]\n"
     ]
    },
    {
     "name": "stdout",
     "output_type": "stream",
     "text": [
      "range(0, 8)\n"
     ]
    },
    {
     "name": "stderr",
     "output_type": "stream",
     "text": [
      "  0%|          | 0/4 [00:00<?, ?it/s]"
     ]
    },
    {
     "name": "stdout",
     "output_type": "stream",
     "text": [
      "\t\t\ttaking the whole dataframe\n"
     ]
    },
    {
     "name": "stderr",
     "output_type": "stream",
     "text": [
      " 75%|███████▌  | 3/4 [00:00<00:00, 25.01it/s]"
     ]
    },
    {
     "name": "stdout",
     "output_type": "stream",
     "text": [
      "\t\t\ttaking the whole dataframe\n",
      "\t\t\ttaking the whole dataframe\n"
     ]
    },
    {
     "name": "stderr",
     "output_type": "stream",
     "text": [
      "100%|██████████| 4/4 [00:00<00:00, 24.83it/s]\n"
     ]
    },
    {
     "name": "stdout",
     "output_type": "stream",
     "text": [
      "\t\t\ttaking the whole dataframe\n",
      "range(0, 9)\n"
     ]
    },
    {
     "name": "stderr",
     "output_type": "stream",
     "text": [
      " 25%|██▌       | 1/4 [00:00<00:00,  7.51it/s]"
     ]
    },
    {
     "name": "stdout",
     "output_type": "stream",
     "text": [
      "\t\t\ttaking the whole dataframe\n"
     ]
    },
    {
     "name": "stderr",
     "output_type": "stream",
     "text": [
      " 50%|█████     | 2/4 [00:00<00:00,  7.69it/s]"
     ]
    },
    {
     "name": "stdout",
     "output_type": "stream",
     "text": [
      "\t\t\ttaking the whole dataframe\n"
     ]
    },
    {
     "name": "stderr",
     "output_type": "stream",
     "text": [
      " 75%|███████▌  | 3/4 [00:00<00:00,  7.73it/s]"
     ]
    },
    {
     "name": "stdout",
     "output_type": "stream",
     "text": [
      "\t\t\ttaking the whole dataframe\n"
     ]
    },
    {
     "name": "stderr",
     "output_type": "stream",
     "text": [
      "100%|██████████| 4/4 [00:00<00:00,  7.69it/s]\n"
     ]
    },
    {
     "name": "stdout",
     "output_type": "stream",
     "text": [
      "\t\t\ttaking the whole dataframe\n",
      "range(0, 10)\n"
     ]
    },
    {
     "name": "stderr",
     "output_type": "stream",
     "text": [
      "  0%|          | 0/22 [00:00<?, ?it/s]"
     ]
    },
    {
     "name": "stdout",
     "output_type": "stream",
     "text": [
      "\t\t\ttaking the whole dataframe\n",
      "\t\t\ttaking the whole dataframe\n",
      "\t\t\ttaking the whole dataframe\n",
      "\t\t\ttaking the whole dataframe\n"
     ]
    },
    {
     "name": "stderr",
     "output_type": "stream",
     "text": [
      "100%|██████████| 22/22 [00:00<00:00, 129.06it/s]"
     ]
    },
    {
     "name": "stdout",
     "output_type": "stream",
     "text": [
      "\t\t\ttaking the whole dataframe\n",
      "\t\t\ttaking the whole dataframe\n",
      "\t\t\ttaking the whole dataframe\n",
      "\t\t\ttaking the whole dataframe\n",
      "\t\t\ttaking the whole dataframe\n",
      "\t\t\ttaking the whole dataframe\n",
      "\t\t\ttaking the whole dataframe\n",
      "\t\t\ttaking the whole dataframe\n",
      "\t\t\ttaking the whole dataframe\n",
      "\t\t\ttaking the whole dataframe\n",
      "\t\t\ttaking the whole dataframe\n",
      "\t\t\ttaking the whole dataframe\n",
      "\t\t\ttaking the whole dataframe\n",
      "\t\t\ttaking the whole dataframe\n",
      "\t\t\ttaking the whole dataframe\n",
      "\t\t\ttaking the whole dataframe\n",
      "\t\t\ttaking the whole dataframe\n",
      "\t\t\ttaking the whole dataframe\n"
     ]
    },
    {
     "name": "stderr",
     "output_type": "stream",
     "text": [
      "\n"
     ]
    },
    {
     "name": "stdout",
     "output_type": "stream",
     "text": [
      "range(0, 8)\n"
     ]
    },
    {
     "name": "stderr",
     "output_type": "stream",
     "text": [
      "  0%|          | 0/24 [00:00<?, ?it/s]"
     ]
    },
    {
     "name": "stdout",
     "output_type": "stream",
     "text": [
      "\t\t\ttaking the whole dataframe\n",
      "\t\t\ttaking the whole dataframe\n"
     ]
    },
    {
     "name": "stderr",
     "output_type": "stream",
     "text": [
      " 42%|████▏     | 10/24 [00:00<00:00, 89.87it/s]"
     ]
    },
    {
     "name": "stdout",
     "output_type": "stream",
     "text": [
      "\t\t\ttaking the whole dataframe\n",
      "\t\t\ttaking the whole dataframe\n",
      "\t\t\ttaking the whole dataframe\n",
      "\t\t\ttaking the whole dataframe\n",
      "\t\t\ttaking the whole dataframe\n",
      "\t\t\ttaking the whole dataframe\n",
      "\t\t\ttaking the whole dataframe\n",
      "\t\t\ttaking the whole dataframe\n",
      "\t\t\ttaking the whole dataframe\n",
      "\t\t\ttaking the whole dataframe\n",
      "\t\t\ttaking the whole dataframe\n",
      "\t\t\ttaking the whole dataframe\n",
      "\t\t\ttaking the whole dataframe\n",
      "\t\t\ttaking the whole dataframe\n",
      "\t\t\ttaking the whole dataframe\n"
     ]
    },
    {
     "name": "stderr",
     "output_type": "stream",
     "text": [
      " 79%|███████▉  | 19/24 [00:00<00:00, 87.86it/s]"
     ]
    },
    {
     "name": "stdout",
     "output_type": "stream",
     "text": [
      "\t\t\ttaking the whole dataframe\n",
      "\t\t\ttaking the whole dataframe\n"
     ]
    },
    {
     "name": "stderr",
     "output_type": "stream",
     "text": [
      "100%|██████████| 24/24 [00:00<00:00, 89.76it/s]\n"
     ]
    },
    {
     "name": "stdout",
     "output_type": "stream",
     "text": [
      "\t\t\ttaking the whole dataframe\n",
      "\t\t\ttaking the whole dataframe\n",
      "\t\t\ttaking the whole dataframe\n",
      "\t\t\ttaking the whole dataframe\n",
      "\t\t\ttaking the whole dataframe\n",
      "range(0, 9)\n"
     ]
    },
    {
     "name": "stderr",
     "output_type": "stream",
     "text": [
      "  0%|          | 0/26 [00:00<?, ?it/s]"
     ]
    },
    {
     "name": "stdout",
     "output_type": "stream",
     "text": [
      "\t\t\ttaking the whole dataframe\n",
      "\t\t\ttaking the whole dataframe\n",
      "\t\t\ttaking the whole dataframe\n",
      "\t\t\ttaking the whole dataframe\n",
      "\t\t\ttaking the whole dataframe\n"
     ]
    },
    {
     "name": "stderr",
     "output_type": "stream",
     "text": [
      " 23%|██▎       | 6/26 [00:00<00:00, 54.77it/s]"
     ]
    },
    {
     "name": "stdout",
     "output_type": "stream",
     "text": [
      "\t\t\ttaking the whole dataframe\n",
      "\t\t\ttaking the whole dataframe\n",
      "\t\t\ttaking the whole dataframe\n",
      "\t\t\ttaking the whole dataframe\n",
      "\t\t\ttaking the whole dataframe\n",
      "\t\t\ttaking the whole dataframe\n",
      "\t\t\ttaking the whole dataframe\n"
     ]
    },
    {
     "name": "stderr",
     "output_type": "stream",
     "text": [
      " 46%|████▌     | 12/26 [00:00<00:00, 47.91it/s]"
     ]
    },
    {
     "name": "stdout",
     "output_type": "stream",
     "text": [
      "\t\t\ttaking the whole dataframe\n",
      "\t\t\ttaking the whole dataframe\n",
      "\t\t\ttaking the whole dataframe\n",
      "\t\t\ttaking the whole dataframe\n"
     ]
    },
    {
     "name": "stderr",
     "output_type": "stream",
     "text": [
      " 65%|██████▌   | 17/26 [00:00<00:00, 46.38it/s]"
     ]
    },
    {
     "name": "stdout",
     "output_type": "stream",
     "text": [
      "\t\t\ttaking the whole dataframe\n",
      "\t\t\ttaking the whole dataframe\n",
      "\t\t\ttaking the whole dataframe\n",
      "\t\t\ttaking the whole dataframe\n",
      "\t\t\ttaking the whole dataframe\n",
      "\t\t\ttaking the whole dataframe\n"
     ]
    },
    {
     "name": "stderr",
     "output_type": "stream",
     "text": [
      " 85%|████████▍ | 22/26 [00:00<00:00, 45.64it/s]"
     ]
    },
    {
     "name": "stdout",
     "output_type": "stream",
     "text": [
      "\t\t\ttaking the whole dataframe\n"
     ]
    },
    {
     "name": "stderr",
     "output_type": "stream",
     "text": [
      "100%|██████████| 26/26 [00:00<00:00, 48.83it/s]\n"
     ]
    },
    {
     "name": "stdout",
     "output_type": "stream",
     "text": [
      "\t\t\ttaking the whole dataframe\n",
      "\t\t\ttaking the whole dataframe\n",
      "\t\t\ttaking the whole dataframe\n",
      "range(0, 10)\n"
     ]
    },
    {
     "name": "stderr",
     "output_type": "stream",
     "text": [
      "  0%|          | 0/28 [00:00<?, ?it/s]"
     ]
    },
    {
     "name": "stdout",
     "output_type": "stream",
     "text": [
      "\t\t\ttaking the whole dataframe\n",
      "\t\t\ttaking the whole dataframe\n",
      "\t\t\ttaking the whole dataframe\n"
     ]
    },
    {
     "name": "stderr",
     "output_type": "stream",
     "text": [
      " 14%|█▍        | 4/28 [00:00<00:00, 32.56it/s]"
     ]
    },
    {
     "name": "stdout",
     "output_type": "stream",
     "text": [
      "\t\t\ttaking the whole dataframe\n",
      "\t\t\ttaking the whole dataframe\n",
      "\t\t\ttaking the whole dataframe\n",
      "\t\t\ttaking the whole dataframe\n"
     ]
    },
    {
     "name": "stderr",
     "output_type": "stream",
     "text": [
      " 29%|██▊       | 8/28 [00:00<00:00, 23.15it/s]"
     ]
    },
    {
     "name": "stdout",
     "output_type": "stream",
     "text": [
      "\t\t\ttaking the whole dataframe\n",
      "\t\t\ttaking the whole dataframe\n",
      "\t\t\ttaking the whole dataframe\n"
     ]
    },
    {
     "name": "stderr",
     "output_type": "stream",
     "text": [
      " 39%|███▉      | 11/28 [00:00<00:00, 21.55it/s]"
     ]
    },
    {
     "name": "stdout",
     "output_type": "stream",
     "text": [
      "\t\t\ttaking the whole dataframe\n",
      "\t\t\ttaking the whole dataframe\n",
      "\t\t\ttaking the whole dataframe\n"
     ]
    },
    {
     "name": "stderr",
     "output_type": "stream",
     "text": [
      " 50%|█████     | 14/28 [00:00<00:00, 20.70it/s]"
     ]
    },
    {
     "name": "stdout",
     "output_type": "stream",
     "text": [
      "\t\t\ttaking the whole dataframe\n",
      "\t\t\ttaking the whole dataframe\n",
      "\t\t\ttaking the whole dataframe\n"
     ]
    },
    {
     "name": "stderr",
     "output_type": "stream",
     "text": [
      " 61%|██████    | 17/28 [00:00<00:00, 20.23it/s]"
     ]
    },
    {
     "name": "stdout",
     "output_type": "stream",
     "text": [
      "\t\t\ttaking the whole dataframe\n",
      "\t\t\ttaking the whole dataframe\n",
      "\t\t\ttaking the whole dataframe\n"
     ]
    },
    {
     "name": "stderr",
     "output_type": "stream",
     "text": [
      " 71%|███████▏  | 20/28 [00:00<00:00, 19.93it/s]"
     ]
    },
    {
     "name": "stdout",
     "output_type": "stream",
     "text": [
      "\t\t\ttaking the whole dataframe\n",
      "\t\t\ttaking the whole dataframe\n",
      "\t\t\ttaking the whole dataframe\n"
     ]
    },
    {
     "name": "stderr",
     "output_type": "stream",
     "text": [
      " 82%|████████▏ | 23/28 [00:01<00:00, 19.64it/s]"
     ]
    },
    {
     "name": "stdout",
     "output_type": "stream",
     "text": [
      "\t\t\ttaking the whole dataframe\n",
      "\t\t\ttaking the whole dataframe\n",
      "\t\t\ttaking the whole dataframe\n"
     ]
    },
    {
     "name": "stderr",
     "output_type": "stream",
     "text": [
      " 93%|█████████▎| 26/28 [00:01<00:00, 20.70it/s]"
     ]
    },
    {
     "name": "stdout",
     "output_type": "stream",
     "text": [
      "\t\t\ttaking the whole dataframe\n",
      "\t\t\ttaking the whole dataframe\n",
      "\t\t\ttaking the whole dataframe\n"
     ]
    },
    {
     "name": "stderr",
     "output_type": "stream",
     "text": [
      "100%|██████████| 28/28 [00:01<00:00, 21.60it/s]\n"
     ]
    },
    {
     "name": "stdout",
     "output_type": "stream",
     "text": [
      "range(0, 11)\n"
     ]
    },
    {
     "name": "stderr",
     "output_type": "stream",
     "text": [
      "  0%|          | 0/30 [00:00<?, ?it/s]"
     ]
    },
    {
     "name": "stdout",
     "output_type": "stream",
     "text": [
      "\t\t\ttaking the whole dataframe\n"
     ]
    },
    {
     "name": "stderr",
     "output_type": "stream",
     "text": [
      "  7%|▋         | 2/30 [00:00<00:02, 12.09it/s]"
     ]
    },
    {
     "name": "stdout",
     "output_type": "stream",
     "text": [
      "\t\t\ttaking the whole dataframe\n",
      "\t\t\ttaking the whole dataframe\n"
     ]
    },
    {
     "name": "stderr",
     "output_type": "stream",
     "text": [
      " 13%|█▎        | 4/30 [00:00<00:02, 11.84it/s]"
     ]
    },
    {
     "name": "stdout",
     "output_type": "stream",
     "text": [
      "\t\t\ttaking the whole dataframe\n",
      "\t\t\ttaking the whole dataframe\n"
     ]
    },
    {
     "name": "stderr",
     "output_type": "stream",
     "text": [
      " 20%|██        | 6/30 [00:00<00:02,  8.46it/s]"
     ]
    },
    {
     "name": "stdout",
     "output_type": "stream",
     "text": [
      "\t\t\ttaking the whole dataframe\n"
     ]
    },
    {
     "name": "stderr",
     "output_type": "stream",
     "text": [
      " 23%|██▎       | 7/30 [00:00<00:02,  7.78it/s]"
     ]
    },
    {
     "name": "stdout",
     "output_type": "stream",
     "text": [
      "\t\t\ttaking the whole dataframe\n"
     ]
    },
    {
     "name": "stderr",
     "output_type": "stream",
     "text": [
      " 27%|██▋       | 8/30 [00:00<00:03,  7.18it/s]"
     ]
    },
    {
     "name": "stdout",
     "output_type": "stream",
     "text": [
      "\t\t\ttaking the whole dataframe\n"
     ]
    },
    {
     "name": "stderr",
     "output_type": "stream",
     "text": [
      " 30%|███       | 9/30 [00:01<00:03,  6.88it/s]"
     ]
    },
    {
     "name": "stdout",
     "output_type": "stream",
     "text": [
      "\t\t\ttaking the whole dataframe\n"
     ]
    },
    {
     "name": "stderr",
     "output_type": "stream",
     "text": [
      " 33%|███▎      | 10/30 [00:01<00:02,  6.74it/s]"
     ]
    },
    {
     "name": "stdout",
     "output_type": "stream",
     "text": [
      "\t\t\ttaking the whole dataframe\n"
     ]
    },
    {
     "name": "stderr",
     "output_type": "stream",
     "text": [
      " 37%|███▋      | 11/30 [00:01<00:02,  6.60it/s]"
     ]
    },
    {
     "name": "stdout",
     "output_type": "stream",
     "text": [
      "\t\t\ttaking the whole dataframe\n"
     ]
    },
    {
     "name": "stderr",
     "output_type": "stream",
     "text": [
      " 40%|████      | 12/30 [00:01<00:02,  6.46it/s]"
     ]
    },
    {
     "name": "stdout",
     "output_type": "stream",
     "text": [
      "\t\t\ttaking the whole dataframe\n"
     ]
    },
    {
     "name": "stderr",
     "output_type": "stream",
     "text": [
      " 43%|████▎     | 13/30 [00:01<00:02,  6.33it/s]"
     ]
    },
    {
     "name": "stdout",
     "output_type": "stream",
     "text": [
      "\t\t\ttaking the whole dataframe\n"
     ]
    },
    {
     "name": "stderr",
     "output_type": "stream",
     "text": [
      " 47%|████▋     | 14/30 [00:01<00:02,  6.27it/s]"
     ]
    },
    {
     "name": "stdout",
     "output_type": "stream",
     "text": [
      "\t\t\ttaking the whole dataframe\n"
     ]
    },
    {
     "name": "stderr",
     "output_type": "stream",
     "text": [
      " 50%|█████     | 15/30 [00:02<00:02,  6.24it/s]"
     ]
    },
    {
     "name": "stdout",
     "output_type": "stream",
     "text": [
      "\t\t\ttaking the whole dataframe\n"
     ]
    },
    {
     "name": "stderr",
     "output_type": "stream",
     "text": [
      " 53%|█████▎    | 16/30 [00:02<00:02,  6.17it/s]"
     ]
    },
    {
     "name": "stdout",
     "output_type": "stream",
     "text": [
      "\t\t\ttaking the whole dataframe\n"
     ]
    },
    {
     "name": "stderr",
     "output_type": "stream",
     "text": [
      " 57%|█████▋    | 17/30 [00:02<00:02,  6.15it/s]"
     ]
    },
    {
     "name": "stdout",
     "output_type": "stream",
     "text": [
      "\t\t\ttaking the whole dataframe\n"
     ]
    },
    {
     "name": "stderr",
     "output_type": "stream",
     "text": [
      " 60%|██████    | 18/30 [00:02<00:01,  6.14it/s]"
     ]
    },
    {
     "name": "stdout",
     "output_type": "stream",
     "text": [
      "\t\t\ttaking the whole dataframe\n"
     ]
    },
    {
     "name": "stderr",
     "output_type": "stream",
     "text": [
      " 63%|██████▎   | 19/30 [00:02<00:01,  5.94it/s]"
     ]
    },
    {
     "name": "stdout",
     "output_type": "stream",
     "text": [
      "\t\t\ttaking the whole dataframe\n"
     ]
    },
    {
     "name": "stderr",
     "output_type": "stream",
     "text": [
      " 67%|██████▋   | 20/30 [00:02<00:01,  5.90it/s]"
     ]
    },
    {
     "name": "stdout",
     "output_type": "stream",
     "text": [
      "\t\t\ttaking the whole dataframe\n",
      "\t\t\ttaking the whole dataframe\n"
     ]
    },
    {
     "name": "stderr",
     "output_type": "stream",
     "text": [
      " 73%|███████▎  | 22/30 [00:03<00:01,  5.81it/s]"
     ]
    },
    {
     "name": "stdout",
     "output_type": "stream",
     "text": [
      "\t\t\ttaking the whole dataframe\n"
     ]
    },
    {
     "name": "stderr",
     "output_type": "stream",
     "text": [
      " 77%|███████▋  | 23/30 [00:03<00:01,  5.89it/s]"
     ]
    },
    {
     "name": "stdout",
     "output_type": "stream",
     "text": [
      "\t\t\ttaking the whole dataframe\n"
     ]
    },
    {
     "name": "stderr",
     "output_type": "stream",
     "text": [
      " 80%|████████  | 24/30 [00:03<00:01,  5.86it/s]"
     ]
    },
    {
     "name": "stdout",
     "output_type": "stream",
     "text": [
      "\t\t\ttaking the whole dataframe\n",
      "\t\t\ttaking the whole dataframe\n"
     ]
    },
    {
     "name": "stderr",
     "output_type": "stream",
     "text": [
      " 87%|████████▋ | 26/30 [00:03<00:00,  5.85it/s]"
     ]
    },
    {
     "name": "stdout",
     "output_type": "stream",
     "text": [
      "\t\t\ttaking the whole dataframe\n",
      "\t\t\ttaking the whole dataframe\n",
      "\t\t\ttaking the whole dataframe\n"
     ]
    },
    {
     "name": "stderr",
     "output_type": "stream",
     "text": [
      " 93%|█████████▎| 28/30 [00:04<00:00,  7.57it/s]"
     ]
    },
    {
     "name": "stdout",
     "output_type": "stream",
     "text": [
      "\t\t\ttaking the whole dataframe\n"
     ]
    },
    {
     "name": "stderr",
     "output_type": "stream",
     "text": [
      "100%|██████████| 30/30 [00:04<00:00,  6.91it/s]\n"
     ]
    },
    {
     "name": "stdout",
     "output_type": "stream",
     "text": [
      "\t\t\ttaking the whole dataframe\n",
      "range(0, 12)\n"
     ]
    },
    {
     "name": "stderr",
     "output_type": "stream",
     "text": [
      " 25%|██▌       | 1/4 [00:00<00:00,  3.28it/s]"
     ]
    },
    {
     "name": "stdout",
     "output_type": "stream",
     "text": [
      "\t\t\ttaking the whole dataframe\n"
     ]
    },
    {
     "name": "stderr",
     "output_type": "stream",
     "text": [
      " 50%|█████     | 2/4 [00:00<00:00,  3.11it/s]"
     ]
    },
    {
     "name": "stdout",
     "output_type": "stream",
     "text": [
      "\t\t\ttaking the whole dataframe\n"
     ]
    },
    {
     "name": "stderr",
     "output_type": "stream",
     "text": [
      " 75%|███████▌  | 3/4 [00:01<00:00,  2.74it/s]"
     ]
    },
    {
     "name": "stdout",
     "output_type": "stream",
     "text": [
      "\t\t\ttaking the whole dataframe\n"
     ]
    },
    {
     "name": "stderr",
     "output_type": "stream",
     "text": [
      "100%|██████████| 4/4 [00:01<00:00,  2.83it/s]\n"
     ]
    },
    {
     "name": "stdout",
     "output_type": "stream",
     "text": [
      "\t\t\ttaking the whole dataframe\n",
      "range(0, 13)\n"
     ]
    },
    {
     "name": "stderr",
     "output_type": "stream",
     "text": [
      "100%|██████████| 4/4 [00:00<00:00, 105.28it/s]\n"
     ]
    },
    {
     "name": "stdout",
     "output_type": "stream",
     "text": [
      "range(0, 6)\n"
     ]
    },
    {
     "name": "stderr",
     "output_type": "stream",
     "text": [
      "100%|██████████| 4/4 [00:00<00:00, 89.29it/s]\n"
     ]
    },
    {
     "name": "stdout",
     "output_type": "stream",
     "text": [
      "range(0, 7)\n"
     ]
    },
    {
     "name": "stderr",
     "output_type": "stream",
     "text": [
      "100%|██████████| 4/4 [00:00<00:00, 58.22it/s]\n"
     ]
    },
    {
     "name": "stdout",
     "output_type": "stream",
     "text": [
      "range(0, 8)\n"
     ]
    },
    {
     "name": "stderr",
     "output_type": "stream",
     "text": [
      "100%|██████████| 4/4 [00:00<00:00, 24.60it/s]\n"
     ]
    },
    {
     "name": "stdout",
     "output_type": "stream",
     "text": [
      "range(0, 9)\n"
     ]
    },
    {
     "name": "stderr",
     "output_type": "stream",
     "text": [
      "100%|██████████| 4/4 [00:00<00:00,  7.79it/s]\n"
     ]
    },
    {
     "name": "stdout",
     "output_type": "stream",
     "text": [
      "range(0, 10)\n"
     ]
    },
    {
     "name": "stderr",
     "output_type": "stream",
     "text": [
      "100%|██████████| 22/22 [00:00<00:00, 132.65it/s]\n"
     ]
    },
    {
     "name": "stdout",
     "output_type": "stream",
     "text": [
      "range(0, 8)\n"
     ]
    },
    {
     "name": "stderr",
     "output_type": "stream",
     "text": [
      "100%|██████████| 24/24 [00:00<00:00, 99.87it/s]\n"
     ]
    },
    {
     "name": "stdout",
     "output_type": "stream",
     "text": [
      "range(0, 9)\n"
     ]
    },
    {
     "name": "stderr",
     "output_type": "stream",
     "text": [
      "100%|██████████| 26/26 [00:00<00:00, 53.51it/s]\n"
     ]
    },
    {
     "name": "stdout",
     "output_type": "stream",
     "text": [
      "range(0, 10)\n"
     ]
    },
    {
     "name": "stderr",
     "output_type": "stream",
     "text": [
      "100%|██████████| 28/28 [00:01<00:00, 22.06it/s]\n"
     ]
    },
    {
     "name": "stdout",
     "output_type": "stream",
     "text": [
      "range(0, 11)\n"
     ]
    },
    {
     "name": "stderr",
     "output_type": "stream",
     "text": [
      "100%|██████████| 30/30 [00:04<00:00,  7.09it/s]\n"
     ]
    },
    {
     "name": "stdout",
     "output_type": "stream",
     "text": [
      "range(0, 12)\n"
     ]
    },
    {
     "name": "stderr",
     "output_type": "stream",
     "text": [
      "100%|██████████| 1/1 [00:00<00:00,  3.46it/s]\n"
     ]
    },
    {
     "name": "stdout",
     "output_type": "stream",
     "text": [
      "range(0, 13)\n"
     ]
    },
    {
     "name": "stderr",
     "output_type": "stream",
     "text": [
      "100%|██████████| 4/4 [00:00<00:00, 122.64it/s]\n"
     ]
    },
    {
     "name": "stdout",
     "output_type": "stream",
     "text": [
      "range(0, 6)\n"
     ]
    },
    {
     "name": "stderr",
     "output_type": "stream",
     "text": [
      "100%|██████████| 4/4 [00:00<00:00, 102.13it/s]\n"
     ]
    },
    {
     "name": "stdout",
     "output_type": "stream",
     "text": [
      "range(0, 7)\n"
     ]
    },
    {
     "name": "stderr",
     "output_type": "stream",
     "text": [
      "100%|██████████| 4/4 [00:00<00:00, 55.77it/s]\n"
     ]
    },
    {
     "name": "stdout",
     "output_type": "stream",
     "text": [
      "range(0, 8)\n"
     ]
    },
    {
     "name": "stderr",
     "output_type": "stream",
     "text": [
      "100%|██████████| 4/4 [00:00<00:00, 23.34it/s]\n"
     ]
    },
    {
     "name": "stdout",
     "output_type": "stream",
     "text": [
      "range(0, 9)\n"
     ]
    },
    {
     "name": "stderr",
     "output_type": "stream",
     "text": [
      "100%|██████████| 4/4 [00:00<00:00,  7.52it/s]\n"
     ]
    },
    {
     "name": "stdout",
     "output_type": "stream",
     "text": [
      "range(0, 10)\n"
     ]
    },
    {
     "name": "stderr",
     "output_type": "stream",
     "text": [
      "100%|██████████| 22/22 [00:00<00:00, 124.89it/s]\n"
     ]
    },
    {
     "name": "stdout",
     "output_type": "stream",
     "text": [
      "range(0, 8)\n"
     ]
    },
    {
     "name": "stderr",
     "output_type": "stream",
     "text": [
      "100%|██████████| 24/24 [00:00<00:00, 99.26it/s] \n"
     ]
    },
    {
     "name": "stdout",
     "output_type": "stream",
     "text": [
      "range(0, 9)\n"
     ]
    },
    {
     "name": "stderr",
     "output_type": "stream",
     "text": [
      "100%|██████████| 26/26 [00:00<00:00, 52.02it/s]\n"
     ]
    },
    {
     "name": "stdout",
     "output_type": "stream",
     "text": [
      "range(0, 10)\n"
     ]
    },
    {
     "name": "stderr",
     "output_type": "stream",
     "text": [
      "100%|██████████| 28/28 [00:01<00:00, 21.27it/s]\n"
     ]
    },
    {
     "name": "stdout",
     "output_type": "stream",
     "text": [
      "range(0, 11)\n"
     ]
    },
    {
     "name": "stderr",
     "output_type": "stream",
     "text": [
      "100%|██████████| 30/30 [00:04<00:00,  6.97it/s]\n"
     ]
    },
    {
     "name": "stdout",
     "output_type": "stream",
     "text": [
      "range(0, 12)\n"
     ]
    },
    {
     "name": "stderr",
     "output_type": "stream",
     "text": [
      "100%|██████████| 1/1 [00:00<00:00,  3.23it/s]\n"
     ]
    },
    {
     "name": "stdout",
     "output_type": "stream",
     "text": [
      "range(0, 13)\n"
     ]
    },
    {
     "name": "stderr",
     "output_type": "stream",
     "text": [
      "100%|██████████| 4/4 [00:00<00:00, 119.35it/s]\n"
     ]
    },
    {
     "name": "stdout",
     "output_type": "stream",
     "text": [
      "\t\t\ttaking the whole dataframe\n",
      "\t\t\ttaking the whole dataframe\n",
      "\t\t\ttaking the whole dataframe\n",
      "\t\t\ttaking the whole dataframe\n",
      "range(0, 6)\n"
     ]
    },
    {
     "name": "stderr",
     "output_type": "stream",
     "text": [
      "100%|██████████| 4/4 [00:00<00:00, 86.54it/s]\n"
     ]
    },
    {
     "name": "stdout",
     "output_type": "stream",
     "text": [
      "\t\t\ttaking the whole dataframe\n",
      "\t\t\ttaking the whole dataframe\n",
      "\t\t\ttaking the whole dataframe\n",
      "\t\t\ttaking the whole dataframe\n",
      "range(0, 7)\n"
     ]
    },
    {
     "name": "stderr",
     "output_type": "stream",
     "text": [
      "  0%|          | 0/4 [00:00<?, ?it/s]"
     ]
    },
    {
     "name": "stdout",
     "output_type": "stream",
     "text": [
      "\t\t\ttaking the whole dataframe\n",
      "\t\t\ttaking the whole dataframe\n",
      "\t\t\ttaking the whole dataframe\n",
      "\t\t\ttaking the whole dataframe\n"
     ]
    },
    {
     "name": "stderr",
     "output_type": "stream",
     "text": [
      "100%|██████████| 4/4 [00:00<00:00, 52.84it/s]\n"
     ]
    },
    {
     "name": "stdout",
     "output_type": "stream",
     "text": [
      "range(0, 8)\n"
     ]
    },
    {
     "name": "stderr",
     "output_type": "stream",
     "text": [
      "  0%|          | 0/4 [00:00<?, ?it/s]"
     ]
    },
    {
     "name": "stdout",
     "output_type": "stream",
     "text": [
      "\t\t\ttaking the whole dataframe\n"
     ]
    },
    {
     "name": "stderr",
     "output_type": "stream",
     "text": [
      " 50%|█████     | 2/4 [00:00<00:00, 19.24it/s]"
     ]
    },
    {
     "name": "stdout",
     "output_type": "stream",
     "text": [
      "\t\t\ttaking the whole dataframe\n",
      "\t\t\ttaking the whole dataframe\n"
     ]
    },
    {
     "name": "stderr",
     "output_type": "stream",
     "text": [
      "100%|██████████| 4/4 [00:00<00:00, 18.33it/s]\n"
     ]
    },
    {
     "name": "stdout",
     "output_type": "stream",
     "text": [
      "\t\t\ttaking the whole dataframe\n",
      "range(0, 9)\n"
     ]
    },
    {
     "name": "stderr",
     "output_type": "stream",
     "text": [
      " 50%|█████     | 2/4 [00:00<00:00,  6.27it/s]"
     ]
    },
    {
     "name": "stdout",
     "output_type": "stream",
     "text": [
      "\t\t\ttaking the whole dataframe\n",
      "\t\t\ttaking the whole dataframe\n"
     ]
    },
    {
     "name": "stderr",
     "output_type": "stream",
     "text": [
      "100%|██████████| 4/4 [00:00<00:00,  6.78it/s]\n"
     ]
    },
    {
     "name": "stdout",
     "output_type": "stream",
     "text": [
      "\t\t\ttaking the whole dataframe\n",
      "\t\t\ttaking the whole dataframe\n",
      "range(0, 10)\n"
     ]
    },
    {
     "name": "stderr",
     "output_type": "stream",
     "text": [
      "  0%|          | 0/22 [00:00<?, ?it/s]"
     ]
    },
    {
     "name": "stdout",
     "output_type": "stream",
     "text": [
      "\t\t\ttaking the whole dataframe\n",
      "\t\t\ttaking the whole dataframe\n",
      "\t\t\ttaking the whole dataframe\n",
      "\t\t\ttaking the whole dataframe\n"
     ]
    },
    {
     "name": "stderr",
     "output_type": "stream",
     "text": [
      "100%|██████████| 22/22 [00:00<00:00, 128.77it/s]\n"
     ]
    },
    {
     "name": "stdout",
     "output_type": "stream",
     "text": [
      "\t\t\ttaking the whole dataframe\n",
      "\t\t\ttaking the whole dataframe\n",
      "\t\t\ttaking the whole dataframe\n",
      "\t\t\ttaking the whole dataframe\n",
      "\t\t\ttaking the whole dataframe\n",
      "\t\t\ttaking the whole dataframe\n",
      "\t\t\ttaking the whole dataframe\n",
      "\t\t\ttaking the whole dataframe\n",
      "\t\t\ttaking the whole dataframe\n",
      "\t\t\ttaking the whole dataframe\n",
      "\t\t\ttaking the whole dataframe\n",
      "\t\t\ttaking the whole dataframe\n",
      "\t\t\ttaking the whole dataframe\n",
      "\t\t\ttaking the whole dataframe\n",
      "\t\t\ttaking the whole dataframe\n",
      "\t\t\ttaking the whole dataframe\n",
      "\t\t\ttaking the whole dataframe\n",
      "\t\t\ttaking the whole dataframe\n",
      "range(0, 8)\n"
     ]
    },
    {
     "name": "stderr",
     "output_type": "stream",
     "text": [
      "  0%|          | 0/24 [00:00<?, ?it/s]"
     ]
    },
    {
     "name": "stdout",
     "output_type": "stream",
     "text": [
      "\t\t\ttaking the whole dataframe\n",
      "\t\t\ttaking the whole dataframe\n",
      "\t\t\ttaking the whole dataframe\n"
     ]
    },
    {
     "name": "stderr",
     "output_type": "stream",
     "text": [
      " 42%|████▏     | 10/24 [00:00<00:00, 97.75it/s]"
     ]
    },
    {
     "name": "stdout",
     "output_type": "stream",
     "text": [
      "\t\t\ttaking the whole dataframe\n",
      "\t\t\ttaking the whole dataframe\n",
      "\t\t\ttaking the whole dataframe\n",
      "\t\t\ttaking the whole dataframe\n",
      "\t\t\ttaking the whole dataframe\n",
      "\t\t\ttaking the whole dataframe\n",
      "\t\t\ttaking the whole dataframe\n",
      "\t\t\ttaking the whole dataframe\n",
      "\t\t\ttaking the whole dataframe\n",
      "\t\t\ttaking the whole dataframe\n",
      "\t\t\ttaking the whole dataframe\n",
      "\t\t\ttaking the whole dataframe\n",
      "\t\t\ttaking the whole dataframe\n",
      "\t\t\ttaking the whole dataframe\n",
      "\t\t\ttaking the whole dataframe\n",
      "\t\t\ttaking the whole dataframe\n"
     ]
    },
    {
     "name": "stderr",
     "output_type": "stream",
     "text": [
      " 83%|████████▎ | 20/24 [00:00<00:00, 94.03it/s]"
     ]
    },
    {
     "name": "stdout",
     "output_type": "stream",
     "text": [
      "\t\t\ttaking the whole dataframe\n"
     ]
    },
    {
     "name": "stderr",
     "output_type": "stream",
     "text": [
      "100%|██████████| 24/24 [00:00<00:00, 95.31it/s]\n"
     ]
    },
    {
     "name": "stdout",
     "output_type": "stream",
     "text": [
      "\t\t\ttaking the whole dataframe\n",
      "\t\t\ttaking the whole dataframe\n",
      "\t\t\ttaking the whole dataframe\n",
      "\t\t\ttaking the whole dataframe\n",
      "range(0, 9)\n"
     ]
    },
    {
     "name": "stderr",
     "output_type": "stream",
     "text": [
      " 23%|██▎       | 6/26 [00:00<00:00, 49.71it/s]"
     ]
    },
    {
     "name": "stdout",
     "output_type": "stream",
     "text": [
      "\t\t\ttaking the whole dataframe\n",
      "\t\t\ttaking the whole dataframe\n",
      "\t\t\ttaking the whole dataframe\n",
      "\t\t\ttaking the whole dataframe\n",
      "\t\t\ttaking the whole dataframe\n",
      "\t\t\ttaking the whole dataframe\n",
      "\t\t\ttaking the whole dataframe\n",
      "\t\t\ttaking the whole dataframe\n",
      "\t\t\ttaking the whole dataframe\n",
      "\t\t\ttaking the whole dataframe\n"
     ]
    },
    {
     "name": "stderr",
     "output_type": "stream",
     "text": [
      " 62%|██████▏   | 16/26 [00:00<00:00, 47.24it/s]"
     ]
    },
    {
     "name": "stdout",
     "output_type": "stream",
     "text": [
      "\t\t\ttaking the whole dataframe\n",
      "\t\t\ttaking the whole dataframe\n",
      "\t\t\ttaking the whole dataframe\n",
      "\t\t\ttaking the whole dataframe\n",
      "\t\t\ttaking the whole dataframe\n",
      "\t\t\ttaking the whole dataframe\n",
      "\t\t\ttaking the whole dataframe\n",
      "\t\t\ttaking the whole dataframe\n",
      "\t\t\ttaking the whole dataframe\n",
      "\t\t\ttaking the whole dataframe\n"
     ]
    },
    {
     "name": "stderr",
     "output_type": "stream",
     "text": [
      "100%|██████████| 26/26 [00:00<00:00, 49.62it/s]\n"
     ]
    },
    {
     "name": "stdout",
     "output_type": "stream",
     "text": [
      "\t\t\ttaking the whole dataframe\n",
      "\t\t\ttaking the whole dataframe\n",
      "\t\t\ttaking the whole dataframe\n",
      "\t\t\ttaking the whole dataframe\n",
      "\t\t\ttaking the whole dataframe\n",
      "\t\t\ttaking the whole dataframe\n",
      "range(0, 10)\n"
     ]
    },
    {
     "name": "stderr",
     "output_type": "stream",
     "text": [
      "  0%|          | 0/28 [00:00<?, ?it/s]"
     ]
    },
    {
     "name": "stdout",
     "output_type": "stream",
     "text": [
      "\t\t\ttaking the whole dataframe\n",
      "\t\t\ttaking the whole dataframe\n",
      "\t\t\ttaking the whole dataframe\n"
     ]
    },
    {
     "name": "stderr",
     "output_type": "stream",
     "text": [
      " 14%|█▍        | 4/28 [00:00<00:00, 33.10it/s]"
     ]
    },
    {
     "name": "stdout",
     "output_type": "stream",
     "text": [
      "\t\t\ttaking the whole dataframe\n",
      "\t\t\ttaking the whole dataframe\n",
      "\t\t\ttaking the whole dataframe\n",
      "\t\t\ttaking the whole dataframe\n",
      "\t\t\ttaking the whole dataframe\n"
     ]
    },
    {
     "name": "stderr",
     "output_type": "stream",
     "text": [
      " 29%|██▊       | 8/28 [00:00<00:00, 23.58it/s]"
     ]
    },
    {
     "name": "stdout",
     "output_type": "stream",
     "text": [
      "\t\t\ttaking the whole dataframe\n"
     ]
    },
    {
     "name": "stderr",
     "output_type": "stream",
     "text": [
      " 39%|███▉      | 11/28 [00:00<00:00, 21.82it/s]"
     ]
    },
    {
     "name": "stdout",
     "output_type": "stream",
     "text": [
      "\t\t\ttaking the whole dataframe\n",
      "\t\t\ttaking the whole dataframe\n",
      "\t\t\ttaking the whole dataframe\n",
      "\t\t\ttaking the whole dataframe\n"
     ]
    },
    {
     "name": "stderr",
     "output_type": "stream",
     "text": [
      " 61%|██████    | 17/28 [00:00<00:00, 20.08it/s]"
     ]
    },
    {
     "name": "stdout",
     "output_type": "stream",
     "text": [
      "\t\t\ttaking the whole dataframe\n",
      "\t\t\ttaking the whole dataframe\n",
      "\t\t\ttaking the whole dataframe\n",
      "\t\t\ttaking the whole dataframe\n",
      "\t\t\ttaking the whole dataframe\n"
     ]
    },
    {
     "name": "stderr",
     "output_type": "stream",
     "text": [
      " 79%|███████▊  | 22/28 [00:01<00:00, 19.70it/s]"
     ]
    },
    {
     "name": "stdout",
     "output_type": "stream",
     "text": [
      "\t\t\ttaking the whole dataframe\n",
      "\t\t\ttaking the whole dataframe\n",
      "\t\t\ttaking the whole dataframe\n",
      "\t\t\ttaking the whole dataframe\n"
     ]
    },
    {
     "name": "stderr",
     "output_type": "stream",
     "text": [
      "100%|██████████| 28/28 [00:01<00:00, 21.76it/s]\n"
     ]
    },
    {
     "name": "stdout",
     "output_type": "stream",
     "text": [
      "\t\t\ttaking the whole dataframe\n",
      "\t\t\ttaking the whole dataframe\n",
      "\t\t\ttaking the whole dataframe\n",
      "\t\t\ttaking the whole dataframe\n",
      "\t\t\ttaking the whole dataframe\n",
      "\t\t\ttaking the whole dataframe\n",
      "range(0, 11)\n"
     ]
    },
    {
     "name": "stderr",
     "output_type": "stream",
     "text": [
      "  7%|▋         | 2/30 [00:00<00:02, 11.92it/s]"
     ]
    },
    {
     "name": "stdout",
     "output_type": "stream",
     "text": [
      "\t\t\ttaking the whole dataframe\n",
      "\t\t\ttaking the whole dataframe\n",
      "\t\t\ttaking the whole dataframe\n"
     ]
    },
    {
     "name": "stderr",
     "output_type": "stream",
     "text": [
      " 13%|█▎        | 4/30 [00:00<00:02, 11.81it/s]"
     ]
    },
    {
     "name": "stdout",
     "output_type": "stream",
     "text": [
      "\t\t\ttaking the whole dataframe\n",
      "\t\t\ttaking the whole dataframe\n"
     ]
    },
    {
     "name": "stderr",
     "output_type": "stream",
     "text": [
      " 23%|██▎       | 7/30 [00:00<00:02,  7.86it/s]"
     ]
    },
    {
     "name": "stdout",
     "output_type": "stream",
     "text": [
      "\t\t\ttaking the whole dataframe\n",
      "\t\t\ttaking the whole dataframe\n"
     ]
    },
    {
     "name": "stderr",
     "output_type": "stream",
     "text": [
      " 30%|███       | 9/30 [00:01<00:02,  7.03it/s]"
     ]
    },
    {
     "name": "stdout",
     "output_type": "stream",
     "text": [
      "\t\t\ttaking the whole dataframe\n",
      "\t\t\ttaking the whole dataframe\n"
     ]
    },
    {
     "name": "stderr",
     "output_type": "stream",
     "text": [
      " 37%|███▋      | 11/30 [00:01<00:02,  6.59it/s]"
     ]
    },
    {
     "name": "stdout",
     "output_type": "stream",
     "text": [
      "\t\t\ttaking the whole dataframe\n",
      "\t\t\ttaking the whole dataframe\n"
     ]
    },
    {
     "name": "stderr",
     "output_type": "stream",
     "text": [
      " 43%|████▎     | 13/30 [00:01<00:02,  6.43it/s]"
     ]
    },
    {
     "name": "stdout",
     "output_type": "stream",
     "text": [
      "\t\t\ttaking the whole dataframe\n",
      "\t\t\ttaking the whole dataframe\n"
     ]
    },
    {
     "name": "stderr",
     "output_type": "stream",
     "text": [
      " 50%|█████     | 15/30 [00:02<00:02,  6.40it/s]"
     ]
    },
    {
     "name": "stdout",
     "output_type": "stream",
     "text": [
      "\t\t\ttaking the whole dataframe\n",
      "\t\t\ttaking the whole dataframe\n"
     ]
    },
    {
     "name": "stderr",
     "output_type": "stream",
     "text": [
      " 57%|█████▋    | 17/30 [00:02<00:02,  6.38it/s]"
     ]
    },
    {
     "name": "stdout",
     "output_type": "stream",
     "text": [
      "\t\t\ttaking the whole dataframe\n",
      "\t\t\ttaking the whole dataframe\n"
     ]
    },
    {
     "name": "stderr",
     "output_type": "stream",
     "text": [
      " 63%|██████▎   | 19/30 [00:02<00:01,  6.29it/s]"
     ]
    },
    {
     "name": "stdout",
     "output_type": "stream",
     "text": [
      "\t\t\ttaking the whole dataframe\n",
      "\t\t\ttaking the whole dataframe\n"
     ]
    },
    {
     "name": "stderr",
     "output_type": "stream",
     "text": [
      " 70%|███████   | 21/30 [00:03<00:01,  6.07it/s]"
     ]
    },
    {
     "name": "stdout",
     "output_type": "stream",
     "text": [
      "\t\t\ttaking the whole dataframe\n",
      "\t\t\ttaking the whole dataframe\n"
     ]
    },
    {
     "name": "stderr",
     "output_type": "stream",
     "text": [
      " 77%|███████▋  | 23/30 [00:03<00:01,  6.20it/s]"
     ]
    },
    {
     "name": "stdout",
     "output_type": "stream",
     "text": [
      "\t\t\ttaking the whole dataframe\n",
      "\t\t\ttaking the whole dataframe\n"
     ]
    },
    {
     "name": "stderr",
     "output_type": "stream",
     "text": [
      " 83%|████████▎ | 25/30 [00:03<00:00,  6.27it/s]"
     ]
    },
    {
     "name": "stdout",
     "output_type": "stream",
     "text": [
      "\t\t\ttaking the whole dataframe\n",
      "\t\t\ttaking the whole dataframe\n"
     ]
    },
    {
     "name": "stderr",
     "output_type": "stream",
     "text": [
      " 93%|█████████▎| 28/30 [00:04<00:00,  8.10it/s]"
     ]
    },
    {
     "name": "stdout",
     "output_type": "stream",
     "text": [
      "\t\t\ttaking the whole dataframe\n",
      "\t\t\ttaking the whole dataframe\n",
      "\t\t\ttaking the whole dataframe\n"
     ]
    },
    {
     "name": "stderr",
     "output_type": "stream",
     "text": [
      "100%|██████████| 30/30 [00:04<00:00,  7.17it/s]\n"
     ]
    },
    {
     "name": "stdout",
     "output_type": "stream",
     "text": [
      "\t\t\ttaking the whole dataframe\n",
      "\t\t\ttaking the whole dataframe\n",
      "range(0, 12)\n"
     ]
    },
    {
     "name": "stderr",
     "output_type": "stream",
     "text": [
      "100%|██████████| 1/1 [00:00<00:00,  3.51it/s]\n"
     ]
    },
    {
     "name": "stdout",
     "output_type": "stream",
     "text": [
      "\t\t\ttaking the whole dataframe\n",
      "range(0, 13)\n"
     ]
    },
    {
     "name": "stderr",
     "output_type": "stream",
     "text": [
      "100%|██████████| 4/4 [00:00<00:00, 128.00it/s]\n"
     ]
    },
    {
     "name": "stdout",
     "output_type": "stream",
     "text": [
      "range(0, 6)\n"
     ]
    },
    {
     "name": "stderr",
     "output_type": "stream",
     "text": [
      "100%|██████████| 4/4 [00:00<00:00, 82.24it/s]\n"
     ]
    },
    {
     "name": "stdout",
     "output_type": "stream",
     "text": [
      "range(0, 7)\n"
     ]
    },
    {
     "name": "stderr",
     "output_type": "stream",
     "text": [
      "100%|██████████| 4/4 [00:00<00:00, 44.05it/s]\n"
     ]
    },
    {
     "name": "stdout",
     "output_type": "stream",
     "text": [
      "range(0, 8)\n"
     ]
    },
    {
     "name": "stderr",
     "output_type": "stream",
     "text": [
      "100%|██████████| 4/4 [00:00<00:00, 18.26it/s]\n"
     ]
    },
    {
     "name": "stdout",
     "output_type": "stream",
     "text": [
      "range(0, 9)\n"
     ]
    },
    {
     "name": "stderr",
     "output_type": "stream",
     "text": [
      "100%|██████████| 4/4 [00:00<00:00,  6.95it/s]\n"
     ]
    },
    {
     "name": "stdout",
     "output_type": "stream",
     "text": [
      "range(0, 10)\n"
     ]
    },
    {
     "name": "stderr",
     "output_type": "stream",
     "text": [
      "100%|██████████| 22/22 [00:00<00:00, 135.02it/s]"
     ]
    },
    {
     "name": "stdout",
     "output_type": "stream",
     "text": [
      "range(0, 8)\n"
     ]
    },
    {
     "name": "stderr",
     "output_type": "stream",
     "text": [
      "\n",
      "100%|██████████| 24/24 [00:00<00:00, 99.52it/s]\n"
     ]
    },
    {
     "name": "stdout",
     "output_type": "stream",
     "text": [
      "range(0, 9)\n"
     ]
    },
    {
     "name": "stderr",
     "output_type": "stream",
     "text": [
      "100%|██████████| 26/26 [00:00<00:00, 54.78it/s]\n"
     ]
    },
    {
     "name": "stdout",
     "output_type": "stream",
     "text": [
      "range(0, 10)\n"
     ]
    },
    {
     "name": "stderr",
     "output_type": "stream",
     "text": [
      "100%|██████████| 28/28 [00:01<00:00, 22.41it/s]\n"
     ]
    },
    {
     "name": "stdout",
     "output_type": "stream",
     "text": [
      "range(0, 11)\n"
     ]
    },
    {
     "name": "stderr",
     "output_type": "stream",
     "text": [
      "100%|██████████| 30/30 [00:04<00:00,  7.28it/s]\n"
     ]
    },
    {
     "name": "stdout",
     "output_type": "stream",
     "text": [
      "range(0, 12)\n"
     ]
    },
    {
     "name": "stderr",
     "output_type": "stream",
     "text": [
      "100%|██████████| 7/7 [00:02<00:00,  3.19it/s]\n"
     ]
    },
    {
     "name": "stdout",
     "output_type": "stream",
     "text": [
      "range(0, 13)\n"
     ]
    },
    {
     "name": "stderr",
     "output_type": "stream",
     "text": [
      "100%|██████████| 4/4 [00:00<00:00, 150.80it/s]\n"
     ]
    },
    {
     "name": "stdout",
     "output_type": "stream",
     "text": [
      "range(0, 6)\n"
     ]
    },
    {
     "name": "stderr",
     "output_type": "stream",
     "text": [
      "100%|██████████| 4/4 [00:00<00:00, 104.86it/s]\n"
     ]
    },
    {
     "name": "stdout",
     "output_type": "stream",
     "text": [
      "range(0, 7)\n"
     ]
    },
    {
     "name": "stderr",
     "output_type": "stream",
     "text": [
      "100%|██████████| 4/4 [00:00<00:00, 63.55it/s]\n"
     ]
    },
    {
     "name": "stdout",
     "output_type": "stream",
     "text": [
      "range(0, 8)\n"
     ]
    },
    {
     "name": "stderr",
     "output_type": "stream",
     "text": [
      "100%|██████████| 4/4 [00:00<00:00, 25.08it/s]\n"
     ]
    },
    {
     "name": "stdout",
     "output_type": "stream",
     "text": [
      "range(0, 9)\n"
     ]
    },
    {
     "name": "stderr",
     "output_type": "stream",
     "text": [
      "100%|██████████| 4/4 [00:00<00:00,  7.65it/s]\n"
     ]
    },
    {
     "name": "stdout",
     "output_type": "stream",
     "text": [
      "range(0, 10)\n"
     ]
    },
    {
     "name": "stderr",
     "output_type": "stream",
     "text": [
      "100%|██████████| 22/22 [00:00<00:00, 133.80it/s]\n"
     ]
    },
    {
     "name": "stdout",
     "output_type": "stream",
     "text": [
      "range(0, 8)\n"
     ]
    },
    {
     "name": "stderr",
     "output_type": "stream",
     "text": [
      "100%|██████████| 24/24 [00:00<00:00, 99.05it/s]\n"
     ]
    },
    {
     "name": "stdout",
     "output_type": "stream",
     "text": [
      "range(0, 9)\n"
     ]
    },
    {
     "name": "stderr",
     "output_type": "stream",
     "text": [
      "100%|██████████| 26/26 [00:00<00:00, 56.84it/s]\n"
     ]
    },
    {
     "name": "stdout",
     "output_type": "stream",
     "text": [
      "range(0, 10)\n"
     ]
    },
    {
     "name": "stderr",
     "output_type": "stream",
     "text": [
      "100%|██████████| 28/28 [00:01<00:00, 22.30it/s]\n"
     ]
    },
    {
     "name": "stdout",
     "output_type": "stream",
     "text": [
      "range(0, 11)\n"
     ]
    },
    {
     "name": "stderr",
     "output_type": "stream",
     "text": [
      "100%|██████████| 30/30 [00:04<00:00,  7.22it/s]\n"
     ]
    },
    {
     "name": "stdout",
     "output_type": "stream",
     "text": [
      "range(0, 12)\n"
     ]
    },
    {
     "name": "stderr",
     "output_type": "stream",
     "text": [
      "100%|██████████| 7/7 [00:02<00:00,  3.46it/s]\n"
     ]
    },
    {
     "name": "stdout",
     "output_type": "stream",
     "text": [
      "range(0, 13)\n"
     ]
    },
    {
     "name": "stderr",
     "output_type": "stream",
     "text": [
      "100%|██████████| 4/4 [00:00<00:00, 154.75it/s]\n"
     ]
    },
    {
     "name": "stdout",
     "output_type": "stream",
     "text": [
      "\t\t\ttaking the whole dataframe\n",
      "\t\t\ttaking the whole dataframe\n",
      "\t\t\ttaking the whole dataframe\n",
      "\t\t\ttaking the whole dataframe\n",
      "range(0, 6)\n"
     ]
    },
    {
     "name": "stderr",
     "output_type": "stream",
     "text": [
      "100%|██████████| 4/4 [00:00<00:00, 93.21it/s]\n"
     ]
    },
    {
     "name": "stdout",
     "output_type": "stream",
     "text": [
      "\t\t\ttaking the whole dataframe\n",
      "\t\t\ttaking the whole dataframe\n",
      "\t\t\ttaking the whole dataframe\n",
      "\t\t\ttaking the whole dataframe\n",
      "range(0, 7)\n"
     ]
    },
    {
     "name": "stderr",
     "output_type": "stream",
     "text": [
      "  0%|          | 0/4 [00:00<?, ?it/s]"
     ]
    },
    {
     "name": "stdout",
     "output_type": "stream",
     "text": [
      "\t\t\ttaking the whole dataframe\n",
      "\t\t\ttaking the whole dataframe\n",
      "\t\t\ttaking the whole dataframe\n",
      "\t\t\ttaking the whole dataframe\n"
     ]
    },
    {
     "name": "stderr",
     "output_type": "stream",
     "text": [
      "100%|██████████| 4/4 [00:00<00:00, 60.92it/s]\n"
     ]
    },
    {
     "name": "stdout",
     "output_type": "stream",
     "text": [
      "range(0, 8)\n"
     ]
    },
    {
     "name": "stderr",
     "output_type": "stream",
     "text": [
      "  0%|          | 0/4 [00:00<?, ?it/s]"
     ]
    },
    {
     "name": "stdout",
     "output_type": "stream",
     "text": [
      "\t\t\ttaking the whole dataframe\n",
      "\t\t\ttaking the whole dataframe\n"
     ]
    },
    {
     "name": "stderr",
     "output_type": "stream",
     "text": [
      " 75%|███████▌  | 3/4 [00:00<00:00, 25.60it/s]"
     ]
    },
    {
     "name": "stdout",
     "output_type": "stream",
     "text": [
      "\t\t\ttaking the whole dataframe\n"
     ]
    },
    {
     "name": "stderr",
     "output_type": "stream",
     "text": [
      "100%|██████████| 4/4 [00:00<00:00, 25.03it/s]\n"
     ]
    },
    {
     "name": "stdout",
     "output_type": "stream",
     "text": [
      "\t\t\ttaking the whole dataframe\n",
      "range(0, 9)\n"
     ]
    },
    {
     "name": "stderr",
     "output_type": "stream",
     "text": [
      "  0%|          | 0/4 [00:00<?, ?it/s]"
     ]
    },
    {
     "name": "stdout",
     "output_type": "stream",
     "text": [
      "\t\t\ttaking the whole dataframe\n"
     ]
    },
    {
     "name": "stderr",
     "output_type": "stream",
     "text": [
      " 50%|█████     | 2/4 [00:00<00:00,  7.85it/s]"
     ]
    },
    {
     "name": "stdout",
     "output_type": "stream",
     "text": [
      "\t\t\ttaking the whole dataframe\n"
     ]
    },
    {
     "name": "stderr",
     "output_type": "stream",
     "text": [
      " 75%|███████▌  | 3/4 [00:00<00:00,  7.96it/s]"
     ]
    },
    {
     "name": "stdout",
     "output_type": "stream",
     "text": [
      "\t\t\ttaking the whole dataframe\n"
     ]
    },
    {
     "name": "stderr",
     "output_type": "stream",
     "text": [
      "100%|██████████| 4/4 [00:00<00:00,  7.86it/s]\n"
     ]
    },
    {
     "name": "stdout",
     "output_type": "stream",
     "text": [
      "\t\t\ttaking the whole dataframe\n",
      "range(0, 10)\n"
     ]
    },
    {
     "name": "stderr",
     "output_type": "stream",
     "text": [
      "  0%|          | 0/22 [00:00<?, ?it/s]"
     ]
    },
    {
     "name": "stdout",
     "output_type": "stream",
     "text": [
      "\t\t\ttaking the whole dataframe\n",
      "\t\t\ttaking the whole dataframe\n",
      "\t\t\ttaking the whole dataframe\n",
      "\t\t\ttaking the whole dataframe\n"
     ]
    },
    {
     "name": "stderr",
     "output_type": "stream",
     "text": [
      " 59%|█████▉    | 13/22 [00:00<00:00, 126.39it/s]"
     ]
    },
    {
     "name": "stdout",
     "output_type": "stream",
     "text": [
      "\t\t\ttaking the whole dataframe\n",
      "\t\t\ttaking the whole dataframe\n",
      "\t\t\ttaking the whole dataframe\n",
      "\t\t\ttaking the whole dataframe\n",
      "\t\t\ttaking the whole dataframe\n",
      "\t\t\ttaking the whole dataframe\n",
      "\t\t\ttaking the whole dataframe\n",
      "\t\t\ttaking the whole dataframe\n",
      "\t\t\ttaking the whole dataframe\n",
      "\t\t\ttaking the whole dataframe\n",
      "\t\t\ttaking the whole dataframe\n",
      "\t\t\ttaking the whole dataframe\n",
      "\t\t\ttaking the whole dataframe\n",
      "\t\t\ttaking the whole dataframe\n",
      "\t\t\ttaking the whole dataframe\n"
     ]
    },
    {
     "name": "stderr",
     "output_type": "stream",
     "text": [
      "100%|██████████| 22/22 [00:00<00:00, 126.88it/s]\n"
     ]
    },
    {
     "name": "stdout",
     "output_type": "stream",
     "text": [
      "\t\t\ttaking the whole dataframe\n",
      "\t\t\ttaking the whole dataframe\n",
      "\t\t\ttaking the whole dataframe\n",
      "range(0, 8)\n"
     ]
    },
    {
     "name": "stderr",
     "output_type": "stream",
     "text": [
      "  0%|          | 0/24 [00:00<?, ?it/s]"
     ]
    },
    {
     "name": "stdout",
     "output_type": "stream",
     "text": [
      "\t\t\ttaking the whole dataframe\n",
      "\t\t\ttaking the whole dataframe\n",
      "\t\t\ttaking the whole dataframe\n"
     ]
    },
    {
     "name": "stderr",
     "output_type": "stream",
     "text": [
      " 38%|███▊      | 9/24 [00:00<00:00, 81.34it/s]"
     ]
    },
    {
     "name": "stdout",
     "output_type": "stream",
     "text": [
      "\t\t\ttaking the whole dataframe\n",
      "\t\t\ttaking the whole dataframe\n",
      "\t\t\ttaking the whole dataframe\n",
      "\t\t\ttaking the whole dataframe\n",
      "\t\t\ttaking the whole dataframe\n",
      "\t\t\ttaking the whole dataframe\n",
      "\t\t\ttaking the whole dataframe\n",
      "\t\t\ttaking the whole dataframe\n",
      "\t\t\ttaking the whole dataframe\n",
      "\t\t\ttaking the whole dataframe\n",
      "\t\t\ttaking the whole dataframe\n",
      "\t\t\ttaking the whole dataframe\n",
      "\t\t\ttaking the whole dataframe\n"
     ]
    },
    {
     "name": "stderr",
     "output_type": "stream",
     "text": [
      " 79%|███████▉  | 19/24 [00:00<00:00, 86.94it/s]"
     ]
    },
    {
     "name": "stdout",
     "output_type": "stream",
     "text": [
      "\t\t\ttaking the whole dataframe\n",
      "\t\t\ttaking the whole dataframe\n",
      "\t\t\ttaking the whole dataframe\n"
     ]
    },
    {
     "name": "stderr",
     "output_type": "stream",
     "text": [
      "100%|██████████| 24/24 [00:00<00:00, 89.73it/s]\n"
     ]
    },
    {
     "name": "stdout",
     "output_type": "stream",
     "text": [
      "\t\t\ttaking the whole dataframe\n",
      "\t\t\ttaking the whole dataframe\n",
      "\t\t\ttaking the whole dataframe\n",
      "\t\t\ttaking the whole dataframe\n",
      "\t\t\ttaking the whole dataframe\n",
      "range(0, 9)\n"
     ]
    },
    {
     "name": "stderr",
     "output_type": "stream",
     "text": [
      "  0%|          | 0/26 [00:00<?, ?it/s]"
     ]
    },
    {
     "name": "stdout",
     "output_type": "stream",
     "text": [
      "\t\t\ttaking the whole dataframe\n",
      "\t\t\ttaking the whole dataframe\n",
      "\t\t\ttaking the whole dataframe\n",
      "\t\t\ttaking the whole dataframe\n",
      "\t\t\ttaking the whole dataframe\n",
      "\t\t\ttaking the whole dataframe\n",
      "\t\t\ttaking the whole dataframe\n"
     ]
    },
    {
     "name": "stderr",
     "output_type": "stream",
     "text": [
      " 27%|██▋       | 7/26 [00:00<00:00, 59.73it/s]"
     ]
    },
    {
     "name": "stdout",
     "output_type": "stream",
     "text": [
      "\t\t\ttaking the whole dataframe\n",
      "\t\t\ttaking the whole dataframe\n",
      "\t\t\ttaking the whole dataframe\n",
      "\t\t\ttaking the whole dataframe\n"
     ]
    },
    {
     "name": "stderr",
     "output_type": "stream",
     "text": [
      " 50%|█████     | 13/26 [00:00<00:00, 53.82it/s]"
     ]
    },
    {
     "name": "stdout",
     "output_type": "stream",
     "text": [
      "\t\t\ttaking the whole dataframe\n",
      "\t\t\ttaking the whole dataframe\n",
      "\t\t\ttaking the whole dataframe\n",
      "\t\t\ttaking the whole dataframe\n",
      "\t\t\ttaking the whole dataframe\n",
      "\t\t\ttaking the whole dataframe\n"
     ]
    },
    {
     "name": "stderr",
     "output_type": "stream",
     "text": [
      " 73%|███████▎  | 19/26 [00:00<00:00, 51.43it/s]"
     ]
    },
    {
     "name": "stdout",
     "output_type": "stream",
     "text": [
      "\t\t\ttaking the whole dataframe\n",
      "\t\t\ttaking the whole dataframe\n",
      "\t\t\ttaking the whole dataframe\n",
      "\t\t\ttaking the whole dataframe\n"
     ]
    },
    {
     "name": "stderr",
     "output_type": "stream",
     "text": [
      " 96%|█████████▌| 25/26 [00:00<00:00, 54.00it/s]"
     ]
    },
    {
     "name": "stdout",
     "output_type": "stream",
     "text": [
      "\t\t\ttaking the whole dataframe\n",
      "\t\t\ttaking the whole dataframe\n",
      "\t\t\ttaking the whole dataframe\n",
      "\t\t\ttaking the whole dataframe\n"
     ]
    },
    {
     "name": "stderr",
     "output_type": "stream",
     "text": [
      "100%|██████████| 26/26 [00:00<00:00, 54.39it/s]\n"
     ]
    },
    {
     "name": "stdout",
     "output_type": "stream",
     "text": [
      "\t\t\ttaking the whole dataframe\n",
      "range(0, 10)\n"
     ]
    },
    {
     "name": "stderr",
     "output_type": "stream",
     "text": [
      "  0%|          | 0/28 [00:00<?, ?it/s]"
     ]
    },
    {
     "name": "stdout",
     "output_type": "stream",
     "text": [
      "\t\t\ttaking the whole dataframe\n",
      "\t\t\ttaking the whole dataframe\n",
      "\t\t\ttaking the whole dataframe\n",
      "\t\t\ttaking the whole dataframe\n"
     ]
    },
    {
     "name": "stderr",
     "output_type": "stream",
     "text": [
      " 14%|█▍        | 4/28 [00:00<00:00, 31.40it/s]"
     ]
    },
    {
     "name": "stdout",
     "output_type": "stream",
     "text": [
      "\t\t\ttaking the whole dataframe\n"
     ]
    },
    {
     "name": "stderr",
     "output_type": "stream",
     "text": [
      " 29%|██▊       | 8/28 [00:00<00:00, 23.18it/s]"
     ]
    },
    {
     "name": "stdout",
     "output_type": "stream",
     "text": [
      "\t\t\ttaking the whole dataframe\n",
      "\t\t\ttaking the whole dataframe\n",
      "\t\t\ttaking the whole dataframe\n",
      "\t\t\ttaking the whole dataframe\n",
      "\t\t\ttaking the whole dataframe\n"
     ]
    },
    {
     "name": "stderr",
     "output_type": "stream",
     "text": [
      " 39%|███▉      | 11/28 [00:00<00:00, 21.70it/s]"
     ]
    },
    {
     "name": "stdout",
     "output_type": "stream",
     "text": [
      "\t\t\ttaking the whole dataframe\n",
      "\t\t\ttaking the whole dataframe\n",
      "\t\t\ttaking the whole dataframe\n"
     ]
    },
    {
     "name": "stderr",
     "output_type": "stream",
     "text": [
      " 50%|█████     | 14/28 [00:00<00:00, 20.90it/s]"
     ]
    },
    {
     "name": "stdout",
     "output_type": "stream",
     "text": [
      "\t\t\ttaking the whole dataframe\n"
     ]
    },
    {
     "name": "stderr",
     "output_type": "stream",
     "text": [
      " 61%|██████    | 17/28 [00:00<00:00, 20.44it/s]"
     ]
    },
    {
     "name": "stdout",
     "output_type": "stream",
     "text": [
      "\t\t\ttaking the whole dataframe\n",
      "\t\t\ttaking the whole dataframe\n",
      "\t\t\ttaking the whole dataframe\n",
      "\t\t\ttaking the whole dataframe\n"
     ]
    },
    {
     "name": "stderr",
     "output_type": "stream",
     "text": [
      " 71%|███████▏  | 20/28 [00:00<00:00, 19.90it/s]"
     ]
    },
    {
     "name": "stdout",
     "output_type": "stream",
     "text": [
      "\t\t\ttaking the whole dataframe\n",
      "\t\t\ttaking the whole dataframe\n",
      "\t\t\ttaking the whole dataframe\n",
      "\t\t\ttaking the whole dataframe\n",
      "\t\t\ttaking the whole dataframe\n"
     ]
    },
    {
     "name": "stderr",
     "output_type": "stream",
     "text": [
      " 93%|█████████▎| 26/28 [00:01<00:00, 21.73it/s]"
     ]
    },
    {
     "name": "stdout",
     "output_type": "stream",
     "text": [
      "\t\t\ttaking the whole dataframe\n",
      "\t\t\ttaking the whole dataframe\n",
      "\t\t\ttaking the whole dataframe\n",
      "\t\t\ttaking the whole dataframe\n"
     ]
    },
    {
     "name": "stderr",
     "output_type": "stream",
     "text": [
      "100%|██████████| 28/28 [00:01<00:00, 21.99it/s]\n"
     ]
    },
    {
     "name": "stdout",
     "output_type": "stream",
     "text": [
      "\t\t\ttaking the whole dataframe\n",
      "range(0, 11)\n"
     ]
    },
    {
     "name": "stderr",
     "output_type": "stream",
     "text": [
      "  7%|▋         | 2/30 [00:00<00:02, 12.09it/s]"
     ]
    },
    {
     "name": "stdout",
     "output_type": "stream",
     "text": [
      "\t\t\ttaking the whole dataframe\n",
      "\t\t\ttaking the whole dataframe\n",
      "\t\t\ttaking the whole dataframe\n"
     ]
    },
    {
     "name": "stderr",
     "output_type": "stream",
     "text": [
      " 13%|█▎        | 4/30 [00:00<00:02, 11.53it/s]"
     ]
    },
    {
     "name": "stdout",
     "output_type": "stream",
     "text": [
      "\t\t\ttaking the whole dataframe\n",
      "\t\t\ttaking the whole dataframe\n"
     ]
    },
    {
     "name": "stderr",
     "output_type": "stream",
     "text": [
      " 20%|██        | 6/30 [00:00<00:02,  8.42it/s]"
     ]
    },
    {
     "name": "stdout",
     "output_type": "stream",
     "text": [
      "\t\t\ttaking the whole dataframe\n"
     ]
    },
    {
     "name": "stderr",
     "output_type": "stream",
     "text": [
      " 23%|██▎       | 7/30 [00:00<00:02,  7.74it/s]"
     ]
    },
    {
     "name": "stdout",
     "output_type": "stream",
     "text": [
      "\t\t\ttaking the whole dataframe\n"
     ]
    },
    {
     "name": "stderr",
     "output_type": "stream",
     "text": [
      " 27%|██▋       | 8/30 [00:00<00:02,  7.34it/s]"
     ]
    },
    {
     "name": "stdout",
     "output_type": "stream",
     "text": [
      "\t\t\ttaking the whole dataframe\n"
     ]
    },
    {
     "name": "stderr",
     "output_type": "stream",
     "text": [
      " 30%|███       | 9/30 [00:01<00:02,  7.03it/s]"
     ]
    },
    {
     "name": "stdout",
     "output_type": "stream",
     "text": [
      "\t\t\ttaking the whole dataframe\n"
     ]
    },
    {
     "name": "stderr",
     "output_type": "stream",
     "text": [
      " 33%|███▎      | 10/30 [00:01<00:02,  6.69it/s]"
     ]
    },
    {
     "name": "stdout",
     "output_type": "stream",
     "text": [
      "\t\t\ttaking the whole dataframe\n"
     ]
    },
    {
     "name": "stderr",
     "output_type": "stream",
     "text": [
      " 37%|███▋      | 11/30 [00:01<00:02,  6.61it/s]"
     ]
    },
    {
     "name": "stdout",
     "output_type": "stream",
     "text": [
      "\t\t\ttaking the whole dataframe\n"
     ]
    },
    {
     "name": "stderr",
     "output_type": "stream",
     "text": [
      " 40%|████      | 12/30 [00:01<00:02,  6.55it/s]"
     ]
    },
    {
     "name": "stdout",
     "output_type": "stream",
     "text": [
      "\t\t\ttaking the whole dataframe\n"
     ]
    },
    {
     "name": "stderr",
     "output_type": "stream",
     "text": [
      " 43%|████▎     | 13/30 [00:01<00:02,  6.47it/s]"
     ]
    },
    {
     "name": "stdout",
     "output_type": "stream",
     "text": [
      "\t\t\ttaking the whole dataframe\n"
     ]
    },
    {
     "name": "stderr",
     "output_type": "stream",
     "text": [
      " 47%|████▋     | 14/30 [00:01<00:02,  6.32it/s]"
     ]
    },
    {
     "name": "stdout",
     "output_type": "stream",
     "text": [
      "\t\t\ttaking the whole dataframe\n"
     ]
    },
    {
     "name": "stderr",
     "output_type": "stream",
     "text": [
      " 50%|█████     | 15/30 [00:02<00:02,  6.10it/s]"
     ]
    },
    {
     "name": "stdout",
     "output_type": "stream",
     "text": [
      "\t\t\ttaking the whole dataframe\n"
     ]
    },
    {
     "name": "stderr",
     "output_type": "stream",
     "text": [
      " 53%|█████▎    | 16/30 [00:02<00:02,  5.60it/s]"
     ]
    },
    {
     "name": "stdout",
     "output_type": "stream",
     "text": [
      "\t\t\ttaking the whole dataframe\n",
      "\t\t\ttaking the whole dataframe\n"
     ]
    },
    {
     "name": "stderr",
     "output_type": "stream",
     "text": [
      " 63%|██████▎   | 19/30 [00:02<00:01,  5.62it/s]"
     ]
    },
    {
     "name": "stdout",
     "output_type": "stream",
     "text": [
      "\t\t\ttaking the whole dataframe\n",
      "\t\t\ttaking the whole dataframe\n"
     ]
    },
    {
     "name": "stderr",
     "output_type": "stream",
     "text": [
      " 70%|███████   | 21/30 [00:03<00:01,  5.95it/s]"
     ]
    },
    {
     "name": "stdout",
     "output_type": "stream",
     "text": [
      "\t\t\ttaking the whole dataframe\n",
      "\t\t\ttaking the whole dataframe\n"
     ]
    },
    {
     "name": "stderr",
     "output_type": "stream",
     "text": [
      " 77%|███████▋  | 23/30 [00:03<00:01,  6.19it/s]"
     ]
    },
    {
     "name": "stdout",
     "output_type": "stream",
     "text": [
      "\t\t\ttaking the whole dataframe\n",
      "\t\t\ttaking the whole dataframe\n"
     ]
    },
    {
     "name": "stderr",
     "output_type": "stream",
     "text": [
      " 83%|████████▎ | 25/30 [00:03<00:00,  6.19it/s]"
     ]
    },
    {
     "name": "stdout",
     "output_type": "stream",
     "text": [
      "\t\t\ttaking the whole dataframe\n",
      "\t\t\ttaking the whole dataframe\n"
     ]
    },
    {
     "name": "stderr",
     "output_type": "stream",
     "text": [
      " 93%|█████████▎| 28/30 [00:04<00:00,  8.05it/s]"
     ]
    },
    {
     "name": "stdout",
     "output_type": "stream",
     "text": [
      "\t\t\ttaking the whole dataframe\n",
      "\t\t\ttaking the whole dataframe\n",
      "\t\t\ttaking the whole dataframe\n"
     ]
    },
    {
     "name": "stderr",
     "output_type": "stream",
     "text": [
      "100%|██████████| 30/30 [00:04<00:00,  6.95it/s]\n"
     ]
    },
    {
     "name": "stdout",
     "output_type": "stream",
     "text": [
      "\t\t\ttaking the whole dataframe\n",
      "\t\t\ttaking the whole dataframe\n",
      "range(0, 12)\n"
     ]
    },
    {
     "name": "stderr",
     "output_type": "stream",
     "text": [
      " 14%|█▍        | 1/7 [00:00<00:01,  3.50it/s]"
     ]
    },
    {
     "name": "stdout",
     "output_type": "stream",
     "text": [
      "\t\t\ttaking the whole dataframe\n"
     ]
    },
    {
     "name": "stderr",
     "output_type": "stream",
     "text": [
      " 29%|██▊       | 2/7 [00:00<00:01,  3.54it/s]"
     ]
    },
    {
     "name": "stdout",
     "output_type": "stream",
     "text": [
      "\t\t\ttaking the whole dataframe\n"
     ]
    },
    {
     "name": "stderr",
     "output_type": "stream",
     "text": [
      " 43%|████▎     | 3/7 [00:00<00:01,  3.52it/s]"
     ]
    },
    {
     "name": "stdout",
     "output_type": "stream",
     "text": [
      "\t\t\ttaking the whole dataframe\n"
     ]
    },
    {
     "name": "stderr",
     "output_type": "stream",
     "text": [
      " 57%|█████▋    | 4/7 [00:01<00:00,  3.33it/s]"
     ]
    },
    {
     "name": "stdout",
     "output_type": "stream",
     "text": [
      "\t\t\ttaking the whole dataframe\n"
     ]
    },
    {
     "name": "stderr",
     "output_type": "stream",
     "text": [
      " 71%|███████▏  | 5/7 [00:01<00:00,  3.31it/s]"
     ]
    },
    {
     "name": "stdout",
     "output_type": "stream",
     "text": [
      "\t\t\ttaking the whole dataframe\n"
     ]
    },
    {
     "name": "stderr",
     "output_type": "stream",
     "text": [
      " 86%|████████▌ | 6/7 [00:01<00:00,  3.39it/s]"
     ]
    },
    {
     "name": "stdout",
     "output_type": "stream",
     "text": [
      "\t\t\ttaking the whole dataframe\n"
     ]
    },
    {
     "name": "stderr",
     "output_type": "stream",
     "text": [
      "100%|██████████| 7/7 [00:02<00:00,  3.38it/s]\n"
     ]
    },
    {
     "name": "stdout",
     "output_type": "stream",
     "text": [
      "\t\t\ttaking the whole dataframe\n",
      "range(0, 13)\n"
     ]
    },
    {
     "name": "stderr",
     "output_type": "stream",
     "text": [
      "100%|██████████| 4/4 [00:00<00:00, 137.88it/s]\n"
     ]
    },
    {
     "name": "stdout",
     "output_type": "stream",
     "text": [
      "range(0, 6)\n"
     ]
    },
    {
     "name": "stderr",
     "output_type": "stream",
     "text": [
      "100%|██████████| 4/4 [00:00<00:00, 106.55it/s]\n"
     ]
    },
    {
     "name": "stdout",
     "output_type": "stream",
     "text": [
      "range(0, 7)\n"
     ]
    },
    {
     "name": "stderr",
     "output_type": "stream",
     "text": [
      "100%|██████████| 4/4 [00:00<00:00, 63.48it/s]\n"
     ]
    },
    {
     "name": "stdout",
     "output_type": "stream",
     "text": [
      "range(0, 8)\n"
     ]
    },
    {
     "name": "stderr",
     "output_type": "stream",
     "text": [
      "100%|██████████| 4/4 [00:00<00:00, 25.58it/s]\n"
     ]
    },
    {
     "name": "stdout",
     "output_type": "stream",
     "text": [
      "range(0, 9)\n"
     ]
    },
    {
     "name": "stderr",
     "output_type": "stream",
     "text": [
      "100%|██████████| 4/4 [00:00<00:00,  7.75it/s]\n"
     ]
    },
    {
     "name": "stdout",
     "output_type": "stream",
     "text": [
      "range(0, 10)\n"
     ]
    },
    {
     "name": "stderr",
     "output_type": "stream",
     "text": [
      "100%|██████████| 22/22 [00:00<00:00, 134.73it/s]"
     ]
    },
    {
     "name": "stdout",
     "output_type": "stream",
     "text": [
      "range(0, 8)\n"
     ]
    },
    {
     "name": "stderr",
     "output_type": "stream",
     "text": [
      "\n",
      "100%|██████████| 24/24 [00:00<00:00, 101.37it/s]\n"
     ]
    },
    {
     "name": "stdout",
     "output_type": "stream",
     "text": [
      "range(0, 9)\n"
     ]
    },
    {
     "name": "stderr",
     "output_type": "stream",
     "text": [
      "100%|██████████| 26/26 [00:00<00:00, 56.25it/s]\n"
     ]
    },
    {
     "name": "stdout",
     "output_type": "stream",
     "text": [
      "range(0, 10)\n"
     ]
    },
    {
     "name": "stderr",
     "output_type": "stream",
     "text": [
      "100%|██████████| 28/28 [00:01<00:00, 22.43it/s]\n"
     ]
    },
    {
     "name": "stdout",
     "output_type": "stream",
     "text": [
      "range(0, 11)\n"
     ]
    },
    {
     "name": "stderr",
     "output_type": "stream",
     "text": [
      "100%|██████████| 30/30 [00:04<00:00,  7.11it/s]\n"
     ]
    },
    {
     "name": "stdout",
     "output_type": "stream",
     "text": [
      "range(0, 12)\n"
     ]
    },
    {
     "name": "stderr",
     "output_type": "stream",
     "text": [
      "100%|██████████| 5/5 [00:01<00:00,  3.50it/s]\n"
     ]
    },
    {
     "name": "stdout",
     "output_type": "stream",
     "text": [
      "range(0, 13)\n"
     ]
    },
    {
     "name": "stderr",
     "output_type": "stream",
     "text": [
      "100%|██████████| 4/4 [00:00<00:00, 139.32it/s]\n"
     ]
    },
    {
     "name": "stdout",
     "output_type": "stream",
     "text": [
      "range(0, 6)\n"
     ]
    },
    {
     "name": "stderr",
     "output_type": "stream",
     "text": [
      "100%|██████████| 4/4 [00:00<00:00, 105.95it/s]\n"
     ]
    },
    {
     "name": "stdout",
     "output_type": "stream",
     "text": [
      "range(0, 7)\n"
     ]
    },
    {
     "name": "stderr",
     "output_type": "stream",
     "text": [
      "100%|██████████| 4/4 [00:00<00:00, 62.36it/s]\n"
     ]
    },
    {
     "name": "stdout",
     "output_type": "stream",
     "text": [
      "range(0, 8)\n"
     ]
    },
    {
     "name": "stderr",
     "output_type": "stream",
     "text": [
      "100%|██████████| 4/4 [00:00<00:00, 25.74it/s]\n"
     ]
    },
    {
     "name": "stdout",
     "output_type": "stream",
     "text": [
      "range(0, 9)\n"
     ]
    },
    {
     "name": "stderr",
     "output_type": "stream",
     "text": [
      "100%|██████████| 4/4 [00:00<00:00,  7.57it/s]\n"
     ]
    },
    {
     "name": "stdout",
     "output_type": "stream",
     "text": [
      "range(0, 10)\n"
     ]
    },
    {
     "name": "stderr",
     "output_type": "stream",
     "text": [
      "100%|██████████| 22/22 [00:00<00:00, 129.81it/s]\n"
     ]
    },
    {
     "name": "stdout",
     "output_type": "stream",
     "text": [
      "range(0, 8)\n"
     ]
    },
    {
     "name": "stderr",
     "output_type": "stream",
     "text": [
      "100%|██████████| 24/24 [00:00<00:00, 99.27it/s]\n"
     ]
    },
    {
     "name": "stdout",
     "output_type": "stream",
     "text": [
      "range(0, 9)\n"
     ]
    },
    {
     "name": "stderr",
     "output_type": "stream",
     "text": [
      "100%|██████████| 26/26 [00:00<00:00, 55.86it/s]\n"
     ]
    },
    {
     "name": "stdout",
     "output_type": "stream",
     "text": [
      "range(0, 10)\n"
     ]
    },
    {
     "name": "stderr",
     "output_type": "stream",
     "text": [
      "100%|██████████| 28/28 [00:01<00:00, 22.21it/s]\n"
     ]
    },
    {
     "name": "stdout",
     "output_type": "stream",
     "text": [
      "range(0, 11)\n"
     ]
    },
    {
     "name": "stderr",
     "output_type": "stream",
     "text": [
      "100%|██████████| 30/30 [00:04<00:00,  7.27it/s]\n"
     ]
    },
    {
     "name": "stdout",
     "output_type": "stream",
     "text": [
      "range(0, 12)\n"
     ]
    },
    {
     "name": "stderr",
     "output_type": "stream",
     "text": [
      "100%|██████████| 5/5 [00:01<00:00,  3.40it/s]\n"
     ]
    },
    {
     "name": "stdout",
     "output_type": "stream",
     "text": [
      "range(0, 13)\n"
     ]
    },
    {
     "name": "stderr",
     "output_type": "stream",
     "text": [
      "100%|██████████| 4/4 [00:00<00:00, 126.17it/s]\n"
     ]
    },
    {
     "name": "stdout",
     "output_type": "stream",
     "text": [
      "\t\t\ttaking the whole dataframe\n",
      "\t\t\ttaking the whole dataframe\n",
      "\t\t\ttaking the whole dataframe\n",
      "\t\t\ttaking the whole dataframe\n",
      "range(0, 6)\n"
     ]
    },
    {
     "name": "stderr",
     "output_type": "stream",
     "text": [
      "100%|██████████| 4/4 [00:00<00:00, 103.46it/s]\n"
     ]
    },
    {
     "name": "stdout",
     "output_type": "stream",
     "text": [
      "\t\t\ttaking the whole dataframe\n",
      "\t\t\ttaking the whole dataframe\n",
      "\t\t\ttaking the whole dataframe\n",
      "\t\t\ttaking the whole dataframe\n",
      "range(0, 7)\n"
     ]
    },
    {
     "name": "stderr",
     "output_type": "stream",
     "text": [
      "100%|██████████| 4/4 [00:00<00:00, 61.68it/s]\n"
     ]
    },
    {
     "name": "stdout",
     "output_type": "stream",
     "text": [
      "\t\t\ttaking the whole dataframe\n",
      "\t\t\ttaking the whole dataframe\n",
      "\t\t\ttaking the whole dataframe\n",
      "\t\t\ttaking the whole dataframe\n",
      "range(0, 8)\n"
     ]
    },
    {
     "name": "stderr",
     "output_type": "stream",
     "text": [
      "  0%|          | 0/4 [00:00<?, ?it/s]"
     ]
    },
    {
     "name": "stdout",
     "output_type": "stream",
     "text": [
      "\t\t\ttaking the whole dataframe\n",
      "\t\t\ttaking the whole dataframe\n"
     ]
    },
    {
     "name": "stderr",
     "output_type": "stream",
     "text": [
      "100%|██████████| 4/4 [00:00<00:00, 22.98it/s]\n"
     ]
    },
    {
     "name": "stdout",
     "output_type": "stream",
     "text": [
      "\t\t\ttaking the whole dataframe\n",
      "\t\t\ttaking the whole dataframe\n",
      "range(0, 9)\n"
     ]
    },
    {
     "name": "stderr",
     "output_type": "stream",
     "text": [
      "  0%|          | 0/4 [00:00<?, ?it/s]"
     ]
    },
    {
     "name": "stdout",
     "output_type": "stream",
     "text": [
      "\t\t\ttaking the whole dataframe\n"
     ]
    },
    {
     "name": "stderr",
     "output_type": "stream",
     "text": [
      " 50%|█████     | 2/4 [00:00<00:00,  7.98it/s]"
     ]
    },
    {
     "name": "stdout",
     "output_type": "stream",
     "text": [
      "\t\t\ttaking the whole dataframe\n"
     ]
    },
    {
     "name": "stderr",
     "output_type": "stream",
     "text": [
      "100%|██████████| 4/4 [00:00<00:00,  7.90it/s]\n"
     ]
    },
    {
     "name": "stdout",
     "output_type": "stream",
     "text": [
      "\t\t\ttaking the whole dataframe\n",
      "\t\t\ttaking the whole dataframe\n",
      "range(0, 10)\n"
     ]
    },
    {
     "name": "stderr",
     "output_type": "stream",
     "text": [
      "  0%|          | 0/22 [00:00<?, ?it/s]"
     ]
    },
    {
     "name": "stdout",
     "output_type": "stream",
     "text": [
      "\t\t\ttaking the whole dataframe\n",
      "\t\t\ttaking the whole dataframe\n",
      "\t\t\ttaking the whole dataframe\n",
      "\t\t\ttaking the whole dataframe\n"
     ]
    },
    {
     "name": "stderr",
     "output_type": "stream",
     "text": [
      "100%|██████████| 22/22 [00:00<00:00, 130.40it/s]\n"
     ]
    },
    {
     "name": "stdout",
     "output_type": "stream",
     "text": [
      "\t\t\ttaking the whole dataframe\n",
      "\t\t\ttaking the whole dataframe\n",
      "\t\t\ttaking the whole dataframe\n",
      "\t\t\ttaking the whole dataframe\n",
      "\t\t\ttaking the whole dataframe\n",
      "\t\t\ttaking the whole dataframe\n",
      "\t\t\ttaking the whole dataframe\n",
      "\t\t\ttaking the whole dataframe\n",
      "\t\t\ttaking the whole dataframe\n",
      "\t\t\ttaking the whole dataframe\n",
      "\t\t\ttaking the whole dataframe\n",
      "\t\t\ttaking the whole dataframe\n",
      "\t\t\ttaking the whole dataframe\n",
      "\t\t\ttaking the whole dataframe\n",
      "\t\t\ttaking the whole dataframe\n",
      "\t\t\ttaking the whole dataframe\n",
      "\t\t\ttaking the whole dataframe\n",
      "\t\t\ttaking the whole dataframe\n",
      "range(0, 8)\n"
     ]
    },
    {
     "name": "stderr",
     "output_type": "stream",
     "text": [
      "  0%|          | 0/24 [00:00<?, ?it/s]"
     ]
    },
    {
     "name": "stdout",
     "output_type": "stream",
     "text": [
      "\t\t\ttaking the whole dataframe\n",
      "\t\t\ttaking the whole dataframe\n",
      "\t\t\ttaking the whole dataframe\n"
     ]
    },
    {
     "name": "stderr",
     "output_type": "stream",
     "text": [
      " 42%|████▏     | 10/24 [00:00<00:00, 89.46it/s]"
     ]
    },
    {
     "name": "stdout",
     "output_type": "stream",
     "text": [
      "\t\t\ttaking the whole dataframe\n",
      "\t\t\ttaking the whole dataframe\n",
      "\t\t\ttaking the whole dataframe\n",
      "\t\t\ttaking the whole dataframe\n",
      "\t\t\ttaking the whole dataframe\n",
      "\t\t\ttaking the whole dataframe\n",
      "\t\t\ttaking the whole dataframe\n",
      "\t\t\ttaking the whole dataframe\n",
      "\t\t\ttaking the whole dataframe\n",
      "\t\t\ttaking the whole dataframe\n",
      "\t\t\ttaking the whole dataframe\n",
      "\t\t\ttaking the whole dataframe\n",
      "\t\t\ttaking the whole dataframe\n",
      "\t\t\ttaking the whole dataframe\n",
      "\t\t\ttaking the whole dataframe\n"
     ]
    },
    {
     "name": "stderr",
     "output_type": "stream",
     "text": [
      " 79%|███████▉  | 19/24 [00:00<00:00, 89.73it/s]"
     ]
    },
    {
     "name": "stdout",
     "output_type": "stream",
     "text": [
      "\t\t\ttaking the whole dataframe\n",
      "\t\t\ttaking the whole dataframe\n",
      "\t\t\ttaking the whole dataframe\n"
     ]
    },
    {
     "name": "stderr",
     "output_type": "stream",
     "text": [
      "100%|██████████| 24/24 [00:00<00:00, 92.22it/s]\n"
     ]
    },
    {
     "name": "stdout",
     "output_type": "stream",
     "text": [
      "\t\t\ttaking the whole dataframe\n",
      "\t\t\ttaking the whole dataframe\n",
      "\t\t\ttaking the whole dataframe\n",
      "range(0, 9)\n"
     ]
    },
    {
     "name": "stderr",
     "output_type": "stream",
     "text": [
      "  0%|          | 0/26 [00:00<?, ?it/s]"
     ]
    },
    {
     "name": "stdout",
     "output_type": "stream",
     "text": [
      "\t\t\ttaking the whole dataframe\n",
      "\t\t\ttaking the whole dataframe\n",
      "\t\t\ttaking the whole dataframe\n",
      "\t\t\ttaking the whole dataframe\n",
      "\t\t\ttaking the whole dataframe\n",
      "\t\t\ttaking the whole dataframe\n",
      "\t\t\ttaking the whole dataframe\n"
     ]
    },
    {
     "name": "stderr",
     "output_type": "stream",
     "text": [
      " 27%|██▋       | 7/26 [00:00<00:00, 61.70it/s]"
     ]
    },
    {
     "name": "stdout",
     "output_type": "stream",
     "text": [
      "\t\t\ttaking the whole dataframe\n",
      "\t\t\ttaking the whole dataframe\n",
      "\t\t\ttaking the whole dataframe\n",
      "\t\t\ttaking the whole dataframe\n"
     ]
    },
    {
     "name": "stderr",
     "output_type": "stream",
     "text": [
      " 54%|█████▍    | 14/26 [00:00<00:00, 53.61it/s]"
     ]
    },
    {
     "name": "stdout",
     "output_type": "stream",
     "text": [
      "\t\t\ttaking the whole dataframe\n",
      "\t\t\ttaking the whole dataframe\n",
      "\t\t\ttaking the whole dataframe\n",
      "\t\t\ttaking the whole dataframe\n",
      "\t\t\ttaking the whole dataframe\n",
      "\t\t\ttaking the whole dataframe\n",
      "\t\t\ttaking the whole dataframe\n",
      "\t\t\ttaking the whole dataframe\n",
      "\t\t\ttaking the whole dataframe\n"
     ]
    },
    {
     "name": "stderr",
     "output_type": "stream",
     "text": [
      "100%|██████████| 26/26 [00:00<00:00, 54.66it/s]\n"
     ]
    },
    {
     "name": "stdout",
     "output_type": "stream",
     "text": [
      "\t\t\ttaking the whole dataframe\n",
      "\t\t\ttaking the whole dataframe\n",
      "\t\t\ttaking the whole dataframe\n",
      "\t\t\ttaking the whole dataframe\n",
      "\t\t\ttaking the whole dataframe\n",
      "\t\t\ttaking the whole dataframe\n",
      "range(0, 10)\n"
     ]
    },
    {
     "name": "stderr",
     "output_type": "stream",
     "text": [
      "  0%|          | 0/28 [00:00<?, ?it/s]"
     ]
    },
    {
     "name": "stdout",
     "output_type": "stream",
     "text": [
      "\t\t\ttaking the whole dataframe\n",
      "\t\t\ttaking the whole dataframe\n",
      "\t\t\ttaking the whole dataframe\n"
     ]
    },
    {
     "name": "stderr",
     "output_type": "stream",
     "text": [
      " 14%|█▍        | 4/28 [00:00<00:00, 33.31it/s]"
     ]
    },
    {
     "name": "stdout",
     "output_type": "stream",
     "text": [
      "\t\t\ttaking the whole dataframe\n",
      "\t\t\ttaking the whole dataframe\n",
      "\t\t\ttaking the whole dataframe\n",
      "\t\t\ttaking the whole dataframe\n"
     ]
    },
    {
     "name": "stderr",
     "output_type": "stream",
     "text": [
      " 29%|██▊       | 8/28 [00:00<00:00, 22.96it/s]"
     ]
    },
    {
     "name": "stdout",
     "output_type": "stream",
     "text": [
      "\t\t\ttaking the whole dataframe\n",
      "\t\t\ttaking the whole dataframe\n",
      "\t\t\ttaking the whole dataframe\n",
      "\t\t\ttaking the whole dataframe\n"
     ]
    },
    {
     "name": "stderr",
     "output_type": "stream",
     "text": [
      " 50%|█████     | 14/28 [00:00<00:00, 20.99it/s]"
     ]
    },
    {
     "name": "stdout",
     "output_type": "stream",
     "text": [
      "\t\t\ttaking the whole dataframe\n",
      "\t\t\ttaking the whole dataframe\n",
      "\t\t\ttaking the whole dataframe\n",
      "\t\t\ttaking the whole dataframe\n"
     ]
    },
    {
     "name": "stderr",
     "output_type": "stream",
     "text": [
      " 61%|██████    | 17/28 [00:00<00:00, 20.58it/s]"
     ]
    },
    {
     "name": "stdout",
     "output_type": "stream",
     "text": [
      "\t\t\ttaking the whole dataframe\n",
      "\t\t\ttaking the whole dataframe\n",
      "\t\t\ttaking the whole dataframe\n",
      "\t\t\ttaking the whole dataframe\n"
     ]
    },
    {
     "name": "stderr",
     "output_type": "stream",
     "text": [
      " 82%|████████▏ | 23/28 [00:01<00:00, 20.24it/s]"
     ]
    },
    {
     "name": "stdout",
     "output_type": "stream",
     "text": [
      "\t\t\ttaking the whole dataframe\n",
      "\t\t\ttaking the whole dataframe\n",
      "\t\t\ttaking the whole dataframe\n",
      "\t\t\ttaking the whole dataframe\n",
      "\t\t\ttaking the whole dataframe\n"
     ]
    },
    {
     "name": "stderr",
     "output_type": "stream",
     "text": [
      "100%|██████████| 28/28 [00:01<00:00, 22.28it/s]\n"
     ]
    },
    {
     "name": "stdout",
     "output_type": "stream",
     "text": [
      "\t\t\ttaking the whole dataframe\n",
      "\t\t\ttaking the whole dataframe\n",
      "\t\t\ttaking the whole dataframe\n",
      "\t\t\ttaking the whole dataframe\n",
      "range(0, 11)\n"
     ]
    },
    {
     "name": "stderr",
     "output_type": "stream",
     "text": [
      "  0%|          | 0/30 [00:00<?, ?it/s]"
     ]
    },
    {
     "name": "stdout",
     "output_type": "stream",
     "text": [
      "\t\t\ttaking the whole dataframe\n"
     ]
    },
    {
     "name": "stderr",
     "output_type": "stream",
     "text": [
      "  7%|▋         | 2/30 [00:00<00:02, 11.99it/s]"
     ]
    },
    {
     "name": "stdout",
     "output_type": "stream",
     "text": [
      "\t\t\ttaking the whole dataframe\n",
      "\t\t\ttaking the whole dataframe\n"
     ]
    },
    {
     "name": "stderr",
     "output_type": "stream",
     "text": [
      " 13%|█▎        | 4/30 [00:00<00:02, 11.42it/s]"
     ]
    },
    {
     "name": "stdout",
     "output_type": "stream",
     "text": [
      "\t\t\ttaking the whole dataframe\n",
      "\t\t\ttaking the whole dataframe\n"
     ]
    },
    {
     "name": "stderr",
     "output_type": "stream",
     "text": [
      " 20%|██        | 6/30 [00:00<00:02,  8.10it/s]"
     ]
    },
    {
     "name": "stdout",
     "output_type": "stream",
     "text": [
      "\t\t\ttaking the whole dataframe\n"
     ]
    },
    {
     "name": "stderr",
     "output_type": "stream",
     "text": [
      " 23%|██▎       | 7/30 [00:00<00:03,  7.44it/s]"
     ]
    },
    {
     "name": "stdout",
     "output_type": "stream",
     "text": [
      "\t\t\ttaking the whole dataframe\n"
     ]
    },
    {
     "name": "stderr",
     "output_type": "stream",
     "text": [
      " 27%|██▋       | 8/30 [00:01<00:03,  7.07it/s]"
     ]
    },
    {
     "name": "stdout",
     "output_type": "stream",
     "text": [
      "\t\t\ttaking the whole dataframe\n",
      "\t\t\ttaking the whole dataframe\n"
     ]
    },
    {
     "name": "stderr",
     "output_type": "stream",
     "text": [
      " 30%|███       | 9/30 [00:01<00:03,  6.63it/s]"
     ]
    },
    {
     "name": "stdout",
     "output_type": "stream",
     "text": [
      "\t\t\ttaking the whole dataframe\n"
     ]
    },
    {
     "name": "stderr",
     "output_type": "stream",
     "text": [
      " 40%|████      | 12/30 [00:01<00:03,  5.78it/s]"
     ]
    },
    {
     "name": "stdout",
     "output_type": "stream",
     "text": [
      "\t\t\ttaking the whole dataframe\n",
      "\t\t\ttaking the whole dataframe\n"
     ]
    },
    {
     "name": "stderr",
     "output_type": "stream",
     "text": [
      " 47%|████▋     | 14/30 [00:02<00:02,  5.59it/s]"
     ]
    },
    {
     "name": "stdout",
     "output_type": "stream",
     "text": [
      "\t\t\ttaking the whole dataframe\n",
      "\t\t\ttaking the whole dataframe\n"
     ]
    },
    {
     "name": "stderr",
     "output_type": "stream",
     "text": [
      " 50%|█████     | 15/30 [00:02<00:02,  5.41it/s]"
     ]
    },
    {
     "name": "stdout",
     "output_type": "stream",
     "text": [
      "\t\t\ttaking the whole dataframe\n",
      "\t\t\ttaking the whole dataframe\n"
     ]
    },
    {
     "name": "stderr",
     "output_type": "stream",
     "text": [
      " 60%|██████    | 18/30 [00:02<00:02,  5.44it/s]"
     ]
    },
    {
     "name": "stdout",
     "output_type": "stream",
     "text": [
      "\t\t\ttaking the whole dataframe\n",
      "\t\t\ttaking the whole dataframe\n"
     ]
    },
    {
     "name": "stderr",
     "output_type": "stream",
     "text": [
      " 67%|██████▋   | 20/30 [00:03<00:01,  5.75it/s]"
     ]
    },
    {
     "name": "stdout",
     "output_type": "stream",
     "text": [
      "\t\t\ttaking the whole dataframe\n",
      "\t\t\ttaking the whole dataframe\n"
     ]
    },
    {
     "name": "stderr",
     "output_type": "stream",
     "text": [
      " 73%|███████▎  | 22/30 [00:03<00:01,  5.82it/s]"
     ]
    },
    {
     "name": "stdout",
     "output_type": "stream",
     "text": [
      "\t\t\ttaking the whole dataframe\n",
      "\t\t\ttaking the whole dataframe\n"
     ]
    },
    {
     "name": "stderr",
     "output_type": "stream",
     "text": [
      " 80%|████████  | 24/30 [00:03<00:01,  5.97it/s]"
     ]
    },
    {
     "name": "stdout",
     "output_type": "stream",
     "text": [
      "\t\t\ttaking the whole dataframe\n",
      "\t\t\ttaking the whole dataframe\n"
     ]
    },
    {
     "name": "stderr",
     "output_type": "stream",
     "text": [
      " 87%|████████▋ | 26/30 [00:04<00:00,  6.10it/s]"
     ]
    },
    {
     "name": "stdout",
     "output_type": "stream",
     "text": [
      "\t\t\ttaking the whole dataframe\n",
      "\t\t\ttaking the whole dataframe\n"
     ]
    },
    {
     "name": "stderr",
     "output_type": "stream",
     "text": [
      " 93%|█████████▎| 28/30 [00:04<00:00,  7.81it/s]"
     ]
    },
    {
     "name": "stdout",
     "output_type": "stream",
     "text": [
      "\t\t\ttaking the whole dataframe\n",
      "\t\t\ttaking the whole dataframe\n",
      "\t\t\ttaking the whole dataframe\n"
     ]
    },
    {
     "name": "stderr",
     "output_type": "stream",
     "text": [
      "100%|██████████| 30/30 [00:04<00:00,  6.60it/s]\n"
     ]
    },
    {
     "name": "stdout",
     "output_type": "stream",
     "text": [
      "\t\t\ttaking the whole dataframe\n",
      "range(0, 12)\n"
     ]
    },
    {
     "name": "stderr",
     "output_type": "stream",
     "text": [
      " 20%|██        | 1/5 [00:00<00:01,  3.17it/s]"
     ]
    },
    {
     "name": "stdout",
     "output_type": "stream",
     "text": [
      "\t\t\ttaking the whole dataframe\n"
     ]
    },
    {
     "name": "stderr",
     "output_type": "stream",
     "text": [
      " 40%|████      | 2/5 [00:00<00:01,  2.90it/s]"
     ]
    },
    {
     "name": "stdout",
     "output_type": "stream",
     "text": [
      "\t\t\ttaking the whole dataframe\n"
     ]
    },
    {
     "name": "stderr",
     "output_type": "stream",
     "text": [
      " 60%|██████    | 3/5 [00:01<00:00,  2.65it/s]"
     ]
    },
    {
     "name": "stdout",
     "output_type": "stream",
     "text": [
      "\t\t\ttaking the whole dataframe\n"
     ]
    },
    {
     "name": "stderr",
     "output_type": "stream",
     "text": [
      " 80%|████████  | 4/5 [00:01<00:00,  2.75it/s]"
     ]
    },
    {
     "name": "stdout",
     "output_type": "stream",
     "text": [
      "\t\t\ttaking the whole dataframe\n"
     ]
    },
    {
     "name": "stderr",
     "output_type": "stream",
     "text": [
      "100%|██████████| 5/5 [00:01<00:00,  2.89it/s]\n"
     ]
    },
    {
     "name": "stdout",
     "output_type": "stream",
     "text": [
      "\t\t\ttaking the whole dataframe\n",
      "range(0, 13)\n"
     ]
    },
    {
     "name": "stderr",
     "output_type": "stream",
     "text": [
      "100%|██████████| 4/4 [00:00<00:00, 128.37it/s]\n"
     ]
    },
    {
     "name": "stdout",
     "output_type": "stream",
     "text": [
      "range(0, 6)\n"
     ]
    },
    {
     "name": "stderr",
     "output_type": "stream",
     "text": [
      "100%|██████████| 4/4 [00:00<00:00, 101.85it/s]\n"
     ]
    },
    {
     "name": "stdout",
     "output_type": "stream",
     "text": [
      "range(0, 7)\n"
     ]
    },
    {
     "name": "stderr",
     "output_type": "stream",
     "text": [
      "100%|██████████| 4/4 [00:00<00:00, 60.12it/s]\n"
     ]
    },
    {
     "name": "stdout",
     "output_type": "stream",
     "text": [
      "range(0, 8)\n"
     ]
    },
    {
     "name": "stderr",
     "output_type": "stream",
     "text": [
      "100%|██████████| 4/4 [00:00<00:00, 25.07it/s]\n"
     ]
    },
    {
     "name": "stdout",
     "output_type": "stream",
     "text": [
      "range(0, 9)\n"
     ]
    },
    {
     "name": "stderr",
     "output_type": "stream",
     "text": [
      "100%|██████████| 4/4 [00:00<00:00,  7.68it/s]\n"
     ]
    },
    {
     "name": "stdout",
     "output_type": "stream",
     "text": [
      "range(0, 10)\n"
     ]
    },
    {
     "name": "stderr",
     "output_type": "stream",
     "text": [
      "100%|██████████| 22/22 [00:00<00:00, 117.86it/s]\n"
     ]
    },
    {
     "name": "stdout",
     "output_type": "stream",
     "text": [
      "range(0, 8)\n"
     ]
    },
    {
     "name": "stderr",
     "output_type": "stream",
     "text": [
      "100%|██████████| 24/24 [00:00<00:00, 94.37it/s]\n"
     ]
    },
    {
     "name": "stdout",
     "output_type": "stream",
     "text": [
      "range(0, 9)\n"
     ]
    },
    {
     "name": "stderr",
     "output_type": "stream",
     "text": [
      "100%|██████████| 26/26 [00:00<00:00, 53.18it/s]\n"
     ]
    },
    {
     "name": "stdout",
     "output_type": "stream",
     "text": [
      "range(0, 10)\n"
     ]
    },
    {
     "name": "stderr",
     "output_type": "stream",
     "text": [
      "100%|██████████| 28/28 [00:01<00:00, 18.91it/s]\n"
     ]
    },
    {
     "name": "stdout",
     "output_type": "stream",
     "text": [
      "range(0, 11)\n"
     ]
    },
    {
     "name": "stderr",
     "output_type": "stream",
     "text": [
      "100%|██████████| 30/30 [00:04<00:00,  6.89it/s]\n"
     ]
    },
    {
     "name": "stdout",
     "output_type": "stream",
     "text": [
      "range(0, 12)\n"
     ]
    },
    {
     "name": "stderr",
     "output_type": "stream",
     "text": [
      "100%|██████████| 7/7 [00:02<00:00,  3.35it/s]\n"
     ]
    },
    {
     "name": "stdout",
     "output_type": "stream",
     "text": [
      "range(0, 13)\n"
     ]
    },
    {
     "name": "stderr",
     "output_type": "stream",
     "text": [
      "100%|██████████| 4/4 [00:00<00:00, 140.09it/s]\n"
     ]
    },
    {
     "name": "stdout",
     "output_type": "stream",
     "text": [
      "range(0, 6)\n"
     ]
    },
    {
     "name": "stderr",
     "output_type": "stream",
     "text": [
      "100%|██████████| 4/4 [00:00<00:00, 99.50it/s]\n"
     ]
    },
    {
     "name": "stdout",
     "output_type": "stream",
     "text": [
      "range(0, 7)\n"
     ]
    },
    {
     "name": "stderr",
     "output_type": "stream",
     "text": [
      "100%|██████████| 4/4 [00:00<00:00, 58.58it/s]\n"
     ]
    },
    {
     "name": "stdout",
     "output_type": "stream",
     "text": [
      "range(0, 8)\n"
     ]
    },
    {
     "name": "stderr",
     "output_type": "stream",
     "text": [
      "100%|██████████| 4/4 [00:00<00:00, 23.69it/s]\n"
     ]
    },
    {
     "name": "stdout",
     "output_type": "stream",
     "text": [
      "range(0, 9)\n"
     ]
    },
    {
     "name": "stderr",
     "output_type": "stream",
     "text": [
      "100%|██████████| 4/4 [00:00<00:00,  7.48it/s]\n"
     ]
    },
    {
     "name": "stdout",
     "output_type": "stream",
     "text": [
      "range(0, 10)\n"
     ]
    },
    {
     "name": "stderr",
     "output_type": "stream",
     "text": [
      "100%|██████████| 22/22 [00:00<00:00, 121.41it/s]\n"
     ]
    },
    {
     "name": "stdout",
     "output_type": "stream",
     "text": [
      "range(0, 8)\n"
     ]
    },
    {
     "name": "stderr",
     "output_type": "stream",
     "text": [
      "100%|██████████| 24/24 [00:00<00:00, 96.65it/s]\n"
     ]
    },
    {
     "name": "stdout",
     "output_type": "stream",
     "text": [
      "range(0, 9)\n"
     ]
    },
    {
     "name": "stderr",
     "output_type": "stream",
     "text": [
      "100%|██████████| 26/26 [00:00<00:00, 53.02it/s]\n"
     ]
    },
    {
     "name": "stdout",
     "output_type": "stream",
     "text": [
      "range(0, 10)\n"
     ]
    },
    {
     "name": "stderr",
     "output_type": "stream",
     "text": [
      "100%|██████████| 28/28 [00:01<00:00, 22.07it/s]\n"
     ]
    },
    {
     "name": "stdout",
     "output_type": "stream",
     "text": [
      "range(0, 11)\n"
     ]
    },
    {
     "name": "stderr",
     "output_type": "stream",
     "text": [
      "100%|██████████| 30/30 [00:04<00:00,  7.00it/s]\n"
     ]
    },
    {
     "name": "stdout",
     "output_type": "stream",
     "text": [
      "range(0, 12)\n"
     ]
    },
    {
     "name": "stderr",
     "output_type": "stream",
     "text": [
      "100%|██████████| 7/7 [00:02<00:00,  3.32it/s]\n"
     ]
    },
    {
     "name": "stdout",
     "output_type": "stream",
     "text": [
      "range(0, 13)\n"
     ]
    },
    {
     "name": "stderr",
     "output_type": "stream",
     "text": [
      "100%|██████████| 4/4 [00:00<00:00, 144.73it/s]\n"
     ]
    },
    {
     "name": "stdout",
     "output_type": "stream",
     "text": [
      "\t\t\ttaking the whole dataframe\n",
      "\t\t\ttaking the whole dataframe\n",
      "\t\t\ttaking the whole dataframe\n",
      "\t\t\ttaking the whole dataframe\n",
      "range(0, 6)\n"
     ]
    },
    {
     "name": "stderr",
     "output_type": "stream",
     "text": [
      "100%|██████████| 4/4 [00:00<00:00, 103.99it/s]\n"
     ]
    },
    {
     "name": "stdout",
     "output_type": "stream",
     "text": [
      "\t\t\ttaking the whole dataframe\n",
      "\t\t\ttaking the whole dataframe\n",
      "\t\t\ttaking the whole dataframe\n",
      "\t\t\ttaking the whole dataframe\n",
      "range(0, 7)\n"
     ]
    },
    {
     "name": "stderr",
     "output_type": "stream",
     "text": [
      "100%|██████████| 4/4 [00:00<00:00, 60.68it/s]\n"
     ]
    },
    {
     "name": "stdout",
     "output_type": "stream",
     "text": [
      "\t\t\ttaking the whole dataframe\n",
      "\t\t\ttaking the whole dataframe\n",
      "\t\t\ttaking the whole dataframe\n",
      "\t\t\ttaking the whole dataframe\n",
      "range(0, 8)\n"
     ]
    },
    {
     "name": "stderr",
     "output_type": "stream",
     "text": [
      "  0%|          | 0/4 [00:00<?, ?it/s]"
     ]
    },
    {
     "name": "stdout",
     "output_type": "stream",
     "text": [
      "\t\t\ttaking the whole dataframe\n",
      "\t\t\ttaking the whole dataframe\n"
     ]
    },
    {
     "name": "stderr",
     "output_type": "stream",
     "text": [
      "100%|██████████| 4/4 [00:00<00:00, 25.21it/s]\n"
     ]
    },
    {
     "name": "stdout",
     "output_type": "stream",
     "text": [
      "\t\t\ttaking the whole dataframe\n",
      "\t\t\ttaking the whole dataframe\n",
      "range(0, 9)\n"
     ]
    },
    {
     "name": "stderr",
     "output_type": "stream",
     "text": [
      "  0%|          | 0/4 [00:00<?, ?it/s]"
     ]
    },
    {
     "name": "stdout",
     "output_type": "stream",
     "text": [
      "\t\t\ttaking the whole dataframe\n"
     ]
    },
    {
     "name": "stderr",
     "output_type": "stream",
     "text": [
      " 50%|█████     | 2/4 [00:00<00:00,  7.56it/s]"
     ]
    },
    {
     "name": "stdout",
     "output_type": "stream",
     "text": [
      "\t\t\ttaking the whole dataframe\n"
     ]
    },
    {
     "name": "stderr",
     "output_type": "stream",
     "text": [
      " 75%|███████▌  | 3/4 [00:00<00:00,  7.65it/s]"
     ]
    },
    {
     "name": "stdout",
     "output_type": "stream",
     "text": [
      "\t\t\ttaking the whole dataframe\n"
     ]
    },
    {
     "name": "stderr",
     "output_type": "stream",
     "text": [
      "100%|██████████| 4/4 [00:00<00:00,  7.64it/s]\n"
     ]
    },
    {
     "name": "stdout",
     "output_type": "stream",
     "text": [
      "\t\t\ttaking the whole dataframe\n",
      "range(0, 10)\n"
     ]
    },
    {
     "name": "stderr",
     "output_type": "stream",
     "text": [
      "  0%|          | 0/22 [00:00<?, ?it/s]"
     ]
    },
    {
     "name": "stdout",
     "output_type": "stream",
     "text": [
      "\t\t\ttaking the whole dataframe\n",
      "\t\t\ttaking the whole dataframe\n",
      "\t\t\ttaking the whole dataframe\n",
      "\t\t\ttaking the whole dataframe\n",
      "\t\t\ttaking the whole dataframe\n"
     ]
    },
    {
     "name": "stderr",
     "output_type": "stream",
     "text": [
      " 59%|█████▉    | 13/22 [00:00<00:00, 124.67it/s]"
     ]
    },
    {
     "name": "stdout",
     "output_type": "stream",
     "text": [
      "\t\t\ttaking the whole dataframe\n",
      "\t\t\ttaking the whole dataframe\n",
      "\t\t\ttaking the whole dataframe\n",
      "\t\t\ttaking the whole dataframe\n",
      "\t\t\ttaking the whole dataframe\n",
      "\t\t\ttaking the whole dataframe\n",
      "\t\t\ttaking the whole dataframe\n",
      "\t\t\ttaking the whole dataframe\n",
      "\t\t\ttaking the whole dataframe\n",
      "\t\t\ttaking the whole dataframe\n",
      "\t\t\ttaking the whole dataframe\n",
      "\t\t\ttaking the whole dataframe\n",
      "\t\t\ttaking the whole dataframe\n",
      "\t\t\ttaking the whole dataframe\n",
      "\t\t\ttaking the whole dataframe\n",
      "\t\t\ttaking the whole dataframe\n"
     ]
    },
    {
     "name": "stderr",
     "output_type": "stream",
     "text": [
      "100%|██████████| 22/22 [00:00<00:00, 126.64it/s]\n"
     ]
    },
    {
     "name": "stdout",
     "output_type": "stream",
     "text": [
      "\t\t\ttaking the whole dataframe\n",
      "range(0, 8)\n"
     ]
    },
    {
     "name": "stderr",
     "output_type": "stream",
     "text": [
      "  0%|          | 0/24 [00:00<?, ?it/s]"
     ]
    },
    {
     "name": "stdout",
     "output_type": "stream",
     "text": [
      "\t\t\ttaking the whole dataframe\n",
      "\t\t\ttaking the whole dataframe\n",
      "\t\t\ttaking the whole dataframe\n"
     ]
    },
    {
     "name": "stderr",
     "output_type": "stream",
     "text": [
      " 42%|████▏     | 10/24 [00:00<00:00, 98.73it/s]"
     ]
    },
    {
     "name": "stdout",
     "output_type": "stream",
     "text": [
      "\t\t\ttaking the whole dataframe\n",
      "\t\t\ttaking the whole dataframe\n",
      "\t\t\ttaking the whole dataframe\n",
      "\t\t\ttaking the whole dataframe\n",
      "\t\t\ttaking the whole dataframe\n",
      "\t\t\ttaking the whole dataframe\n",
      "\t\t\ttaking the whole dataframe\n",
      "\t\t\ttaking the whole dataframe\n",
      "\t\t\ttaking the whole dataframe\n",
      "\t\t\ttaking the whole dataframe\n",
      "\t\t\ttaking the whole dataframe\n",
      "\t\t\ttaking the whole dataframe\n",
      "\t\t\ttaking the whole dataframe\n",
      "\t\t\ttaking the whole dataframe\n",
      "\t\t\ttaking the whole dataframe\n"
     ]
    },
    {
     "name": "stderr",
     "output_type": "stream",
     "text": [
      " 83%|████████▎ | 20/24 [00:00<00:00, 94.63it/s]"
     ]
    },
    {
     "name": "stdout",
     "output_type": "stream",
     "text": [
      "\t\t\ttaking the whole dataframe\n",
      "\t\t\ttaking the whole dataframe\n",
      "\t\t\ttaking the whole dataframe\n"
     ]
    },
    {
     "name": "stderr",
     "output_type": "stream",
     "text": [
      "100%|██████████| 24/24 [00:00<00:00, 96.51it/s]\n"
     ]
    },
    {
     "name": "stdout",
     "output_type": "stream",
     "text": [
      "\t\t\ttaking the whole dataframe\n",
      "\t\t\ttaking the whole dataframe\n",
      "\t\t\ttaking the whole dataframe\n",
      "range(0, 9)\n"
     ]
    },
    {
     "name": "stderr",
     "output_type": "stream",
     "text": [
      "  0%|          | 0/26 [00:00<?, ?it/s]"
     ]
    },
    {
     "name": "stdout",
     "output_type": "stream",
     "text": [
      "\t\t\ttaking the whole dataframe\n",
      "\t\t\ttaking the whole dataframe\n",
      "\t\t\ttaking the whole dataframe\n",
      "\t\t\ttaking the whole dataframe\n",
      "\t\t\ttaking the whole dataframe\n",
      "\t\t\ttaking the whole dataframe\n"
     ]
    },
    {
     "name": "stderr",
     "output_type": "stream",
     "text": [
      " 23%|██▎       | 6/26 [00:00<00:00, 56.37it/s]"
     ]
    },
    {
     "name": "stdout",
     "output_type": "stream",
     "text": [
      "\t\t\ttaking the whole dataframe\n",
      "\t\t\ttaking the whole dataframe\n",
      "\t\t\ttaking the whole dataframe\n",
      "\t\t\ttaking the whole dataframe\n",
      "\t\t\ttaking the whole dataframe\n"
     ]
    },
    {
     "name": "stderr",
     "output_type": "stream",
     "text": [
      " 46%|████▌     | 12/26 [00:00<00:00, 50.49it/s]"
     ]
    },
    {
     "name": "stdout",
     "output_type": "stream",
     "text": [
      "\t\t\ttaking the whole dataframe\n",
      "\t\t\ttaking the whole dataframe\n",
      "\t\t\ttaking the whole dataframe\n",
      "\t\t\ttaking the whole dataframe\n",
      "\t\t\ttaking the whole dataframe\n",
      "\t\t\ttaking the whole dataframe\n",
      "\t\t\ttaking the whole dataframe\n"
     ]
    },
    {
     "name": "stderr",
     "output_type": "stream",
     "text": [
      " 69%|██████▉   | 18/26 [00:00<00:00, 49.02it/s]"
     ]
    },
    {
     "name": "stdout",
     "output_type": "stream",
     "text": [
      "\t\t\ttaking the whole dataframe\n",
      "\t\t\ttaking the whole dataframe\n",
      "\t\t\ttaking the whole dataframe\n"
     ]
    },
    {
     "name": "stderr",
     "output_type": "stream",
     "text": [
      " 92%|█████████▏| 24/26 [00:00<00:00, 51.15it/s]"
     ]
    },
    {
     "name": "stdout",
     "output_type": "stream",
     "text": [
      "\t\t\ttaking the whole dataframe\n",
      "\t\t\ttaking the whole dataframe\n",
      "\t\t\ttaking the whole dataframe\n",
      "\t\t\ttaking the whole dataframe\n",
      "\t\t\ttaking the whole dataframe\n"
     ]
    },
    {
     "name": "stderr",
     "output_type": "stream",
     "text": [
      "100%|██████████| 26/26 [00:00<00:00, 52.20it/s]\n"
     ]
    },
    {
     "name": "stdout",
     "output_type": "stream",
     "text": [
      "range(0, 10)\n"
     ]
    },
    {
     "name": "stderr",
     "output_type": "stream",
     "text": [
      "  0%|          | 0/28 [00:00<?, ?it/s]"
     ]
    },
    {
     "name": "stdout",
     "output_type": "stream",
     "text": [
      "\t\t\ttaking the whole dataframe\n",
      "\t\t\ttaking the whole dataframe\n",
      "\t\t\ttaking the whole dataframe\n"
     ]
    },
    {
     "name": "stderr",
     "output_type": "stream",
     "text": [
      " 14%|█▍        | 4/28 [00:00<00:00, 30.74it/s]"
     ]
    },
    {
     "name": "stdout",
     "output_type": "stream",
     "text": [
      "\t\t\ttaking the whole dataframe\n",
      "\t\t\ttaking the whole dataframe\n",
      "\t\t\ttaking the whole dataframe\n",
      "\t\t\ttaking the whole dataframe\n",
      "\t\t\ttaking the whole dataframe\n"
     ]
    },
    {
     "name": "stderr",
     "output_type": "stream",
     "text": [
      " 29%|██▊       | 8/28 [00:00<00:00, 22.77it/s]"
     ]
    },
    {
     "name": "stdout",
     "output_type": "stream",
     "text": [
      "\t\t\ttaking the whole dataframe\n",
      "\t\t\ttaking the whole dataframe\n",
      "\t\t\ttaking the whole dataframe\n"
     ]
    },
    {
     "name": "stderr",
     "output_type": "stream",
     "text": [
      " 39%|███▉      | 11/28 [00:00<00:00, 21.39it/s]"
     ]
    },
    {
     "name": "stdout",
     "output_type": "stream",
     "text": [
      "\t\t\ttaking the whole dataframe\n",
      "\t\t\ttaking the whole dataframe\n",
      "\t\t\ttaking the whole dataframe\n"
     ]
    },
    {
     "name": "stderr",
     "output_type": "stream",
     "text": [
      " 50%|█████     | 14/28 [00:00<00:00, 20.47it/s]"
     ]
    },
    {
     "name": "stdout",
     "output_type": "stream",
     "text": [
      "\t\t\ttaking the whole dataframe\n",
      "\t\t\ttaking the whole dataframe\n",
      "\t\t\ttaking the whole dataframe\n"
     ]
    },
    {
     "name": "stderr",
     "output_type": "stream",
     "text": [
      " 61%|██████    | 17/28 [00:00<00:00, 19.80it/s]"
     ]
    },
    {
     "name": "stdout",
     "output_type": "stream",
     "text": [
      "\t\t\ttaking the whole dataframe\n",
      "\t\t\ttaking the whole dataframe\n"
     ]
    },
    {
     "name": "stderr",
     "output_type": "stream",
     "text": [
      " 75%|███████▌  | 21/28 [00:01<00:00, 19.36it/s]"
     ]
    },
    {
     "name": "stdout",
     "output_type": "stream",
     "text": [
      "\t\t\ttaking the whole dataframe\n",
      "\t\t\ttaking the whole dataframe\n",
      "\t\t\ttaking the whole dataframe\n"
     ]
    },
    {
     "name": "stderr",
     "output_type": "stream",
     "text": [
      " 82%|████████▏ | 23/28 [00:01<00:00, 19.30it/s]"
     ]
    },
    {
     "name": "stdout",
     "output_type": "stream",
     "text": [
      "\t\t\ttaking the whole dataframe\n",
      "\t\t\ttaking the whole dataframe\n"
     ]
    },
    {
     "name": "stderr",
     "output_type": "stream",
     "text": [
      "100%|██████████| 28/28 [00:01<00:00, 21.38it/s]\n"
     ]
    },
    {
     "name": "stdout",
     "output_type": "stream",
     "text": [
      "\t\t\ttaking the whole dataframe\n",
      "\t\t\ttaking the whole dataframe\n",
      "\t\t\ttaking the whole dataframe\n",
      "\t\t\ttaking the whole dataframe\n",
      "range(0, 11)\n"
     ]
    },
    {
     "name": "stderr",
     "output_type": "stream",
     "text": [
      "  7%|▋         | 2/30 [00:00<00:02, 11.92it/s]"
     ]
    },
    {
     "name": "stdout",
     "output_type": "stream",
     "text": [
      "\t\t\ttaking the whole dataframe\n",
      "\t\t\ttaking the whole dataframe\n",
      "\t\t\ttaking the whole dataframe\n"
     ]
    },
    {
     "name": "stderr",
     "output_type": "stream",
     "text": [
      " 13%|█▎        | 4/30 [00:00<00:02, 11.88it/s]"
     ]
    },
    {
     "name": "stdout",
     "output_type": "stream",
     "text": [
      "\t\t\ttaking the whole dataframe\n",
      "\t\t\ttaking the whole dataframe\n"
     ]
    },
    {
     "name": "stderr",
     "output_type": "stream",
     "text": [
      " 23%|██▎       | 7/30 [00:00<00:03,  7.46it/s]"
     ]
    },
    {
     "name": "stdout",
     "output_type": "stream",
     "text": [
      "\t\t\ttaking the whole dataframe\n",
      "\t\t\ttaking the whole dataframe\n"
     ]
    },
    {
     "name": "stderr",
     "output_type": "stream",
     "text": [
      " 30%|███       | 9/30 [00:01<00:03,  6.82it/s]"
     ]
    },
    {
     "name": "stdout",
     "output_type": "stream",
     "text": [
      "\t\t\ttaking the whole dataframe\n",
      "\t\t\ttaking the whole dataframe\n"
     ]
    },
    {
     "name": "stderr",
     "output_type": "stream",
     "text": [
      " 33%|███▎      | 10/30 [00:01<00:03,  6.58it/s]"
     ]
    },
    {
     "name": "stdout",
     "output_type": "stream",
     "text": [
      "\t\t\ttaking the whole dataframe\n",
      "\t\t\ttaking the whole dataframe\n"
     ]
    },
    {
     "name": "stderr",
     "output_type": "stream",
     "text": [
      " 43%|████▎     | 13/30 [00:01<00:02,  6.27it/s]"
     ]
    },
    {
     "name": "stdout",
     "output_type": "stream",
     "text": [
      "\t\t\ttaking the whole dataframe\n",
      "\t\t\ttaking the whole dataframe\n"
     ]
    },
    {
     "name": "stderr",
     "output_type": "stream",
     "text": [
      " 50%|█████     | 15/30 [00:02<00:02,  6.26it/s]"
     ]
    },
    {
     "name": "stdout",
     "output_type": "stream",
     "text": [
      "\t\t\ttaking the whole dataframe\n",
      "\t\t\ttaking the whole dataframe\n"
     ]
    },
    {
     "name": "stderr",
     "output_type": "stream",
     "text": [
      " 57%|█████▋    | 17/30 [00:02<00:02,  6.24it/s]"
     ]
    },
    {
     "name": "stdout",
     "output_type": "stream",
     "text": [
      "\t\t\ttaking the whole dataframe\n",
      "\t\t\ttaking the whole dataframe\n"
     ]
    },
    {
     "name": "stderr",
     "output_type": "stream",
     "text": [
      " 63%|██████▎   | 19/30 [00:02<00:01,  6.22it/s]"
     ]
    },
    {
     "name": "stdout",
     "output_type": "stream",
     "text": [
      "\t\t\ttaking the whole dataframe\n",
      "\t\t\ttaking the whole dataframe\n"
     ]
    },
    {
     "name": "stderr",
     "output_type": "stream",
     "text": [
      " 70%|███████   | 21/30 [00:03<00:01,  6.26it/s]"
     ]
    },
    {
     "name": "stdout",
     "output_type": "stream",
     "text": [
      "\t\t\ttaking the whole dataframe\n",
      "\t\t\ttaking the whole dataframe\n"
     ]
    },
    {
     "name": "stderr",
     "output_type": "stream",
     "text": [
      " 77%|███████▋  | 23/30 [00:03<00:01,  6.26it/s]"
     ]
    },
    {
     "name": "stdout",
     "output_type": "stream",
     "text": [
      "\t\t\ttaking the whole dataframe\n",
      "\t\t\ttaking the whole dataframe\n"
     ]
    },
    {
     "name": "stderr",
     "output_type": "stream",
     "text": [
      " 83%|████████▎ | 25/30 [00:03<00:00,  6.32it/s]"
     ]
    },
    {
     "name": "stdout",
     "output_type": "stream",
     "text": [
      "\t\t\ttaking the whole dataframe\n",
      "\t\t\ttaking the whole dataframe\n"
     ]
    },
    {
     "name": "stderr",
     "output_type": "stream",
     "text": [
      " 93%|█████████▎| 28/30 [00:04<00:00,  8.06it/s]"
     ]
    },
    {
     "name": "stdout",
     "output_type": "stream",
     "text": [
      "\t\t\ttaking the whole dataframe\n",
      "\t\t\ttaking the whole dataframe\n",
      "\t\t\ttaking the whole dataframe\n"
     ]
    },
    {
     "name": "stderr",
     "output_type": "stream",
     "text": [
      "100%|██████████| 30/30 [00:04<00:00,  7.06it/s]\n"
     ]
    },
    {
     "name": "stdout",
     "output_type": "stream",
     "text": [
      "\t\t\ttaking the whole dataframe\n",
      "\t\t\ttaking the whole dataframe\n",
      "range(0, 12)\n"
     ]
    },
    {
     "name": "stderr",
     "output_type": "stream",
     "text": [
      " 14%|█▍        | 1/7 [00:00<00:01,  3.47it/s]"
     ]
    },
    {
     "name": "stdout",
     "output_type": "stream",
     "text": [
      "\t\t\ttaking the whole dataframe\n"
     ]
    },
    {
     "name": "stderr",
     "output_type": "stream",
     "text": [
      " 29%|██▊       | 2/7 [00:00<00:01,  3.47it/s]"
     ]
    },
    {
     "name": "stdout",
     "output_type": "stream",
     "text": [
      "\t\t\ttaking the whole dataframe\n"
     ]
    },
    {
     "name": "stderr",
     "output_type": "stream",
     "text": [
      " 43%|████▎     | 3/7 [00:00<00:01,  3.46it/s]"
     ]
    },
    {
     "name": "stdout",
     "output_type": "stream",
     "text": [
      "\t\t\ttaking the whole dataframe\n"
     ]
    },
    {
     "name": "stderr",
     "output_type": "stream",
     "text": [
      " 57%|█████▋    | 4/7 [00:01<00:00,  3.40it/s]"
     ]
    },
    {
     "name": "stdout",
     "output_type": "stream",
     "text": [
      "\t\t\ttaking the whole dataframe\n"
     ]
    },
    {
     "name": "stderr",
     "output_type": "stream",
     "text": [
      " 71%|███████▏  | 5/7 [00:01<00:00,  3.33it/s]"
     ]
    },
    {
     "name": "stdout",
     "output_type": "stream",
     "text": [
      "\t\t\ttaking the whole dataframe\n"
     ]
    },
    {
     "name": "stderr",
     "output_type": "stream",
     "text": [
      " 86%|████████▌ | 6/7 [00:01<00:00,  3.41it/s]"
     ]
    },
    {
     "name": "stdout",
     "output_type": "stream",
     "text": [
      "\t\t\ttaking the whole dataframe\n"
     ]
    },
    {
     "name": "stderr",
     "output_type": "stream",
     "text": [
      "100%|██████████| 7/7 [00:02<00:00,  3.41it/s]"
     ]
    },
    {
     "name": "stdout",
     "output_type": "stream",
     "text": [
      "\t\t\ttaking the whole dataframe\n",
      "range(0, 13)\n"
     ]
    },
    {
     "name": "stderr",
     "output_type": "stream",
     "text": [
      "\n"
     ]
    },
    {
     "data": {
      "text/html": [
       "<div>\n",
       "<style scoped>\n",
       "    .dataframe tbody tr th:only-of-type {\n",
       "        vertical-align: middle;\n",
       "    }\n",
       "\n",
       "    .dataframe tbody tr th {\n",
       "        vertical-align: top;\n",
       "    }\n",
       "\n",
       "    .dataframe thead th {\n",
       "        text-align: right;\n",
       "    }\n",
       "</style>\n",
       "<table border=\"1\" class=\"dataframe\">\n",
       "  <thead>\n",
       "    <tr style=\"text-align: right;\">\n",
       "      <th></th>\n",
       "      <th>index</th>\n",
       "      <th>model</th>\n",
       "      <th>model_short</th>\n",
       "      <th>Ns</th>\n",
       "      <th>Ja</th>\n",
       "      <th>Jb</th>\n",
       "      <th>hx</th>\n",
       "      <th>hz</th>\n",
       "      <th>da</th>\n",
       "      <th>db</th>\n",
       "      <th>...</th>\n",
       "      <th>p</th>\n",
       "      <th>x</th>\n",
       "      <th>su</th>\n",
       "      <th>bc</th>\n",
       "      <th>spectrum_num</th>\n",
       "      <th>sec</th>\n",
       "      <th>Nh</th>\n",
       "      <th>S_f=1.000</th>\n",
       "      <th>S_max</th>\n",
       "      <th>S_min</th>\n",
       "    </tr>\n",
       "  </thead>\n",
       "  <tbody>\n",
       "    <tr>\n",
       "      <th>0</th>\n",
       "      <td>4</td>\n",
       "      <td>_xyz_sym,Ns=26,Ja=1.00,Jb=2.00,hx=0.00,hz=0.00...</td>\n",
       "      <td>_xyz_sym,Ns=26,Ja=1.00,Jb=2.00,hx=0.00,hz=0.00...</td>\n",
       "      <td>26.0</td>\n",
       "      <td>1.0</td>\n",
       "      <td>2.0</td>\n",
       "      <td>0.0</td>\n",
       "      <td>0.0</td>\n",
       "      <td>1.5</td>\n",
       "      <td>0.3</td>\n",
       "      <td>...</td>\n",
       "      <td>-1.0</td>\n",
       "      <td>-1.0</td>\n",
       "      <td>13.0</td>\n",
       "      <td>0.0</td>\n",
       "      <td>100720.0</td>\n",
       "      <td>real</td>\n",
       "      <td>100720</td>\n",
       "      <td>8.020164</td>\n",
       "      <td>8.351506</td>\n",
       "      <td>2.523245</td>\n",
       "    </tr>\n",
       "    <tr>\n",
       "      <th>1</th>\n",
       "      <td>8</td>\n",
       "      <td>_xyz_sym,Ns=26,Ja=1.00,Jb=2.00,hx=0.00,hz=0.00...</td>\n",
       "      <td>_xyz_sym,Ns=26,Ja=1.00,Jb=2.00,hx=0.00,hz=0.00...</td>\n",
       "      <td>26.0</td>\n",
       "      <td>1.0</td>\n",
       "      <td>2.0</td>\n",
       "      <td>0.0</td>\n",
       "      <td>0.0</td>\n",
       "      <td>1.5</td>\n",
       "      <td>0.3</td>\n",
       "      <td>...</td>\n",
       "      <td>-1.0</td>\n",
       "      <td>1.0</td>\n",
       "      <td>13.0</td>\n",
       "      <td>0.0</td>\n",
       "      <td>98830.0</td>\n",
       "      <td>real</td>\n",
       "      <td>98830</td>\n",
       "      <td>8.025442</td>\n",
       "      <td>8.350491</td>\n",
       "      <td>3.808906</td>\n",
       "    </tr>\n",
       "    <tr>\n",
       "      <th>2</th>\n",
       "      <td>14</td>\n",
       "      <td>_xyz_sym,Ns=26,Ja=1.00,Jb=2.00,hx=0.00,hz=0.00...</td>\n",
       "      <td>_xyz_sym,Ns=26,Ja=1.00,Jb=2.00,hx=0.00,hz=0.00...</td>\n",
       "      <td>26.0</td>\n",
       "      <td>1.0</td>\n",
       "      <td>2.0</td>\n",
       "      <td>0.0</td>\n",
       "      <td>0.0</td>\n",
       "      <td>1.5</td>\n",
       "      <td>0.3</td>\n",
       "      <td>...</td>\n",
       "      <td>1.0</td>\n",
       "      <td>-1.0</td>\n",
       "      <td>13.0</td>\n",
       "      <td>0.0</td>\n",
       "      <td>99134.0</td>\n",
       "      <td>real</td>\n",
       "      <td>99134</td>\n",
       "      <td>8.024240</td>\n",
       "      <td>8.350145</td>\n",
       "      <td>3.277429</td>\n",
       "    </tr>\n",
       "    <tr>\n",
       "      <th>3</th>\n",
       "      <td>18</td>\n",
       "      <td>_xyz_sym,Ns=26,Ja=1.00,Jb=2.00,hx=0.00,hz=0.00...</td>\n",
       "      <td>_xyz_sym,Ns=26,Ja=1.00,Jb=2.00,hx=0.00,hz=0.00...</td>\n",
       "      <td>26.0</td>\n",
       "      <td>1.0</td>\n",
       "      <td>2.0</td>\n",
       "      <td>0.0</td>\n",
       "      <td>0.0</td>\n",
       "      <td>1.5</td>\n",
       "      <td>0.3</td>\n",
       "      <td>...</td>\n",
       "      <td>1.0</td>\n",
       "      <td>1.0</td>\n",
       "      <td>13.0</td>\n",
       "      <td>0.0</td>\n",
       "      <td>101340.0</td>\n",
       "      <td>real</td>\n",
       "      <td>101340</td>\n",
       "      <td>8.018888</td>\n",
       "      <td>8.351007</td>\n",
       "      <td>1.654032</td>\n",
       "    </tr>\n",
       "    <tr>\n",
       "      <th>4</th>\n",
       "      <td>21</td>\n",
       "      <td>_xyz_sym,Ns=26,Ja=1.00,Jb=2.00,hx=0.00,hz=0.00...</td>\n",
       "      <td>_xyz_sym,Ns=26,Ja=1.00,Jb=2.00,hx=0.00,hz=0.00...</td>\n",
       "      <td>26.0</td>\n",
       "      <td>1.0</td>\n",
       "      <td>2.0</td>\n",
       "      <td>0.0</td>\n",
       "      <td>0.0</td>\n",
       "      <td>1.5</td>\n",
       "      <td>0.3</td>\n",
       "      <td>...</td>\n",
       "      <td>-1.0</td>\n",
       "      <td>-1.0</td>\n",
       "      <td>13.0</td>\n",
       "      <td>0.0</td>\n",
       "      <td>101340.0</td>\n",
       "      <td>real</td>\n",
       "      <td>101340</td>\n",
       "      <td>8.019077</td>\n",
       "      <td>8.351229</td>\n",
       "      <td>2.347491</td>\n",
       "    </tr>\n",
       "    <tr>\n",
       "      <th>5</th>\n",
       "      <td>26</td>\n",
       "      <td>_xyz_sym,Ns=26,Ja=1.00,Jb=2.00,hx=0.00,hz=0.00...</td>\n",
       "      <td>_xyz_sym,Ns=26,Ja=1.00,Jb=2.00,hx=0.00,hz=0.00...</td>\n",
       "      <td>26.0</td>\n",
       "      <td>1.0</td>\n",
       "      <td>2.0</td>\n",
       "      <td>0.0</td>\n",
       "      <td>0.0</td>\n",
       "      <td>1.5</td>\n",
       "      <td>0.3</td>\n",
       "      <td>...</td>\n",
       "      <td>-1.0</td>\n",
       "      <td>1.0</td>\n",
       "      <td>13.0</td>\n",
       "      <td>0.0</td>\n",
       "      <td>99134.0</td>\n",
       "      <td>real</td>\n",
       "      <td>99134</td>\n",
       "      <td>8.024353</td>\n",
       "      <td>8.350780</td>\n",
       "      <td>3.270124</td>\n",
       "    </tr>\n",
       "    <tr>\n",
       "      <th>6</th>\n",
       "      <td>29</td>\n",
       "      <td>_xyz_sym,Ns=26,Ja=1.00,Jb=2.00,hx=0.00,hz=0.00...</td>\n",
       "      <td>_xyz_sym,Ns=26,Ja=1.00,Jb=2.00,hx=0.00,hz=0.00...</td>\n",
       "      <td>26.0</td>\n",
       "      <td>1.0</td>\n",
       "      <td>2.0</td>\n",
       "      <td>0.0</td>\n",
       "      <td>0.0</td>\n",
       "      <td>1.5</td>\n",
       "      <td>0.3</td>\n",
       "      <td>...</td>\n",
       "      <td>1.0</td>\n",
       "      <td>-1.0</td>\n",
       "      <td>13.0</td>\n",
       "      <td>0.0</td>\n",
       "      <td>98830.0</td>\n",
       "      <td>real</td>\n",
       "      <td>98830</td>\n",
       "      <td>8.025313</td>\n",
       "      <td>8.352391</td>\n",
       "      <td>3.949920</td>\n",
       "    </tr>\n",
       "  </tbody>\n",
       "</table>\n",
       "<p>7 rows × 23 columns</p>\n",
       "</div>"
      ],
      "text/plain": [
       "   index                                              model  \\\n",
       "0      4  _xyz_sym,Ns=26,Ja=1.00,Jb=2.00,hx=0.00,hz=0.00...   \n",
       "1      8  _xyz_sym,Ns=26,Ja=1.00,Jb=2.00,hx=0.00,hz=0.00...   \n",
       "2     14  _xyz_sym,Ns=26,Ja=1.00,Jb=2.00,hx=0.00,hz=0.00...   \n",
       "3     18  _xyz_sym,Ns=26,Ja=1.00,Jb=2.00,hx=0.00,hz=0.00...   \n",
       "4     21  _xyz_sym,Ns=26,Ja=1.00,Jb=2.00,hx=0.00,hz=0.00...   \n",
       "5     26  _xyz_sym,Ns=26,Ja=1.00,Jb=2.00,hx=0.00,hz=0.00...   \n",
       "6     29  _xyz_sym,Ns=26,Ja=1.00,Jb=2.00,hx=0.00,hz=0.00...   \n",
       "\n",
       "                                         model_short    Ns   Ja   Jb   hx  \\\n",
       "0  _xyz_sym,Ns=26,Ja=1.00,Jb=2.00,hx=0.00,hz=0.00...  26.0  1.0  2.0  0.0   \n",
       "1  _xyz_sym,Ns=26,Ja=1.00,Jb=2.00,hx=0.00,hz=0.00...  26.0  1.0  2.0  0.0   \n",
       "2  _xyz_sym,Ns=26,Ja=1.00,Jb=2.00,hx=0.00,hz=0.00...  26.0  1.0  2.0  0.0   \n",
       "3  _xyz_sym,Ns=26,Ja=1.00,Jb=2.00,hx=0.00,hz=0.00...  26.0  1.0  2.0  0.0   \n",
       "4  _xyz_sym,Ns=26,Ja=1.00,Jb=2.00,hx=0.00,hz=0.00...  26.0  1.0  2.0  0.0   \n",
       "5  _xyz_sym,Ns=26,Ja=1.00,Jb=2.00,hx=0.00,hz=0.00...  26.0  1.0  2.0  0.0   \n",
       "6  _xyz_sym,Ns=26,Ja=1.00,Jb=2.00,hx=0.00,hz=0.00...  26.0  1.0  2.0  0.0   \n",
       "\n",
       "    hz   da   db  ...    p    x    su   bc spectrum_num   sec      Nh  \\\n",
       "0  0.0  1.5  0.3  ... -1.0 -1.0  13.0  0.0     100720.0  real  100720   \n",
       "1  0.0  1.5  0.3  ... -1.0  1.0  13.0  0.0      98830.0  real   98830   \n",
       "2  0.0  1.5  0.3  ...  1.0 -1.0  13.0  0.0      99134.0  real   99134   \n",
       "3  0.0  1.5  0.3  ...  1.0  1.0  13.0  0.0     101340.0  real  101340   \n",
       "4  0.0  1.5  0.3  ... -1.0 -1.0  13.0  0.0     101340.0  real  101340   \n",
       "5  0.0  1.5  0.3  ... -1.0  1.0  13.0  0.0      99134.0  real   99134   \n",
       "6  0.0  1.5  0.3  ...  1.0 -1.0  13.0  0.0      98830.0  real   98830   \n",
       "\n",
       "  S_f=1.000     S_max     S_min  \n",
       "0  8.020164  8.351506  2.523245  \n",
       "1  8.025442  8.350491  3.808906  \n",
       "2  8.024240  8.350145  3.277429  \n",
       "3  8.018888  8.351007  1.654032  \n",
       "4  8.019077  8.351229  2.347491  \n",
       "5  8.024353  8.350780  3.270124  \n",
       "6  8.025313  8.352391  3.949920  \n",
       "\n",
       "[7 rows x 23 columns]"
      ]
     },
     "execution_count": 4,
     "metadata": {},
     "output_type": "execute_result"
    }
   ],
   "source": [
    "jbs = [0.5, 1.0, 2.0]\n",
    "das = [0.2, 0.6, 1.5]\n",
    "param_a = 'da'\n",
    "param_b = 'Jb'\n",
    "Ls_pbc = [16, 18, 20, 22, 24, 26]\n",
    "Ls_obc = [12, 14, 16, 18, 20]\n",
    "fractions = [100, 0.25, 1.0]\n",
    "\n",
    "\n",
    "directory_save = current_dir + f'{kPSep}plot_data{kPSep}new{kPSep}size_scale_all_params{kPSep}'\n",
    "dir_all_sectors = directory_save + \"all_sectors\" + kPSep\n",
    "createFolder([directory_save, dir_all_sectors])\n",
    "\n",
    "################################### SYM ######################################\n",
    "columns = ['S_tot', 'S_pred', 'S_re', 'S_im', 'S_max', 'S_min', 'S_max_re', 'S_max_im', 'S_min_re', 'S_min_im']\n",
    "syms = [\"obc\", \"pbc\"]\n",
    "for j2 in jbs:\n",
    "    for d1 in das:\n",
    "        # iterate params\n",
    "        for frac in fractions:\n",
    "            df_obc = pd.DataFrame(np.zeros((len(Ls_obc), len(columns))), columns = columns, index=Ls_obc)\n",
    "            df_pbc = pd.DataFrame(np.zeros((len(Ls_pbc), len(columns))), columns = columns, index=Ls_pbc)\n",
    "            #print(df_obc.shape)\n",
    "            for l, Ls in enumerate([Ls_obc, Ls_pbc]):\n",
    "                sym = syms[l]\n",
    "                for L in Ls:\n",
    "                    directory = save_dir + f\"{kPSep}Data{kPSep}\"\n",
    "                    if sym == \"obc\":\n",
    "                        directory += f\"OBC{kPSep}resultsXYZ{L:.1f}{kPSep}\"\n",
    "                    else:\n",
    "                        directory += f\"resultsXYZ{L:.1f}{kPSep}\"\n",
    "                \n",
    "                    # read df\n",
    "                    df_sweep = get_log_file(directory, read_log=False, su=su)\n",
    "                    df_sweep = parse_dataframe(df_sweep, {param_b : [j2], param_a : [d1]})#df_sweep[df_sweep[param_b] == j2][df_sweep[param_a] == d1]\n",
    "                    df_sweep = df_sweep.reset_index()\n",
    "                    # calc entropies\n",
    "                    set_entropies_df_log(df_sweep, directory, fractions=[frac], verbose=False, set_max=True, set_min=True)\n",
    "                    \n",
    "                    # save csv\n",
    "                    filename = dir_all_sectors + f\"su_df_{sym}_nu={frac}_=L={L},J2={j2:.1f},d1={d1:.1f}.csv\"\n",
    "                    df_sweep.to_csv(filename)\n",
    "                    \n",
    "                    S = 0\n",
    "                    S_r = 0\n",
    "                    S_i = 0\n",
    "                    S_max_r = df_sweep[df_sweep['sec']=='real']['S_max'].max()\n",
    "                    S_min_r = df_sweep[df_sweep['sec']=='real']['S_min'].min()\n",
    "                    S_max_i = df_sweep[df_sweep['sec']=='imag']['S_max'].max() if len(df_sweep[df_sweep['sec']=='imag']['S_max']) != 0 else 0\n",
    "                    S_min_i = df_sweep[df_sweep['sec']=='imag']['S_min'].min() if len(df_sweep[df_sweep['sec']=='imag']['S_min']) != 0 else 1e13\n",
    "                    S_pred = maximal_entropy(0.5, L)\n",
    "                    # get the averages\n",
    "                    Nh = 0\n",
    "                    for idx, row in df_sweep.iterrows():\n",
    "                        n = int(row[\"spectrum_num\"])\n",
    "                        sector = row['sec']\n",
    "                        #print(sector)\n",
    "                        S_tmp = float(row[f'S_f={frac:.3f}'])\n",
    "                        if sector == 'real':\n",
    "                            S_r += n * S_tmp\n",
    "                            S += n * S_tmp\n",
    "                            Nh += row['Nh']\n",
    "                        else:\n",
    "                            S_i += n * S_tmp * 2.\n",
    "                            S += n * S_tmp * 2.\n",
    "                            Nh += row['Nh'] * 2\n",
    "                    S_r /= df_sweep[df_sweep['sec'] == 'real']['Nh'].sum()\n",
    "                    if l == 1:\n",
    "                        n = df_sweep[df_sweep['sec'] == 'imag']['Nh'].sum() * 2.0\n",
    "                        S_i /= n\n",
    "                    S /= Nh\n",
    "                    \n",
    "                    if l == 0:\n",
    "                        df_obc.loc[L] = [S, S_pred, S_r, S_i, max(S_max_r, S_max_i), min(S_min_r, S_min_i), S_max_r, S_max_i, S_min_r, S_min_i]\n",
    "                    else:\n",
    "                        df_pbc.loc[L] = [S, S_pred, S_r, S_i, max(S_max_r, S_max_i), min(S_min_r, S_min_i), S_max_r, S_max_i, S_min_r, S_min_i]\n",
    "                        \n",
    "                # dir to save\n",
    "                dir_nu = current_dir + kPSep + \"plot_data\" + kPSep + \"new\" + kPSep + \"size_scale_all_params\" + kPSep + f\"nu={frac:.2f}\" + kPSep\n",
    "                createFolder([dir_nu])\n",
    "                filename = dir_nu + f\"su_sizes_{sym}_nu={frac},J2={j2:.1f},d1={d1:.1f}\"\n",
    "                \n",
    "                if l == 0:\n",
    "                    df_obc.to_csv(filename + \".csv\")\n",
    "                    np.save(filename, df_obc.to_numpy())\n",
    "                else:\n",
    "                    df_pbc.to_csv(filename + \".csv\")\n",
    "                    np.save(filename, df_pbc.to_numpy())\n",
    "                \n",
    "df_sweep"
   ]
  },
  {
   "cell_type": "markdown",
   "metadata": {},
   "source": [
    "## GAP RATIO SWEEP"
   ]
  },
  {
   "cell_type": "code",
   "execution_count": null,
   "metadata": {},
   "outputs": [],
   "source": [
    "set_gap_ratios_df_log(df_sweep, directory, use_mls=False)"
   ]
  },
  {
   "cell_type": "code",
   "execution_count": null,
   "metadata": {},
   "outputs": [],
   "source": [
    "group_columns = ['gapratios']\n",
    "log_grouped = log_group_two_params(df_sweep, col_a=param_a, col_b=param_b, columns = group_columns)\n",
    "log_grouped"
   ]
  },
  {
   "cell_type": "code",
   "execution_count": null,
   "metadata": {},
   "outputs": [],
   "source": [
    "log_grouped = log_grouped[log_grouped.index.isin([0.2, 0.8, 1.1])]"
   ]
  },
  {
   "cell_type": "code",
   "execution_count": null,
   "metadata": {},
   "outputs": [],
   "source": [
    "#fig, axis = plt.subplots( nrows=1, ncols=2, figsize=(10,5), dpi = 100)\n",
    "fig = plt.figure(figsize=(10,5), dpi = 200)\n",
    "gs = GridSpec(nrows=1, ncols=2, width_ratios=[1, 1])\n",
    "axis = []\n",
    "axis.append(fig.add_subplot(gs[0]))\n",
    "axis.append(fig.add_subplot(gs[1]))\n",
    "\n",
    "## --- LEFT PANEL\n",
    "# Jb, da\n",
    "points_to_plot = [(0.1, 1.1), (1.0, 0.8), (0.2, 0.2), (2.0, 0.2)]\n",
    "\n",
    "xpoi = np.linspace(0, 1, 100)\n",
    "\n",
    "\n",
    "\n",
    "#axis[0].plot(xpoi, goe(xpoi), linestyle='--', color='black')\n",
    "axis[0].plot(xpoi, 27 / 4 * (( xpoi + xpoi**2 ) / ( 1 + xpoi + xpoi**2 )**(5/2)), linestyle='--', color='black')\n",
    "axis[0].plot(xpoi, 2 / (1 + xpoi)**2, linestyle='--', color='red')\n",
    "\n",
    "for [J2, da] in points_to_plot:\n",
    "    tmp = df_sweep[df_sweep['da']==da]\n",
    "    tmp = tmp[tmp['Jb'] == J2]\n",
    "\n",
    "    level_stats = read_gap_ratios_df_log(tmp, directory)\n",
    "    hist, bins = np.histogram(level_stats, bins=40, density=True)\n",
    "    axis[0].stairs(hist, bins, label=r\"$J_2=%.1f,\\Delta _1=%.1f$\"%(J2, da))\n",
    "axis[0].set_xlim(0,1)    \n",
    "axis[0].set_xlabel(\"$r$\", size = 16)\n",
    "axis[0].set_ylabel(\"$P(r)$\", size = 16)\n",
    "axis[0].legend(loc = 'upper right', frameon=False, fontsize=16, handletextpad=0.25, handlelength = 1.25, bbox_to_anchor=(1.02, 1.02))\n",
    "\n",
    "\n",
    "## --- RIGHT PANEL\n",
    "symbols = ['^', '+', 'o', 's']\n",
    "\n",
    "label_b = '$\\Delta _1$'\n",
    "label_a = '$J_2$'\n",
    "\n",
    "# plot\n",
    "for i,a in enumerate(log_grouped.index.unique()):\n",
    "    # use col_b as x values and col_a as labels\n",
    "    axis[1].plot(log_grouped.loc[a, param_b], log_grouped.loc[a,'gapratios'], label = f'{label_b}$={a}$', linewidth=0, marker = symbols[i], markersize=8)\n",
    "    \n",
    "axis[1].set_ylim(0.38, 0.54)\n",
    "axis[1].axhline(y=0.5307, ls='--', color='black', label = '$r_{GOE}$', linewidth=3)\n",
    "axis[1].axhline(y=0.3867, ls='--', color='black', label = '$r_{POI}$', linewidth=3)\n",
    "\n",
    "axis[1].set_xlabel(label_a, size = 16)\n",
    "axis[1].set_ylabel('$r$', size = 16)\n",
    "axis[1].set_xlim(0.1,1.1)\n",
    "#axis[1].set_ylim(0.47, 0.54)\n",
    "axis[1].legend(fontsize = 16)\n",
    "\n",
    "## --- COMSETICS\n",
    "\n",
    "for ax in list(axis):\n",
    "    ax.set_xscale('linear')    \n",
    "    ax.set_yscale('linear')\n",
    "    ax.tick_params(axis='both', which='major', labelsize=14)\n",
    "    ax.tick_params(axis=\"both\",which='major',direction=\"in\",length=6)\n",
    "    ax.tick_params(axis=\"both\",which='minor',direction=\"in\",length=3)\n",
    "\n",
    "axis[0].annotate(r\"$(a)$\", xy=(0.85, 0.08), fontsize=18, xycoords='axes fraction')\n",
    "axis[1].annotate(r\"$(b)$\", xy=(0.85, 0.08), fontsize=18, xycoords='axes fraction')\n",
    "fig.subplots_adjust(wspace=0.3, hspace=0.3)"
   ]
  },
  {
   "cell_type": "markdown",
   "metadata": {},
   "source": [
    "## INFORMATION ENTROPY SWEEP"
   ]
  },
  {
   "cell_type": "code",
   "execution_count": null,
   "metadata": {},
   "outputs": [],
   "source": [
    "set_info_entro_df_log(df_sweep, directory)"
   ]
  },
  {
   "cell_type": "code",
   "execution_count": null,
   "metadata": {},
   "outputs": [],
   "source": [
    "group_columns = ['S_info']\n",
    "log_grouped = log_group_two_params(df_sweep, col_a=param_a, col_b=param_b, columns = group_columns, rescale = False)\n",
    "log_grouped"
   ]
  },
  {
   "cell_type": "code",
   "execution_count": null,
   "metadata": {},
   "outputs": [],
   "source": [
    "log_grouped = log_grouped[log_grouped.index.isin([0.3, 0.5, 0.6, 0.8, 0.9, 1.1])]"
   ]
  },
  {
   "cell_type": "code",
   "execution_count": null,
   "metadata": {},
   "outputs": [],
   "source": [
    "\n",
    "label_b = '$\\Delta _1$'\n",
    "label_a = '$J_2$'\n",
    "\n",
    "# plot\n",
    "fig, ax = plt.subplots(1, figsize = (5, 5), dpi=200)\n",
    "fig.tight_layout()\n",
    "for a in log_grouped.index.unique():\n",
    "    # use col_b as x values and col_a as labels\n",
    "    ax.plot(log_grouped.loc[a, param_b], log_grouped.loc[a,'S_info'], label = f'{label_b}$={a}$', linewidth=0, marker = next(markers), markersize=8)\n",
    "    \n",
    "#ax.axhline(goe, label = '$r_{GOE}$', linestyle = \"--\", linewidth=3, color='black')\n",
    "ax.set_xlabel(label_a, size = 16)\n",
    "ax.set_ylabel('$S_{info}/\\log ( 0.48*\\mathcal{D})$', size = 16)\n",
    "ax.set_xlim(0.1,1.1)\n",
    "#ax.set_ylim(1.015, 1.030)\n",
    "#ax.set_yscale('log')\n",
    "ax.tick_params(axis='both', which='both', rotation = 0, labelsize=16)\n",
    "ax.tick_params(axis=\"both\",which='major',direction=\"in\",length=6)\n",
    "ax.tick_params(axis=\"both\",which='minor',direction=\"in\",length=3)\n",
    "#plt.ticklabel_format(axis='y', style='sci', scilimits=(3,3))\n",
    "#ax.set_title(title)\n",
    "ax.legend(fontsize = 16)"
   ]
  },
  {
   "cell_type": "markdown",
   "metadata": {},
   "source": [
    "## ENTANGLEMENT ENTROPY SWEEP"
   ]
  },
  {
   "cell_type": "code",
   "execution_count": null,
   "metadata": {},
   "outputs": [],
   "source": [
    "set_entropies_df_log(df_sweep, directory, fractions=fractions, verbose=False, set_max=True)\n"
   ]
  },
  {
   "cell_type": "code",
   "execution_count": null,
   "metadata": {},
   "outputs": [],
   "source": [
    "group_columns = [f'S_f={i:.3f}' for i in fractions]\n",
    "log_grouped = log_group_two_params(df_sweep, col_a=param_a, col_b=param_b, columns = group_columns)\n",
    "log_grouped"
   ]
  },
  {
   "cell_type": "code",
   "execution_count": null,
   "metadata": {},
   "outputs": [],
   "source": [
    "log_grouped = log_grouped[log_grouped.index.isin([0.1, 0.4, 0.7, 0.9, 1.1])]"
   ]
  },
  {
   "cell_type": "code",
   "execution_count": null,
   "metadata": {},
   "outputs": [],
   "source": [
    "\n",
    "label_b = '$\\Delta _1$'\n",
    "label_a = '$J_2$'\n",
    "\n",
    "# plot\n",
    "fig, ax = plt.subplots(1, figsize = (5, 5), dpi=200)\n",
    "fig.tight_layout()\n",
    "for a in log_grouped.index.unique():\n",
    "    # use col_b as x values and col_a as labels\n",
    "    ax.plot(log_grouped.loc[a, param_b], log_grouped.loc[a,group_columns[0]] / N, label = f'{label_b}$={a}$', linewidth=0, marker = next(markers), markersize=8)\n",
    "    \n",
    "#ax.axhline(goe, label = '$r_{GOE}$', linestyle = \"--\", linewidth=3, color='black')\n",
    "ax.set_xlabel(label_a, size = 16)\n",
    "ax.set_ylabel('$S / L$', size = 16)\n",
    "ax.set_xlim(0.0,2.0)\n",
    "#ax.set_ylim(1.015, 1.030)\n",
    "#ax.set_yscale('log')\n",
    "ax.tick_params(axis='both', which='both', rotation = 0, labelsize=16)\n",
    "\n",
    "ax.tick_params(axis=\"both\",which='major',direction=\"in\", length=6)\n",
    "ax.tick_params(axis=\"both\",which='minor',direction=\"in\", length=3)\n",
    "\n",
    "#plt.ticklabel_format(axis='y', style='sci', scilimits=(3,3))\n",
    "#[i for i in range(10)]\n",
    "a = (i for i in range(10))\n",
    "#ax.set_title(title)\n",
    "ax.legend(fontsize = 16)"
   ]
  },
  {
   "cell_type": "code",
   "execution_count": null,
   "metadata": {},
   "outputs": [],
   "source": [
    "\n",
    "label_b = '$\\Delta _a$'\n",
    "label_a = '$J_b / J_a$'\n",
    "\n",
    "# plot\n",
    "fig, ax = plt.subplots(1, figsize = (10, 8))\n",
    "\n",
    "for a in log_grouped.index.unique():\n",
    "    # use col_b as x values and col_a as labels\n",
    "    ax.plot(log_grouped.loc[a, param_b], page_val(N) - log_grouped.loc[a,group_columns[0]], label = f'{label_b}$={a}$', linewidth=0, marker = next(markers), markersize=8)\n",
    "    \n",
    "#ax.axhline(goe, label = '$r_{GOE}$', linestyle = \"--\", linewidth=3, color='black')\n",
    "ax.set_xlabel(label_a, size = 18)\n",
    "ax.set_ylabel('$S_{page} - S$', size = 18)\n",
    "ax.set_xlim(0.05,1.15)\n",
    "#ax.set_ylim(1.015, 1.030)\n",
    "#ax.set_yscale('log')\n",
    "ax.tick_params(axis='both', which='both', rotation = 0, labelsize=14)\n",
    "#plt.ticklabel_format(axis='y', style='sci', scilimits=(3,3))\n",
    "#ax.set_title(title)\n",
    "ax.legend(fontsize = 18)"
   ]
  },
  {
   "cell_type": "markdown",
   "metadata": {},
   "source": [
    "## EIGENSTATES COEFFICIENTS DISTRIBUTION"
   ]
  },
  {
   "cell_type": "markdown",
   "metadata": {},
   "source": [
    "#### GET STATES"
   ]
  },
  {
   "cell_type": "code",
   "execution_count": null,
   "metadata": {},
   "outputs": [],
   "source": [
    "params_a = df_sweep[param_a].unique().tolist()\n",
    "params_b = df_sweep[param_b].unique().tolist()\n",
    "\n",
    "\n",
    "'''\n",
    "Real - 0\n",
    "Imag - 1\n",
    "'''\n",
    "def get_states(a, b):\n",
    "    states = []\n",
    "    df_tmp = df_sweep[df_sweep[param_a] == a][df_sweep[param_b]==b]\n",
    "    for sec in ['real', 'imag']:\n",
    "        df_tmp_sec = df_tmp[df_tmp['sec'] == sec]\n",
    "        states.append(read_eigenstates_df_log(df_tmp_sec, directory, sec))\n",
    "    return states    \n",
    "\n",
    "np.array(get_states(0.2, 2.0)[0]).shape"
   ]
  },
  {
   "cell_type": "markdown",
   "metadata": {},
   "source": [
    "#### FIT FUNCTIONS"
   ]
  },
  {
   "cell_type": "code",
   "execution_count": null,
   "metadata": {},
   "outputs": [],
   "source": []
  },
  {
   "cell_type": "markdown",
   "metadata": {},
   "source": [
    "#### PLOT"
   ]
  },
  {
   "cell_type": "code",
   "execution_count": null,
   "metadata": {},
   "outputs": [],
   "source": [
    "\n",
    "#fig_dist, ax_dist = plt.subplots( nrows=1, ncols=2, figsize=(12,5), dpi = 200)\n",
    "fig_dist = plt.figure(figsize=(10,5), dpi = 200)\n",
    "fig_dist.tight_layout(pad=2.0)\n",
    "\n",
    "gs = GridSpec(nrows=1, ncols=2, width_ratios=[1, 1])\n",
    "ax_dist = []\n",
    "ax_dist.append(fig_dist.add_subplot(gs[0]))\n",
    "ax_dist.append(fig_dist.add_subplot(gs[1]))\n",
    "\n",
    "width = 0.4\n",
    "height = 0.4\n",
    "ax_inset = []\n",
    "# insert insets\n",
    "for ax in ax_dist:    \n",
    "    ax_sub = add_subplot_axes(ax, [0.98 - width, 0.98 - height, width, height])\n",
    "    ax_inset.append(ax_sub)\n",
    "\n",
    "\n",
    "print(\"hx\\tk\\tp\\tshape\\t\\tvar diff\")\n",
    "def plotter(which, params_a, params_a_dist, b, which_dist = 'chi', label_a = \"\\\\Delta ^a\"):\n",
    "    ax_all = [ax_inset[which], ax_dist[which]]\n",
    "\n",
    "    gauss = []\n",
    "    coeffs = np.array(0)\n",
    "    for a in params_a:\n",
    "        colors_inset = {\n",
    "            14: 'blue', \n",
    "            16: 'orange', \n",
    "            18: 'green', \n",
    "            20: 'red'\n",
    "            }\n",
    "        \n",
    "        # function to rescale vector\n",
    "        rescale_vec = lambda x : (x - np.mean(x))/np.sqrt(np.var(x))\n",
    "\n",
    "        # get the states\n",
    "        vec = get_states(a, b)[which]\n",
    "        \n",
    "        if which == 0:\n",
    "            coeffs = np.abs(vec)\n",
    "        else:\n",
    "            states_r = vec.real\n",
    "            states_i = vec.imag\n",
    "            \n",
    "            print(f'\\n\\t->da={a}\\n\\t\\t->var_r={np.var(states_r)},\\t->var_i={np.var(states_i)}')\n",
    "            print(f'\\t\\t->mu_r={np.mean(states_r)},\\t->mu_i={np.mean(states_i)}')\n",
    "            print(f'\\t\\t->gauss_r={gaussianity(np.abs(states_r)) - np.pi / 2 :.3e},\\t->gauss_i={gaussianity(np.abs(states_i)) - np.pi / 2 :.3e}')\n",
    "            # different types\n",
    "            if which_dist == 'chi':\n",
    "                coeffs = np.sqrt(np.square(states_i) + np.square(states_r))\n",
    "            elif which_dist == 'chi2':\n",
    "                coeffs = np.square(states_i) + np.square(states_r)\n",
    "            elif which_dist == 'folded':\n",
    "                coeffs = np.abs(states_i) + np.abs(states_r)\n",
    "        \n",
    "        hist, edge = np.histogram(coeffs, bins=200, density=True)\n",
    "        #ax_dist[which].plot(edge[:-1], hist, marker='o', markersize=1, linewidth=0.5, label=r\"$h^z=%.1f$\"%(hx))\n",
    "        if a in params_a_dist:\n",
    "            ax_dist[which].stairs(hist, edge, label=r\"$%s=%.1f$\"%(label_a, a))\n",
    "        \n",
    "        # get the gaussianity\n",
    "        gauss = gaussianity(coeffs)\n",
    "        print(\"\\tGauss=\", gauss)\n",
    "        ax_inset[which].scatter(a, gauss, color='black', s=10)\n",
    "\n",
    "\n",
    "\n",
    "    #fun_lab = r\"$f(c_n)=|c_n/\\sigma|$\" if which == 0 else r\"$f(c_n)=\\sqrt{\\left(\\Re{c_n}/\\sigma_{\\Re{c_n}}\\right)^2 + \\left(\\Im{c_n}/\\sigma_{\\Im{c_n}}\\right)^2}$\"\n",
    "    #ax_dist[which].set_title(fun_lab)\n",
    "    ylab = \"P(z)\" if which == 0 else \" \"\n",
    "    xlab = \"$z=|c_n|\\\\cdot\\\\sqrt{D}$\" if which == 0 else \"$z=|c_n|\\\\cdot\\\\sqrt{2D}$\"\n",
    "    ax_dist[which].set_xlabel(xlab, size = 16)\n",
    "    ax_dist[which].set_ylabel(ylab, size = 16)\n",
    "    ax_dist[which].set_xlim((None,None))\n",
    "    ax_dist[which].set_ylim((None,None))\n",
    "    \n",
    "    if which == 0:\n",
    "        ax_dist[which].legend(loc = 'lower left', frameon=False, fontsize=16, handletextpad=0.25, handlelength = 1.25, bbox_to_anchor=(-0.02, -0.02))\n",
    "\n",
    "    # inset \n",
    "    ax_inset[which].set_xlabel(f\"${label_a}$\", size = 12)\n",
    "    ax_inset[which].set_ylabel(\"$\\\\Gamma_\\\\Psi$\", size = 12)\n",
    "    ax_inset[which].set_xlim((None,None))\n",
    "    ax_inset[which].set_ylim((None,None))\n",
    "\n",
    "    # set ticks etc\n",
    "    for ax in list(ax_all):\n",
    "        ax.set_xlim(0.0, 0.15)\n",
    "        ax.set_xscale('linear')    \n",
    "        ax.set_yscale('linear')\n",
    "        ax.tick_params(axis=\"both\",which='major',direction=\"in\",length=6)\n",
    "        ax.tick_params(axis=\"both\",which='minor',direction=\"in\",length=3)\n",
    "        ax.set_xlim(0.0, 2.1)\n",
    "        \n",
    "    ax_all[0].set_xlim(0., 2.1)\n",
    "    # val of gaussianity\n",
    "    val = np.pi / 2 if which == 0 else 4. / np.pi\n",
    "    valname = r\"$\\pi/2$\" if which == 0 else r\"$4/\\pi$\"\n",
    "    \n",
    "    ax_all[0].axhline(y=val, ls='--', color='black')\n",
    "    yticks = [val, 1.8, 2.0, 2.2] if which == 0 else [val, 1.5, 1.8]   \n",
    "    tick_labels = [\"%.1f\"%ytic if ytic != val else valname for ytic in yticks]\n",
    "    ax_all[0].set_yticks(yticks)\n",
    "    ax_all[0].set_yticklabels(tick_labels)\n",
    "    if which == 0:  ax_all[1].set_ylim(1.3, 2.4)\n",
    "    else:           ax_all[1].set_ylim(1.1, 2.0)\n",
    "    ax_all[0].xaxis.set_minor_locator(plt.NullLocator())\n",
    "    ax_all[0].yaxis.set_minor_locator(plt.NullLocator())\n",
    "\n",
    "    # distributioon\n",
    "    ax_all[1].set_xscale('linear')\n",
    "    ax_all[1].set_yscale('log')\n",
    "    aa = np.linspace(-100.0, 100, 20000)\n",
    "    mu=0.0\n",
    "    sigma=1.\n",
    "    ax_all[1].set_ylim(1e-6, 3.0)\n",
    "    ax_all[1].set_xlim(0, 10)\n",
    "    if which == 0:    \n",
    "        ax_all[1].plot(aa, 2. / np.sqrt(2*np.pi) * np.exp( - (aa)**2 / (2)), linestyle='--', color='black')\n",
    "        ax_all[1].plot(aa, np.exp(-1.2*aa), linestyle='--', color='red')\n",
    "    else: \n",
    "        fit_val = np.array(0)\n",
    "        if which_dist == 'chi':\n",
    "            fit_val = sum_of_squares_normals_sqrt(aa)\n",
    "        elif which_dist == \"chi2\":\n",
    "            fit_val = sum_of_squares_normals(aa)\n",
    "        elif which_dist == 'folded':\n",
    "            fit_val = sum_of_folded_normals(aa, 1.0, 1.0)\n",
    "        # plot the fit\n",
    "        ax_all[1].plot(aa, fit_val, linestyle='--', color='black')\n",
    "        \n",
    "\n",
    "#plotter(0, params_a=params_a, params_a_dist = [0.1, 0.5, 1.1], b = 2.0)\n",
    "plotter(1, params_a=params_a, params_a_dist = [0.1, 0.5, 1.1], b = 2.0, which_dist = 'chi')"
   ]
  },
  {
   "cell_type": "markdown",
   "metadata": {},
   "source": [
    "\n",
    "# Arbitrary number of particles\n",
    "\n",
    "The average entanglement entropy of a uniformly distributed pure state in $\\mathcal{H}$ restricted to subsystem A is given by the Page formula:\n",
    "$$\n",
    "    \\langle S_A \\rangle = \n",
    "    \\left\\{\n",
    "    \\begin{array}{lc}\n",
    "        \\Psi(d_Ad_B+1) - \\Psi(d_B + 1) - \\frac{d_A - 1}{2d_B}, & d_A\\leq d_B \\\\\n",
    "        \\Psi(d_Ad_B+1) - \\Psi(d_A + 1) - \\frac{d_B - 1}{2d_A}, & \\text{otherwise}\n",
    "    \\end{array}\n",
    "    \\right.,\n",
    "$$\n",
    "\n",
    "where $\\Psi(x) = \\Gamma ' (x) / \\Gamma (x)$ is a digamma function.\n",
    "\n",
    "Going to a thermodynamic limit, in big systems we can fix a fraction $f = V_A/V$ so what we get is:\n",
    "$$\n",
    "    \\langle S_A \\rangle = f V\\ln 2 - 2 ^{-|1-2f|V-1} + O(2^{-V}),\n",
    "$$\n",
    "where we see the volueme law. For $f \\neq \\frac{1}{2}$, the second term is an exponentially small correction and becomes $-\\delta _{f,1/2}$ as $V\\rightarrow \\infty$.\n",
    "\n",
    "The variance is given for $d_A \\leq d_B$:\n",
    "$$\n",
    "(\\Delta S_A )^2 = \\frac{d_A + d_B}{d_Ad_B + 1}\\Psi ' (d_B + 1) - \\Psi ' (d_Ad_B + 1) - \\frac{(d_A - 1)(d_A + 2d_B - 1)}{4d_B^2(d_Ad_B + 1)},\n",
    "$$\n",
    "which again in the termodynamic limit becomes:\n",
    "$$\n",
    "(\\Delta S_A )^2 = \\left(\\frac{1}{2}-\\frac{1}{4}\\delta_{f,1/2}\\right)2^{-(1+|1-2f|)V}+o\\left(2^{-(1+|1-2f|)V}\\right)."
   ]
  },
  {
   "cell_type": "code",
   "execution_count": null,
   "metadata": {},
   "outputs": [],
   "source": [
    "directory=current_dir + f\"{kPSep}Data{kPSep}Data{kPSep}\"\n",
    "bins = 50\n",
    "params = {'hz':[0.2], 'hx':[0.3], 'da' : [0.3], 'k' : [1], 'p' : [1]}\n",
    "plot_eig_hist([16], 100, directory, params, bins = bins, dens = True)"
   ]
  },
  {
   "cell_type": "code",
   "execution_count": null,
   "metadata": {},
   "outputs": [],
   "source": [
    "L=[14, 16, 18, 20]\n",
    "fractions=[100, 0.2, 0.1]\n",
    "read_log=False\n",
    "su2=False\n",
    "verbose=False\n",
    "params = {'hz':[0.2], 'hx':[0.3], 'da' : [0.3], 'Jb' : [2.0]}\n",
    "directory=current_dir + f\"{kPSep}Data{kPSep}Data{kPSep}\"\n",
    "all_df, all_cols = plot_difference_log(L=L, fractions=fractions,\n",
    "                                       directory=directory,\n",
    "                                       params = params,\n",
    "                                       ylim=[3e-2, 0.2],\n",
    "                                       read_log=False, su2=su2, verbose=verbose)\n",
    "all_df"
   ]
  },
  {
   "cell_type": "markdown",
   "metadata": {},
   "source": [
    "# ENTROPIES FULL"
   ]
  },
  {
   "cell_type": "code",
   "execution_count": null,
   "metadata": {},
   "outputs": [],
   "source": [
    "Ls=[14, 16, 18, 20]\n",
    "bc = 0\n",
    "k = 0\n",
    "p = 1.\n",
    "x = 1.\n",
    "frac_c = 0.2\n",
    "read_log=False\n",
    "su2=False\n",
    "\n",
    "dfs = []\n",
    "ens = []\n",
    "directory_l = lambda l: directory + f\"{kPSep}resultsXYZ{l}{kPSep}\"\n",
    "for L in Ls:\n",
    "    direc = directory_l(L)\n",
    "    log = get_log_file(direc, read_log=read_log, su2=su2)\n",
    "    log = parse_dataframe(log, {'k':[k], 'p':[p], 'x':[x], 'Jb':[2.0], 'hz' : [0.2]})\n",
    "    name = log[(log['k'] == k) & (log['p']==p) & (log['x']==x)]['model_short'].iloc[0]\n",
    "    print(name)\n",
    "    file = name + \".h5\"\n",
    "    entropies, av_idx, _, _, _ = read_entropies(direc, file, 1.0, verbose=True)\n",
    "    energies = read_h5_file(direc, file, 'energy').to_numpy()\n",
    "    dfs.append(entropies)\n",
    "    ens.append(energies)\n",
    "\n",
    "plot_df_together(Ls, dfs, ens, directory, su2)\n",
    "plot_rescale_df(Ls, dfs, ens, directory, su2)\n",
    "maxima_df(Ls, dfs, ens, directory, su2=su2, bin_num=100)"
   ]
  },
  {
   "cell_type": "code",
   "execution_count": null,
   "metadata": {},
   "outputs": [],
   "source": []
  },
  {
   "cell_type": "code",
   "execution_count": null,
   "metadata": {},
   "outputs": [],
   "source": []
  }
 ],
 "metadata": {
  "kernelspec": {
   "display_name": "Python 3.9.7 ('base')",
   "language": "python",
   "name": "python3"
  },
  "language_info": {
   "codemirror_mode": {
    "name": "ipython",
    "version": 3
   },
   "file_extension": ".py",
   "mimetype": "text/x-python",
   "name": "python",
   "nbconvert_exporter": "python",
   "pygments_lexer": "ipython3",
   "version": "3.9.7"
  },
  "orig_nbformat": 4,
  "vscode": {
   "interpreter": {
    "hash": "4fc8eee665007a42edd269303f37995bd64ca5eac7b16be98d3be7ead3c26aac"
   }
  }
 },
 "nbformat": 4,
 "nbformat_minor": 2
}
