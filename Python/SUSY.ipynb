{
 "cells": [
  {
   "cell_type": "code",
   "execution_count": 1,
   "metadata": {},
   "outputs": [
    {
     "name": "stdout",
     "output_type": "stream",
     "text": [
      "['Solarize_Light2', '_classic_test_patch', '_mpl-gallery', '_mpl-gallery-nogrid', 'bmh', 'classic', 'dark_background', 'fast', 'fivethirtyeight', 'ggplot', 'grayscale', 'seaborn', 'seaborn-bright', 'seaborn-colorblind', 'seaborn-dark', 'seaborn-dark-palette', 'seaborn-darkgrid', 'seaborn-deep', 'seaborn-muted', 'seaborn-notebook', 'seaborn-paper', 'seaborn-pastel', 'seaborn-poster', 'seaborn-talk', 'seaborn-ticks', 'seaborn-white', 'seaborn-whitegrid', 'tableau-colorblind10']\n"
     ]
    }
   ],
   "source": [
    "from src.__entro_plot__ import *\n",
    "from src.__models__ import *\n",
    "from common.__common__ import *\n",
    "import scienceplots\n",
    "\n",
    "%matplotlib inline\n",
    "print(plt.style.available)\n",
    "plt.style.use(['science', 'no-latex'])\n",
    "current_dir = os.getcwd() \n",
    "save_dir = f\".{kPSep}SAVE{kPSep}SUSY{kPSep}\"\n",
    "\n",
    "# read the log file for given set of parameters\n",
    "N   =   20\n",
    "u1  =   True\n",
    "# directory = current_dir + f\"{kPSep}Data{kPSep}Data_Quater{kPSep}resultsXYZ{N}{kPSep}\"\n",
    "directory = \"{kPSep}DATA{kPSep}DATA{kPSep}\"\n",
    "# directory \n",
    "directory_s = \"{kPSep}DATA_SAVE{kPSep}\""
   ]
  },
  {
   "cell_type": "code",
   "execution_count": null,
   "metadata": {},
   "outputs": [],
   "source": []
  }
 ],
 "metadata": {
  "kernelspec": {
   "display_name": "timeseries",
   "language": "python",
   "name": "python3"
  },
  "language_info": {
   "codemirror_mode": {
    "name": "ipython",
    "version": 3
   },
   "file_extension": ".py",
   "mimetype": "text/x-python",
   "name": "python",
   "nbconvert_exporter": "python",
   "pygments_lexer": "ipython3",
   "version": "3.9.7"
  },
  "orig_nbformat": 4
 },
 "nbformat": 4,
 "nbformat_minor": 2
}
